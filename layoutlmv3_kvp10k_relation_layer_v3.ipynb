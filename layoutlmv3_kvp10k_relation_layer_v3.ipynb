{
  "nbformat": 4,
  "nbformat_minor": 0,
  "metadata": {
    "colab": {
      "provenance": [],
      "gpuType": "A100",
      "machine_shape": "hm",
      "include_colab_link": true
    },
    "kernelspec": {
      "name": "python3",
      "display_name": "Python 3"
    },
    "language_info": {
      "name": "python"
    },
    "accelerator": "GPU"
  },
  "cells": [
    {
      "cell_type": "markdown",
      "metadata": {
        "id": "view-in-github",
        "colab_type": "text"
      },
      "source": [
        "<a href=\"https://colab.research.google.com/github/667029/KVP10k/blob/main/layoutlmv3_kvp10k_relation_layer_v3.ipynb\" target=\"_parent\"><img src=\"https://colab.research.google.com/assets/colab-badge.svg\" alt=\"Open In Colab\"/></a>"
      ]
    },
    {
      "cell_type": "code",
      "source": [
        "!pip install datasets torch transformers accelerate numpy tqdm tensorflow scikit-learn"
      ],
      "metadata": {
        "colab": {
          "base_uri": "https://localhost:8080/"
        },
        "id": "XdFTecmPN2ix",
        "outputId": "57f57749-0e95-4ae1-f908-5b37df8a5515"
      },
      "execution_count": null,
      "outputs": [
        {
          "output_type": "stream",
          "name": "stdout",
          "text": [
            "Requirement already satisfied: datasets in /usr/local/lib/python3.11/dist-packages (3.5.0)\n",
            "Requirement already satisfied: torch in /usr/local/lib/python3.11/dist-packages (2.6.0+cu124)\n",
            "Requirement already satisfied: transformers in /usr/local/lib/python3.11/dist-packages (4.51.1)\n",
            "Requirement already satisfied: accelerate in /usr/local/lib/python3.11/dist-packages (1.5.2)\n",
            "Requirement already satisfied: numpy in /usr/local/lib/python3.11/dist-packages (2.0.2)\n",
            "Requirement already satisfied: tqdm in /usr/local/lib/python3.11/dist-packages (4.67.1)\n",
            "Requirement already satisfied: tensorflow in /usr/local/lib/python3.11/dist-packages (2.18.0)\n",
            "Requirement already satisfied: scikit-learn in /usr/local/lib/python3.11/dist-packages (1.6.1)\n",
            "Requirement already satisfied: filelock in /usr/local/lib/python3.11/dist-packages (from datasets) (3.18.0)\n",
            "Requirement already satisfied: pyarrow>=15.0.0 in /usr/local/lib/python3.11/dist-packages (from datasets) (18.1.0)\n",
            "Requirement already satisfied: dill<0.3.9,>=0.3.0 in /usr/local/lib/python3.11/dist-packages (from datasets) (0.3.8)\n",
            "Requirement already satisfied: pandas in /usr/local/lib/python3.11/dist-packages (from datasets) (2.2.2)\n",
            "Requirement already satisfied: requests>=2.32.2 in /usr/local/lib/python3.11/dist-packages (from datasets) (2.32.3)\n",
            "Requirement already satisfied: xxhash in /usr/local/lib/python3.11/dist-packages (from datasets) (3.5.0)\n",
            "Requirement already satisfied: multiprocess<0.70.17 in /usr/local/lib/python3.11/dist-packages (from datasets) (0.70.16)\n",
            "Requirement already satisfied: fsspec<=2024.12.0,>=2023.1.0 in /usr/local/lib/python3.11/dist-packages (from fsspec[http]<=2024.12.0,>=2023.1.0->datasets) (2024.12.0)\n",
            "Requirement already satisfied: aiohttp in /usr/local/lib/python3.11/dist-packages (from datasets) (3.11.15)\n",
            "Requirement already satisfied: huggingface-hub>=0.24.0 in /usr/local/lib/python3.11/dist-packages (from datasets) (0.30.2)\n",
            "Requirement already satisfied: packaging in /usr/local/lib/python3.11/dist-packages (from datasets) (24.2)\n",
            "Requirement already satisfied: pyyaml>=5.1 in /usr/local/lib/python3.11/dist-packages (from datasets) (6.0.2)\n",
            "Requirement already satisfied: typing-extensions>=4.10.0 in /usr/local/lib/python3.11/dist-packages (from torch) (4.13.1)\n",
            "Requirement already satisfied: networkx in /usr/local/lib/python3.11/dist-packages (from torch) (3.4.2)\n",
            "Requirement already satisfied: jinja2 in /usr/local/lib/python3.11/dist-packages (from torch) (3.1.6)\n",
            "Requirement already satisfied: nvidia-cuda-nvrtc-cu12==12.4.127 in /usr/local/lib/python3.11/dist-packages (from torch) (12.4.127)\n",
            "Requirement already satisfied: nvidia-cuda-runtime-cu12==12.4.127 in /usr/local/lib/python3.11/dist-packages (from torch) (12.4.127)\n",
            "Requirement already satisfied: nvidia-cuda-cupti-cu12==12.4.127 in /usr/local/lib/python3.11/dist-packages (from torch) (12.4.127)\n",
            "Requirement already satisfied: nvidia-cudnn-cu12==9.1.0.70 in /usr/local/lib/python3.11/dist-packages (from torch) (9.1.0.70)\n",
            "Requirement already satisfied: nvidia-cublas-cu12==12.4.5.8 in /usr/local/lib/python3.11/dist-packages (from torch) (12.4.5.8)\n",
            "Requirement already satisfied: nvidia-cufft-cu12==11.2.1.3 in /usr/local/lib/python3.11/dist-packages (from torch) (11.2.1.3)\n",
            "Requirement already satisfied: nvidia-curand-cu12==10.3.5.147 in /usr/local/lib/python3.11/dist-packages (from torch) (10.3.5.147)\n",
            "Requirement already satisfied: nvidia-cusolver-cu12==11.6.1.9 in /usr/local/lib/python3.11/dist-packages (from torch) (11.6.1.9)\n",
            "Requirement already satisfied: nvidia-cusparse-cu12==12.3.1.170 in /usr/local/lib/python3.11/dist-packages (from torch) (12.3.1.170)\n",
            "Requirement already satisfied: nvidia-cusparselt-cu12==0.6.2 in /usr/local/lib/python3.11/dist-packages (from torch) (0.6.2)\n",
            "Requirement already satisfied: nvidia-nccl-cu12==2.21.5 in /usr/local/lib/python3.11/dist-packages (from torch) (2.21.5)\n",
            "Requirement already satisfied: nvidia-nvtx-cu12==12.4.127 in /usr/local/lib/python3.11/dist-packages (from torch) (12.4.127)\n",
            "Requirement already satisfied: nvidia-nvjitlink-cu12==12.4.127 in /usr/local/lib/python3.11/dist-packages (from torch) (12.4.127)\n",
            "Requirement already satisfied: triton==3.2.0 in /usr/local/lib/python3.11/dist-packages (from torch) (3.2.0)\n",
            "Requirement already satisfied: sympy==1.13.1 in /usr/local/lib/python3.11/dist-packages (from torch) (1.13.1)\n",
            "Requirement already satisfied: mpmath<1.4,>=1.1.0 in /usr/local/lib/python3.11/dist-packages (from sympy==1.13.1->torch) (1.3.0)\n",
            "Requirement already satisfied: regex!=2019.12.17 in /usr/local/lib/python3.11/dist-packages (from transformers) (2024.11.6)\n",
            "Requirement already satisfied: tokenizers<0.22,>=0.21 in /usr/local/lib/python3.11/dist-packages (from transformers) (0.21.1)\n",
            "Requirement already satisfied: safetensors>=0.4.3 in /usr/local/lib/python3.11/dist-packages (from transformers) (0.5.3)\n",
            "Requirement already satisfied: psutil in /usr/local/lib/python3.11/dist-packages (from accelerate) (5.9.5)\n",
            "Requirement already satisfied: absl-py>=1.0.0 in /usr/local/lib/python3.11/dist-packages (from tensorflow) (1.4.0)\n",
            "Requirement already satisfied: astunparse>=1.6.0 in /usr/local/lib/python3.11/dist-packages (from tensorflow) (1.6.3)\n",
            "Requirement already satisfied: flatbuffers>=24.3.25 in /usr/local/lib/python3.11/dist-packages (from tensorflow) (25.2.10)\n",
            "Requirement already satisfied: gast!=0.5.0,!=0.5.1,!=0.5.2,>=0.2.1 in /usr/local/lib/python3.11/dist-packages (from tensorflow) (0.6.0)\n",
            "Requirement already satisfied: google-pasta>=0.1.1 in /usr/local/lib/python3.11/dist-packages (from tensorflow) (0.2.0)\n",
            "Requirement already satisfied: libclang>=13.0.0 in /usr/local/lib/python3.11/dist-packages (from tensorflow) (18.1.1)\n",
            "Requirement already satisfied: opt-einsum>=2.3.2 in /usr/local/lib/python3.11/dist-packages (from tensorflow) (3.4.0)\n",
            "Requirement already satisfied: protobuf!=4.21.0,!=4.21.1,!=4.21.2,!=4.21.3,!=4.21.4,!=4.21.5,<6.0.0dev,>=3.20.3 in /usr/local/lib/python3.11/dist-packages (from tensorflow) (5.29.4)\n",
            "Requirement already satisfied: setuptools in /usr/local/lib/python3.11/dist-packages (from tensorflow) (75.2.0)\n",
            "Requirement already satisfied: six>=1.12.0 in /usr/local/lib/python3.11/dist-packages (from tensorflow) (1.17.0)\n",
            "Requirement already satisfied: termcolor>=1.1.0 in /usr/local/lib/python3.11/dist-packages (from tensorflow) (3.0.1)\n",
            "Requirement already satisfied: wrapt>=1.11.0 in /usr/local/lib/python3.11/dist-packages (from tensorflow) (1.17.2)\n",
            "Requirement already satisfied: grpcio<2.0,>=1.24.3 in /usr/local/lib/python3.11/dist-packages (from tensorflow) (1.71.0)\n",
            "Requirement already satisfied: tensorboard<2.19,>=2.18 in /usr/local/lib/python3.11/dist-packages (from tensorflow) (2.18.0)\n",
            "Requirement already satisfied: keras>=3.5.0 in /usr/local/lib/python3.11/dist-packages (from tensorflow) (3.8.0)\n",
            "Requirement already satisfied: h5py>=3.11.0 in /usr/local/lib/python3.11/dist-packages (from tensorflow) (3.13.0)\n",
            "Requirement already satisfied: ml-dtypes<0.5.0,>=0.4.0 in /usr/local/lib/python3.11/dist-packages (from tensorflow) (0.4.1)\n",
            "Requirement already satisfied: tensorflow-io-gcs-filesystem>=0.23.1 in /usr/local/lib/python3.11/dist-packages (from tensorflow) (0.37.1)\n",
            "Requirement already satisfied: scipy>=1.6.0 in /usr/local/lib/python3.11/dist-packages (from scikit-learn) (1.14.1)\n",
            "Requirement already satisfied: joblib>=1.2.0 in /usr/local/lib/python3.11/dist-packages (from scikit-learn) (1.4.2)\n",
            "Requirement already satisfied: threadpoolctl>=3.1.0 in /usr/local/lib/python3.11/dist-packages (from scikit-learn) (3.6.0)\n",
            "Requirement already satisfied: wheel<1.0,>=0.23.0 in /usr/local/lib/python3.11/dist-packages (from astunparse>=1.6.0->tensorflow) (0.45.1)\n",
            "Requirement already satisfied: aiohappyeyeballs>=2.3.0 in /usr/local/lib/python3.11/dist-packages (from aiohttp->datasets) (2.6.1)\n",
            "Requirement already satisfied: aiosignal>=1.1.2 in /usr/local/lib/python3.11/dist-packages (from aiohttp->datasets) (1.3.2)\n",
            "Requirement already satisfied: attrs>=17.3.0 in /usr/local/lib/python3.11/dist-packages (from aiohttp->datasets) (25.3.0)\n",
            "Requirement already satisfied: frozenlist>=1.1.1 in /usr/local/lib/python3.11/dist-packages (from aiohttp->datasets) (1.5.0)\n",
            "Requirement already satisfied: multidict<7.0,>=4.5 in /usr/local/lib/python3.11/dist-packages (from aiohttp->datasets) (6.4.2)\n",
            "Requirement already satisfied: propcache>=0.2.0 in /usr/local/lib/python3.11/dist-packages (from aiohttp->datasets) (0.3.1)\n",
            "Requirement already satisfied: yarl<2.0,>=1.17.0 in /usr/local/lib/python3.11/dist-packages (from aiohttp->datasets) (1.19.0)\n",
            "Requirement already satisfied: rich in /usr/local/lib/python3.11/dist-packages (from keras>=3.5.0->tensorflow) (13.9.4)\n",
            "Requirement already satisfied: namex in /usr/local/lib/python3.11/dist-packages (from keras>=3.5.0->tensorflow) (0.0.8)\n",
            "Requirement already satisfied: optree in /usr/local/lib/python3.11/dist-packages (from keras>=3.5.0->tensorflow) (0.15.0)\n",
            "Requirement already satisfied: charset-normalizer<4,>=2 in /usr/local/lib/python3.11/dist-packages (from requests>=2.32.2->datasets) (3.4.1)\n",
            "Requirement already satisfied: idna<4,>=2.5 in /usr/local/lib/python3.11/dist-packages (from requests>=2.32.2->datasets) (3.10)\n",
            "Requirement already satisfied: urllib3<3,>=1.21.1 in /usr/local/lib/python3.11/dist-packages (from requests>=2.32.2->datasets) (2.3.0)\n",
            "Requirement already satisfied: certifi>=2017.4.17 in /usr/local/lib/python3.11/dist-packages (from requests>=2.32.2->datasets) (2025.1.31)\n",
            "Requirement already satisfied: markdown>=2.6.8 in /usr/local/lib/python3.11/dist-packages (from tensorboard<2.19,>=2.18->tensorflow) (3.7)\n",
            "Requirement already satisfied: tensorboard-data-server<0.8.0,>=0.7.0 in /usr/local/lib/python3.11/dist-packages (from tensorboard<2.19,>=2.18->tensorflow) (0.7.2)\n",
            "Requirement already satisfied: werkzeug>=1.0.1 in /usr/local/lib/python3.11/dist-packages (from tensorboard<2.19,>=2.18->tensorflow) (3.1.3)\n",
            "Requirement already satisfied: MarkupSafe>=2.0 in /usr/local/lib/python3.11/dist-packages (from jinja2->torch) (3.0.2)\n",
            "Requirement already satisfied: python-dateutil>=2.8.2 in /usr/local/lib/python3.11/dist-packages (from pandas->datasets) (2.8.2)\n",
            "Requirement already satisfied: pytz>=2020.1 in /usr/local/lib/python3.11/dist-packages (from pandas->datasets) (2025.2)\n",
            "Requirement already satisfied: tzdata>=2022.7 in /usr/local/lib/python3.11/dist-packages (from pandas->datasets) (2025.2)\n",
            "Requirement already satisfied: markdown-it-py>=2.2.0 in /usr/local/lib/python3.11/dist-packages (from rich->keras>=3.5.0->tensorflow) (3.0.0)\n",
            "Requirement already satisfied: pygments<3.0.0,>=2.13.0 in /usr/local/lib/python3.11/dist-packages (from rich->keras>=3.5.0->tensorflow) (2.18.0)\n",
            "Requirement already satisfied: mdurl~=0.1 in /usr/local/lib/python3.11/dist-packages (from markdown-it-py>=2.2.0->rich->keras>=3.5.0->tensorflow) (0.1.2)\n"
          ]
        }
      ]
    },
    {
      "cell_type": "code",
      "source": [
        "# Definerer drive lokasjon\n",
        "drive_mount_path='/content/drive'"
      ],
      "metadata": {
        "id": "xZ2_PEVbhQ7m"
      },
      "execution_count": null,
      "outputs": []
    },
    {
      "cell_type": "code",
      "source": [
        "hidden_size = 768           # Size of the hidden vectors.\n",
        "batch_size = 32             # Batch size.\n",
        "test_size_percentage = 20   # Percentage of dataset to be dedicated to test\n",
        "seed = 42                   # Seed for reproducibility."
      ],
      "metadata": {
        "id": "WiqiSaOt22RY"
      },
      "execution_count": null,
      "outputs": []
    },
    {
      "cell_type": "code",
      "source": [
        "import torch\n",
        "from datasets import load_from_disk\n",
        "import tensorflow as tf\n",
        "import numpy as np\n",
        "\n",
        "\n",
        "class DataUtil:\n",
        "    @staticmethod\n",
        "    def get_output(dataset_path=None, model_output=None, drive_mount_path=drive_mount_path,\n",
        "                   extract_hidden=False, verbose=True):\n",
        "        \"\"\"\n",
        "        Loads a Hugging Face dataset from disk (if dataset_path is provided) or returns\n",
        "        a given model_output.\n",
        "        \"\"\"\n",
        "        if dataset_path is not None:\n",
        "            try:\n",
        "                from google.colab import drive\n",
        "                drive.mount(drive_mount_path, force_remount=False)\n",
        "            except Exception as e:\n",
        "                if verbose:\n",
        "                    print(\"Google Drive may already be mounted. Continuing...\")\n",
        "            dataset = load_from_disk(dataset_path)\n",
        "            if verbose:\n",
        "                print(\"Loaded dataset from drive.\")\n",
        "                print(\"Number of samples:\", len(dataset))\n",
        "                print(\"Column names:\", dataset.column_names)\n",
        "                print(\"First sample:\", dataset[0])\n",
        "            return dataset\n",
        "        elif model_output is not None:\n",
        "            if extract_hidden:\n",
        "                if isinstance(model_output, dict) and \"hidden_states\" in model_output:\n",
        "                    model_output = model_output[\"hidden_states\"]\n",
        "                elif isinstance(model_output, (list, tuple)):\n",
        "                    model_output = model_output[-1]\n",
        "            if verbose:\n",
        "                print(\"Provided model output:\")\n",
        "                print(model_output)\n",
        "            return model_output\n",
        "        else:\n",
        "            raise ValueError(\"Please provide either a dataset_path or a model_output.\")\n",
        "\n",
        "    @staticmethod\n",
        "    def to_tf_dataset(dataset, hidden_size, batch_size=32, shuffle_buffer=1000, verbose=True):\n",
        "        \"\"\"\n",
        "        Converts a Hugging Face dataset into a tf.data.Dataset.\n",
        "        Assumes each sample contains keys \"h_i\", \"h_j\", and \"label\".\n",
        "        If the label is a sequence, the first element is used.\n",
        "        Assumes that \"h_i\" and \"h_j\" are 1D vectors (of length hidden_size).\n",
        "        \"\"\"\n",
        "        def generator():\n",
        "            for sample in dataset:\n",
        "                h_i = np.array(sample[\"h_i\"], dtype=np.float32)  # shape: (hidden_size,)\n",
        "                h_j = np.array(sample[\"h_j\"], dtype=np.float32)  # shape: (hidden_size,)\n",
        "                label_arr = np.array(sample[\"label\"], dtype=np.int32)\n",
        "                label = label_arr[0] if label_arr.ndim > 0 else label_arr\n",
        "                yield (h_i, h_j, label)\n",
        "\n",
        "        # Use first sample to determine shape.\n",
        "        first_sample = dataset[0]\n",
        "        h_i_first = np.array(first_sample[\"h_i\"], dtype=np.float32)\n",
        "        if h_i_first.ndim == 1:\n",
        "              # If h_i and h_j are fixed-length vectors.\n",
        "              output_signature = (\n",
        "                  tf.TensorSpec(shape=(hidden_size,), dtype=tf.float32),\n",
        "                  tf.TensorSpec(shape=(hidden_size,), dtype=tf.float32),\n",
        "                  tf.TensorSpec(shape=(), dtype=tf.int32)\n",
        "              )\n",
        "              ds = tf.data.Dataset.from_generator(generator, output_signature=output_signature)\n",
        "              ds = ds.shuffle(shuffle_buffer).batch(batch_size)\n",
        "        elif h_i_first.ndim == 2:\n",
        "              # h_i and h_j are sequences with shape (seq_len, hidden_size) but seq_len may vary.\n",
        "              output_signature = (\n",
        "                  tf.TensorSpec(shape=(None, hidden_size), dtype=tf.float32),\n",
        "                  tf.TensorSpec(shape=(None, hidden_size), dtype=tf.float32),\n",
        "                  tf.TensorSpec(shape=(), dtype=tf.int32)\n",
        "              )\n",
        "              ds = tf.data.Dataset.from_generator(generator, output_signature=output_signature)\n",
        "              # Use padded_batch so that all sequences in the batch are padded to the maximum length.\n",
        "              ds = ds.shuffle(shuffle_buffer).padded_batch(batch_size,\n",
        "                      padded_shapes=([None, hidden_size], [None, hidden_size], []))\n",
        "        else:\n",
        "            raise ValueError(\"Expected h_i to be 1D or 2D; got shape \" + str(h_i_first.shape))\n",
        "\n",
        "        tf_dataset = tf.data.Dataset.from_generator(generator, output_signature=output_signature)\n",
        "        tf_dataset = tf_dataset.shuffle(shuffle_buffer).batch(batch_size)\n",
        "        if verbose:\n",
        "            print(f\"Converted dataset to tf.data.Dataset with batch size {batch_size} and h_i shape {(hidden_size,)}.\")\n",
        "        return tf_dataset\n",
        "\n"
      ],
      "metadata": {
        "id": "Poz9GgAvWYTp"
      },
      "execution_count": null,
      "outputs": []
    },
    {
      "cell_type": "code",
      "source": [
        "# 1. # Hent dataset fra drive\n",
        "dataset_path = \"/content/drive/MyDrive/RE_ready/re_dataset_test_combined\"\n",
        "loaded_dataset = DataUtil.get_output(dataset_path=dataset_path)\n",
        "split_dataset = loaded_dataset.train_test_split(test_size=test_size_percentage/100, seed=seed)\n",
        "train_dataset_hf = split_dataset[\"train\"]\n",
        "test_dataset_hf = split_dataset[\"test\"]\n",
        "\n",
        "# 2. # Hent dataset fra output av layoutmvl3 modellen\n",
        "# model_output = outputs\n",
        "# dataset = DataUtil.save_output_as_dataset(model_output=model_output, verbose=True)\n"
      ],
      "metadata": {
        "colab": {
          "base_uri": "https://localhost:8080/"
        },
        "id": "NQN3xQfhL-KZ",
        "outputId": "95b08ab8-16f6-4993-eb5a-9f767c25415e"
      },
      "execution_count": null,
      "outputs": [
        {
          "output_type": "stream",
          "name": "stdout",
          "text": [
            "Drive already mounted at /content/drive; to attempt to forcibly remount, call drive.mount(\"/content/drive\", force_remount=True).\n",
            "Loaded dataset from drive.\n",
            "Number of samples: 143476\n",
            "Column names: ['h_i', 'h_j', 'label']\n",
            "First sample: {'h_i': [-0.03574247285723686, -0.015568173490464687, 0.04433594271540642, -0.2551768124103546, 0.5431303381919861, -0.052284833043813705, 0.1384091079235077, 0.27487412095069885, -0.17961081862449646, -0.10797158628702164, -0.46370697021484375, -0.14926613867282867, -0.09300041943788528, 0.06408052891492844, 0.12591618299484253, -0.3600463271141052, -0.06332714110612869, -0.20246948301792145, -0.25451621413230896, 0.36145108938217163, -0.012236740440130234, -0.0203297920525074, 0.12791365385055542, -0.06409116834402084, -0.023888980969786644, 0.1217065379023552, 0.14684250950813293, -0.341422438621521, -0.08902009576559067, 0.03113497979938984, -0.3619805574417114, -0.2470576912164688, -0.39857348799705505, -0.16561433672904968, -0.2645741105079651, -0.19168643653392792, 0.04270109906792641, 0.03634512424468994, -0.20749381184577942, -0.2225838303565979, 0.23924097418785095, 0.019254252314567566, 0.27237167954444885, 0.4337293803691864, -0.08627263456583023, -0.21004341542720795, -0.07801130414009094, 0.23768046498298645, 0.13232256472110748, 0.120881088078022, -0.0011203124886378646, -0.13611477613449097, 0.4875980317592621, 0.09635955840349197, 0.012045349925756454, -0.3245057165622711, -0.00048797373892739415, 0.4434434175491333, -0.11378578096628189, 0.009029248729348183, 0.09897717088460922, 0.08703164011240005, 0.05128940939903259, 0.003316699294373393, 0.3013937175273895, 0.2764754295349121, -0.08529026061296463, -0.2795761525630951, -0.24582430720329285, -0.10731270164251328, -0.3727997839450836, -0.19606633484363556, 0.08328764885663986, 0.15634804964065552, -0.05016361549496651, 0.25796931982040405, -0.07138624787330627, 0.299925297498703, -0.46296629309654236, 0.24317580461502075, 0.20279017090797424, 0.641695499420166, 0.12534263730049133, -0.4610838294029236, -0.2885458767414093, 0.2989596426486969, 0.16481205821037292, -0.2991410493850708, 0.05730661377310753, 0.27261272072792053, -0.39924564957618713, 0.13572372496128082, 0.1310468465089798, -0.011978653259575367, 0.46630099415779114, -0.14353042840957642, -0.2877558171749115, -0.25051149725914, -0.3484863042831421, -0.21338938176631927, -0.025165986269712448, -0.0007075861794874072, -0.18709832429885864, 0.02624695561826229, -0.011412852443754673, 0.28716275095939636, -0.3714069128036499, 0.10839570313692093, -0.23296356201171875, 0.1566888391971588, -0.08997073769569397, -0.062264468520879745, 0.276904821395874, 0.18266312777996063, -0.22289519011974335, 0.011050914414227009, 0.14940117299556732, 0.20679116249084473, -0.25079187750816345, -0.23263199627399445, 0.12190091609954834, -0.0947304219007492, 0.16629084944725037, 0.19199605286121368, 0.20864613354206085, 0.14415912330150604, 0.27145132422447205, -0.24117422103881836, -0.20168235898017883, 0.28304213285446167, -0.1500304937362671, 0.029773833230137825, 0.04225245490670204, 0.10765460133552551, 0.1018100157380104, 0.0822843536734581, 0.052241962403059006, -0.29630953073501587, 0.134955033659935, 0.10736345499753952, -0.37064987421035767, 0.03017302230000496, 0.01168037299066782, 0.1051037535071373, -0.30742329359054565, -0.34964993596076965, 0.02238251268863678, -0.14560188353061676, 0.16543081402778625, -0.15921062231063843, -0.07727306336164474, 0.07047004997730255, 0.49358275532722473, -0.08702206611633301, 0.11562296003103256, 1.3848724365234375, -0.12352561950683594, -0.013026237487792969, -0.14780732989311218, 0.17193235456943512, 0.2400895208120346, -0.2039586305618286, -0.14679159224033356, 0.14484962821006775, 0.3021318018436432, -0.10561399161815643, 0.11819815635681152, 0.18663470447063446, 0.255333811044693, -0.1997801810503006, -0.10686473548412323, 0.1064949482679367, 0.03618388995528221, -0.24153687059879303, 0.06466560065746307, 0.13427577912807465, 0.056278474628925323, -0.04452188313007355, 0.13279396295547485, -0.0051842001266777515, 0.06246558204293251, 0.23841674625873566, -0.03437076508998871, 0.20560167729854584, 0.3205113708972931, 0.40905067324638367, -0.20064383745193481, -0.3515806496143341, -0.12088694423437119, -0.27037638425827026, -0.18667227029800415, 0.2669554054737091, 0.05245015770196915, -0.38592132925987244, 0.0991106852889061, 0.38929814100265503, 0.08040446043014526, 0.08090518414974213, 0.11579281091690063, -0.015683284029364586, 0.10526464879512787, -0.2822604477405548, 0.023690879344940186, 0.41120633482933044, -0.04863160848617554, -0.03499760851264, 0.016695832833647728, 0.026802096515893936, -0.019390515983104706, -0.19272403419017792, -0.07505998760461807, 0.05964256450533867, 0.24773123860359192, -0.03429776057600975, 0.2958817183971405, 0.05503280088305473, -0.14902423322200775, 0.6311776041984558, 0.15172569453716278, 0.06917956471443176, 0.11168532818555832, 0.19872379302978516, -0.045542337000370026, -0.1555793583393097, -0.1278359442949295, 0.021882299333810806, 0.03864637762308121, -0.05815951153635979, -0.1652710884809494, 0.38911980390548706, -0.015896271914243698, -0.27793484926223755, -0.26454034447669983, 0.25503209233283997, 0.2907516062259674, -0.10857156664133072, 0.42119652032852173, 0.2525067925453186, -0.17312470078468323, 0.01765001006424427, -0.20588649809360504, 0.14125142991542816, 0.015952425077557564, 0.16937372088432312, -0.041208382695913315, 0.1641542911529541, -0.14772792160511017, -0.23555687069892883, -0.3885933756828308, 0.09516847878694534, -0.24359919130802155, 0.017242860049009323, 0.28131890296936035, -0.2574613392353058, -0.3825298249721527, 0.026575978845357895, 0.014557656832039356, 0.14337383210659027, 0.1642756164073944, 0.3213918209075928, 0.16692672669887543, 0.11654471606016159, 0.3175502121448517, -0.02452661842107773, 0.14932502806186676, -0.17460216581821442, -0.10452685505151749, 0.0006290286546573043, 0.01812214031815529, -0.5786679983139038, -0.3855169117450714, 0.2968088984489441, -0.1064520850777626, 0.27674874663352966, 0.35770148038864136, 0.07076862454414368, -0.43316900730133057, -0.09908534586429596, 0.3110557794570923, 0.007246596273034811, -0.09586446732282639, -0.17742078006267548, -0.35529857873916626, 0.14346060156822205, -0.11722806841135025, -0.007179060950875282, -0.17899110913276672, 0.02383955381810665, 0.16662222146987915, 0.20177699625492096, -0.19568663835525513, 0.051530785858631134, -0.13317790627479553, -0.14868050813674927, 0.25610867142677307, -0.1187836304306984, 0.2841816544532776, -0.1717650443315506, -0.08196964859962463, -0.05274146422743797, 0.23293785750865936, 0.0013485002564266324, 0.09475085884332657, 0.007673298474401236, -0.06843415647745132, 0.09524969756603241, -0.17706000804901123, 0.3183180093765259, -0.09850631654262543, -0.5119569897651672, 0.06382383406162262, 0.48807135224342346, -0.086705282330513, -0.03566429391503334, -0.3010934293270111, -0.13624005019664764, -0.16143281757831573, 0.14402130246162415, -0.16149316728115082, 0.35171157121658325, -0.03674865514039993, 0.1443767100572586, 0.10194876790046692, 0.3015761077404022, -0.3069777488708496, 0.3591042757034302, -0.07879835367202759, 0.5001077651977539, -0.3273301422595978, 1.025189757347107, -0.4940010607242584, -0.0003154552250634879, 0.12454057484865189, 0.3985018730163574, 0.07563386112451553, -0.1521504819393158, 0.26882487535476685, 0.1744147390127182, -0.2610169053077698, 0.00919074472039938, -0.12894056737422943, -0.3164876103401184, -0.2410830855369568, 0.17973043024539948, -0.050201185047626495, -0.05369502305984497, 0.009415367618203163, -0.1004793792963028, 0.11933102458715439, 0.567988932132721, 0.19093674421310425, -0.12425363808870316, -0.08564197272062302, -0.25301262736320496, -0.16986259818077087, 0.12446780502796173, 0.11382299661636353, 0.08927561342716217, -0.15826134383678436, -0.3293892741203308, 0.02281983010470867, 0.15325304865837097, 0.441138356924057, -0.17376956343650818, 0.06389212608337402, -0.11808344721794128, -0.23537114262580872, 0.05994671583175659, -0.3283078074455261, -0.20722061395645142, 0.22710414230823517, -0.03465554118156433, 0.044046372175216675, 0.19389547407627106, -0.02878692001104355, 0.13751818239688873, -0.11739136278629303, 0.2932562828063965, 0.34859493374824524, 0.1408327966928482, 0.14815464615821838, 0.5217351317405701, 0.011155462823808193, -0.050715431571006775, 0.06859768182039261, -0.0751287117600441, 0.20274291932582855, -0.0792786255478859, -0.31514090299606323, 0.11389697343111038, 0.002250654622912407, -0.002933397889137268, -0.008836604654788971, -0.3717767000198364, 0.00672602653503418, 0.13267672061920166, -0.04185665771365166, 0.01307128369808197, 0.031471382826566696, -0.015297644771635532, -0.14465011656284332, 0.1210983619093895, -0.2877596616744995, -0.19571146368980408, 0.2727310359477997, 0.041414521634578705, -0.085212342441082, -0.04593418166041374, 0.0922887772321701, -0.25377848744392395, -0.1644049733877182, 0.2652905583381653, -0.1611628383398056, -0.028277868404984474, -0.09542214125394821, -0.03227948397397995, -0.12556417286396027, 0.06606287509202957, 0.36980122327804565, 0.1385204792022705, 0.15138521790504456, 0.12513510882854462, -0.007369206752628088, 0.5461623072624207, 0.05593905970454216, -0.10412713885307312, 0.1409527063369751, 0.707474946975708, -0.2528572380542755, 0.17538906633853912, 0.32941964268684387, -0.07388131320476532, -0.3086889386177063, 0.1890707015991211, 0.0943085253238678, -0.26874104142189026, -0.17853671312332153, 0.15649648010730743, -0.06625888496637344, 0.10316742211580276, 0.22883707284927368, 0.23750922083854675, -0.05007370933890343, -0.06022430211305618, 0.2791741192340851, -0.17779001593589783, 0.0280191358178854, 0.034606561064720154, 0.21151216328144073, -0.048566728830337524, -0.3104530870914459, 0.04383236914873123, -0.34204766154289246, -0.7007220387458801, 0.15994484722614288, 0.8068356513977051, -0.13904881477355957, 0.07988160848617554, -0.22591695189476013, 0.013924372382462025, -0.10347248613834381, 0.24523396790027618, -0.11490439623594284, 0.2722494602203369, 0.0526236966252327, -0.24172839522361755, 0.15253454446792603, -0.16855870187282562, -0.14829811453819275, 0.1686161905527115, -0.007554363459348679, 0.18016095459461212, 0.00973919965326786, 0.0094281155616045, -0.02755589410662651, 0.27634766697883606, 0.1242746040225029, 0.07995600253343582, 0.186089888215065, -0.06726665794849396, 0.04098188877105713, 0.26840290427207947, -0.32393327355384827, 0.004776477813720703, 0.30680957436561584, -0.18232007324695587, -0.01418978814035654, -0.1991693079471588, -0.247527614235878, 0.07802572846412659, -0.42855921387672424, -0.08125971257686615, -0.25084081292152405, 0.08273418992757797, -0.16895540058612823, -0.07959557324647903, -0.09308353811502457, -0.23998570442199707, 0.24490077793598175, 0.036313220858573914, 0.1371336430311203, -0.036513857543468475, -0.15427832305431366, -0.2845882475376129, -0.07148514688014984, -0.09787655621767044, 0.11319936066865921, -0.25354573130607605, -0.4507221281528473, 0.2371816188097, -0.12164483219385147, -0.1537109762430191, 0.1389779895544052, 0.07987935841083527, 0.09873326867818832, 0.06165509670972824, 0.20369556546211243, 0.128728449344635, 0.10677755624055862, 0.057965509593486786, -0.25538215041160583, 0.14449675381183624, 0.0562903992831707, -0.26342660188674927, 0.03251337632536888, 0.09003003686666489, 0.12913505733013153, -0.05407147854566574, -0.5599137544631958, 0.1889013648033142, 0.18852099776268005, 0.4458574652671814, 0.1542830467224121, 0.17106357216835022, 0.09505125135183334, 0.06809363514184952, -0.23453812301158905, 0.1999834030866623, 0.27768442034721375, 0.2620817720890045, 0.376476526260376, -0.3104868233203888, -0.004954842384904623, -0.153359055519104, -0.12061358243227005, 0.016429251059889793, -0.046117715537548065, 0.01618260331451893, 0.14752596616744995, -0.13907229900360107, 0.16261814534664154, -0.791947603225708, 0.2599070072174072, -0.0019081691280007362, -0.014972515404224396, -0.04105972871184349, 0.0076958006247878075, 0.09251450002193451, 0.21742700040340424, 0.017084982246160507, 0.057180263102054596, 0.15299396216869354, -0.02121150679886341, 0.05759407952427864, -0.009405765682458878, -0.0850406289100647, -0.21907658874988556, 0.31454041600227356, 0.3512502908706665, -0.2322484850883484, 0.044193290174007416, -0.26435890793800354, -0.07901648432016373, 0.23625421524047852, 0.3688029646873474, 0.05759447067975998, 0.08552040159702301, -0.26354220509529114, 0.35530248284339905, 0.03817947208881378, -0.07459796965122223, 0.5144323110580444, -0.12582068145275116, 0.34373360872268677, 0.062473881989717484, 0.1476440578699112, 0.022022530436515808, 0.008356419391930103, 17.154754638671875, 0.31293177604675293, 0.13916996121406555, 0.19787688553333282, 0.20698444545269012, -0.3381430506706238, -0.26724353432655334, -0.11594250053167343, 0.19898901879787445, -0.0020974818617105484, 0.13352517783641815, 0.14298930764198303, 0.19011668860912323, -0.0163117628544569, 0.08359504491090775, -0.35964083671569824, -0.2807462215423584, 0.17329628765583038, 0.3551397919654846, 0.39040809869766235, -0.23966211080551147, -0.06070353090763092, -0.05954115465283394, -0.4047575294971466, -0.24148157238960266, 0.5295145511627197, -0.17067468166351318, -0.3742918372154236, -0.19875375926494598, 0.0815180093050003, 0.30913877487182617, -0.3287581205368042, 0.2845654785633087, -0.0364103689789772, 0.34032341837882996, -0.22241392731666565, 0.13506963849067688, -0.03417422994971275, -0.20304539799690247, -0.05799298360943794, -0.13683904707431793, -0.13376475870609283, 0.03369489312171936, 0.18706686794757843, -0.4399760365486145, -0.030765824019908905, -0.014631620608270168, 6.542131450260058e-05, 0.076252780854702, -0.06832147389650345, 0.01414920948445797, 0.020463014021515846, 0.30804625153541565, -0.30659276247024536, -0.3882419466972351, -0.4648135006427765, 0.4073328971862793, 0.039461053907871246, -0.11811786890029907, 0.0002645877539180219, 0.2266421616077423, 0.03181169554591179, -0.11155315488576889, -0.22445622086524963, 0.12392131239175797, -0.4272167682647705, 0.009858408942818642, 0.1714312732219696, 0.17328505218029022, -0.14735211431980133, 0.14285069704055786, 0.10536109656095505, -0.0015023878077045083, 0.23274017870426178, 0.4705345332622528, 0.3660968840122223, -0.10020119696855545, -0.01902068220078945, 0.017530525103211403, -0.26460152864456177, 0.017022663727402687, 0.27211111783981323, 0.19591212272644043, 0.12413958460092545, 0.05152291804552078, -0.17536818981170654, -0.05335134640336037, 0.16157253086566925, -0.05993393436074257, 0.42384660243988037, -0.09640181809663773, 0.08623242378234863, -0.2717670202255249, -0.06677501648664474, 0.20919321477413177, 0.24830861389636993, 0.3479204773902893, 0.013361667282879353, -0.4571857452392578, -0.43846994638442993, -0.0674227923154831, 0.025054585188627243, -0.19153977930545807, 0.11132107675075531, -0.027254464104771614, -0.08212074637413025, 0.6026332974433899, 0.24035485088825226, -0.13623332977294922, 0.2624708414077759, -0.10714346915483475, -0.08695590496063232, 0.10857490450143814, 0.2804112136363983, -0.05858922377228737, 0.1801227480173111, 0.0946120023727417, -0.06140681728720665, 0.5218566060066223, 0.02531486563384533, 0.04400239139795303, 0.22283658385276794, -0.10277359932661057, -0.019426539540290833, 0.1078033372759819, 0.17847321927547455, -0.19751028716564178, 0.10938599705696106, 0.09426558017730713, -0.09364503622055054, -0.31905117630958557, -0.020175088196992874, 0.14226099848747253, 0.09464456886053085, 0.1262097954750061, 0.038457032293081284, 0.12292148917913437, -0.17431221902370453, 0.35808712244033813, 0.007690967991948128, -0.26135680079460144, -0.01204800233244896, 0.014361849054694176, -0.012687117792665958, 0.3071523606777191, 0.1571180671453476, -0.27431365847587585, 0.3425239622592926, 0.20563556253910065, 0.0397317111492157, 0.24810051918029785, 0.5478388667106628, 0.06881170719861984, -0.28285497426986694, -0.17347446084022522, 0.3677508533000946, -0.09347964823246002, -0.16567622125148773, -0.13991813361644745, -0.13939310610294342, 0.2633920907974243, -0.145054429769516, 0.5885091423988342, -0.2655276358127594, -0.10365993529558182, 0.4672746956348419, 0.09059588611125946, 0.02493949979543686, 0.25766316056251526, 0.12790945172309875, 0.029380207881331444, -0.20701898634433746, 0.32719936966896057, -0.2564171552658081, 0.19568495452404022, -0.11398211121559143, -0.1444876492023468, 0.0736207365989685, 0.1015843078494072, -0.3341803252696991], 'h_j': [0.14499536156654358, 0.10870669782161713, -0.40036436915397644, 0.31169405579566956, 0.40490835905075073, -0.22186681628227234, 0.0465751513838768, 0.5845298171043396, -0.46675729751586914, 0.18351086974143982, 0.16811279952526093, -0.9460435509681702, -0.4646522104740143, 0.7309597134590149, 0.5159630179405212, -0.2759110629558563, 0.12709465622901917, -0.1625070422887802, -0.3059426546096802, 1.116247534751892, 0.7315489053726196, -0.4527755677700043, 0.1318911761045456, 0.7178104519844055, -0.054424870759248734, 0.7330166697502136, 0.41519978642463684, -0.5388078689575195, 0.6617530584335327, -0.05350954830646515, -0.1251763552427292, 0.42731913924217224, -0.1490766704082489, 0.37875765562057495, 1.4655756950378418, -0.4001203775405884, -0.3746310770511627, 0.6361541152000427, 0.12782663106918335, -1.2908214330673218, 0.9343387484550476, 0.2584235370159149, 0.5514847040176392, 0.9813675880432129, -0.6830363869667053, 0.2968848645687103, 0.06061271205544472, 1.5545028448104858, 0.18993282318115234, 0.2079261690378189, -0.21131664514541626, 0.712342381477356, 0.7166515588760376, 0.11027465015649796, 0.25471219420433044, -0.8011410236358643, -0.3199891149997711, -0.2411857694387436, -0.7658605575561523, -0.07759582996368408, -0.6441693902015686, 1.763702154159546, -0.8455283045768738, -0.37779027223587036, -0.04339867830276489, 0.011704151518642902, -0.8435635566711426, -0.3069974482059479, 0.31667134165763855, -0.43425989151000977, 0.8781115412712097, -0.15351633727550507, 0.9971904158592224, -0.038174498826265335, 0.806813657283783, -0.25599560141563416, -0.6681308150291443, -3.0170822143554688, -0.005530022084712982, -0.012992222793400288, -0.4895547032356262, 0.4230526089668274, 0.8393751978874207, 0.6056227087974548, 0.28187352418899536, 2.1565630435943604, 0.09977296739816666, -0.2736246883869171, 0.3966239392757416, 0.2516666650772095, -0.8113085031509399, 1.495934247970581, -1.1752246618270874, 0.3170727789402008, -0.14530061185359955, 1.73971426486969, -0.35131749510765076, 1.5582091808319092, -0.3987772762775421, 0.4573192298412323, 0.5103921890258789, 0.22425433993339539, -0.8422945737838745, 0.6881071329116821, 0.2775042653083801, -0.33347418904304504, -0.6121137142181396, -0.7104027271270752, -0.7069718837738037, -0.6160168051719666, 0.4290757179260254, 0.0007177393999882042, 0.6839399337768555, 1.6333788633346558, 0.3801039457321167, -0.40488147735595703, -0.022528279572725296, -0.25698620080947876, 0.6544625759124756, -0.33645451068878174, -0.6611032485961914, 0.4171220064163208, -0.5021557807922363, 0.007377313449978828, -0.3252146244049072, 0.21551822125911713, -0.36463817954063416, -0.9964538216590881, 0.4376717209815979, 1.1578880548477173, 0.5997499227523804, -0.8391067385673523, -0.28458064794540405, 0.24929793179035187, 0.4088202714920044, 0.3271230459213257, 0.5252864956855774, 0.22058510780334473, 0.295309454202652, -0.05887932702898979, -0.4963805079460144, 0.4940958619117737, -1.0017694234848022, 0.21765781939029694, 0.7383551001548767, 0.4064633548259735, -0.5972322821617126, -0.3938516080379486, 0.03894517943263054, -0.4497014284133911, -0.06367003172636032, -0.4416613280773163, 0.44520944356918335, -0.5649726390838623, -1.733499526977539, 0.7502672672271729, 0.18155314028263092, -0.47109881043434143, 0.446617990732193, 0.6542090773582458, -0.3290926516056061, 0.19752098619937897, 0.16520163416862488, -1.1009550094604492, 0.4062805771827698, 0.41332316398620605, -0.8915557861328125, 0.4781120717525482, 0.15487788617610931, 1.4346996545791626, -0.9043686389923096, -0.8902658224105835, 0.3970450758934021, -0.2384200096130371, -0.31524696946144104, 0.3903992474079132, 0.9400832056999207, 0.11973945796489716, -0.32594653964042664, 0.48802298307418823, 0.5231795907020569, 0.17961910367012024, -0.2925920784473419, 0.9491243362426758, 1.0678961277008057, 0.6467252969741821, -0.33755913376808167, -0.7840781807899475, 0.7661595940589905, -1.3587464094161987, -0.7092576622962952, 0.4310888648033142, 0.22233553230762482, 0.017854468896985054, 1.0004143714904785, 0.41393181681632996, -0.17150531709194183, 0.6887576580047607, -0.5054524540901184, 0.42952874302864075, 0.9250703454017639, -0.11272226274013519, -1.0780255794525146, -0.30430907011032104, -1.1820322275161743, -0.6350116729736328, 0.23204445838928223, -0.1652878224849701, 0.764529287815094, 0.4630974233150482, 0.6594927906990051, -1.434401512145996, 0.8714841604232788, -0.19304373860359192, 1.0910669565200806, -0.17292891442775726, 0.11961712688207626, 0.03589552640914917, 0.7022663354873657, -0.30415740609169006, -1.1001546382904053, -0.5915629863739014, -0.258868545293808, 0.6071475148200989, -0.0662992000579834, 0.4406762421131134, 0.9616722464561462, -0.46301892399787903, 0.5767678022384644, 0.5216666460037231, -0.6438851356506348, -0.13167738914489746, 0.34204068779945374, 0.24466250836849213, -0.033413149416446686, 0.020744143053889275, 1.2423778772354126, -0.09750929474830627, -0.485272616147995, 0.5585614442825317, 0.534920334815979, 0.24272462725639343, -0.2606615126132965, 0.17190754413604736, 0.5191826820373535, -0.44765302538871765, -0.2456773817539215, -1.412264108657837, -0.6786953210830688, 0.3273829519748688, -0.3068752884864807, 0.031141551211476326, 0.6192917823791504, 0.36038070917129517, 0.6313962936401367, -0.15456146001815796, 0.13156665861606598, -0.7385497093200684, 0.49881428480148315, -0.9020306468009949, -0.7613170146942139, -0.016868501901626587, -0.9327757954597473, -0.2739146053791046, -0.8542789816856384, 0.41761404275894165, 0.4321783781051636, 1.02299165725708, 1.1132031679153442, -0.6789863705635071, -1.1286585330963135, 0.12721043825149536, -1.010105848312378, 0.28413519263267517, -0.5725046396255493, 0.6196693181991577, -0.09882483631372452, -0.6399160623550415, 0.8883309364318848, -0.11081482470035553, -0.3124127984046936, 0.7111160159111023, 0.06060631200671196, 0.06823933124542236, -0.14918206632137299, 0.7529001235961914, -0.565727174282074, -0.5912097096443176, -1.3627715110778809, 0.09251245856285095, -0.055910006165504456, -0.2730790078639984, 0.7450946569442749, -0.8622627854347229, -0.1866304725408554, -0.3087899088859558, -0.401696115732193, 0.032099656760692596, -0.9867872595787048, 0.22343730926513672, -0.571466326713562, -0.3720058500766754, 0.5796391367912292, 0.08147715032100677, 0.0026246204506605864, 0.9777677059173584, 0.6630443334579468, -0.13143642246723175, -0.3186648488044739, -0.7956461310386658, 0.02070428803563118, 0.4899516999721527, 0.5666329860687256, -0.42257818579673767, 0.43844175338745117, 0.2792012393474579, -0.2853626310825348, -0.285983145236969, -0.6072922945022583, 0.1684846431016922, -0.39179596304893494, -0.24003930389881134, 0.43047425150871277, 0.12578092515468597, -0.8680494427680969, 0.2962832748889923, -0.44559139013290405, 0.23215097188949585, -0.6932281255722046, 1.2068402767181396, -0.025709880515933037, -0.6346914172172546, 0.34132474660873413, 0.7260726690292358, 0.42131319642066956, 0.7483808994293213, 0.9947136044502258, 0.20379723608493805, -0.4979283809661865, 1.0569146871566772, 0.8016048073768616, 0.6582081317901611, -0.3697259724140167, -0.3556174039840698, 0.42208239436149597, -0.0022084414958953857, 0.41885530948638916, -0.21009330451488495, -0.5374593138694763, 0.5408593416213989, 0.7218663692474365, 0.2488430291414261, -0.7058790922164917, -0.5495058298110962, -0.33455783128738403, -0.051168300211429596, -0.26462122797966003, -0.9077609181404114, 0.5290862917900085, 1.0861432552337646, -0.1411423534154892, -0.5266387462615967, 0.5540695786476135, 0.7755058407783508, 0.8524399399757385, -0.3649424910545349, 0.018663039430975914, -0.6648542284965515, 0.6219996809959412, -0.12515373528003693, 0.6466006636619568, 0.22632019221782684, 0.49487173557281494, 1.349328875541687, 0.9650143980979919, -0.553192138671875, 0.15219616889953613, -0.2759222984313965, 0.3981080949306488, -0.40522438287734985, 0.6439816355705261, -0.07796202600002289, 0.5453124046325684, 0.05740930512547493, 0.24160140752792358, 0.6274601221084595, 0.06797999143600464, 0.08904677629470825, -0.14381051063537598, -0.5452516078948975, 1.9750210046768188, -0.9488223195075989, -0.21982303261756897, 0.25442013144493103, -0.11411485821008682, -0.5294796228408813, 0.39349365234375, -0.24210825562477112, 0.7635391354560852, -0.9078104496002197, -0.5380426645278931, 0.8350827097892761, -0.6664627194404602, -0.9654877185821533, 0.2828942537307739, -0.4505564868450165, 0.6089176535606384, 0.2564346194267273, -0.4720327854156494, 0.1107788160443306, -0.5045035481452942, 0.05262615531682968, -0.3782387971878052, -0.1369667500257492, 0.1801450103521347, -0.39574676752090454, 0.45363515615463257, 1.5022343397140503, -0.537548303604126, -0.8179453015327454, 0.36755719780921936, 0.8215294480323792, -0.15747089684009552, -0.10847697407007217, -0.45628684759140015, 0.493080198764801, 0.28955239057540894, 0.7390761375427246, 0.8803539276123047, 0.8545505404472351, 0.039981480687856674, -0.12569549679756165, -0.46294105052948, -0.2792205810546875, 0.08179031312465668, 0.3605518639087677, -0.6132570505142212, -0.41297057271003723, -0.8774389028549194, -0.678683876991272, 0.6673832535743713, 0.3704582452774048, 0.6652531027793884, -0.7720280885696411, 0.06036180257797241, -0.8412190675735474, -0.15480627119541168, -0.3467203676700592, -0.6055405139923096, -0.6130510568618774, 1.5225040912628174, 0.11704321950674057, 0.13535037636756897, 0.17710372805595398, 0.943023145198822, 0.006027717608958483, 0.3221730887889862, 0.08267484605312347, -1.3076308965682983, 0.5219860076904297, 0.8976992964744568, -0.4718056321144104, -0.3182606101036072, -0.3146378993988037, -0.6753311157226562, -0.8900212049484253, -0.19429586827754974, -0.8370703458786011, -1.7059139013290405, -0.53858882188797, 0.3549250662326813, 0.20651394128799438, 0.9378645420074463, -0.26718175411224365, 0.24198251962661743, 0.2946741282939911, -0.5620476007461548, -0.7262448072433472, -0.4698539972305298, -1.2306787967681885, -0.12108807265758514, 1.4099535942077637, -0.04867727309465408, 0.0434703603386879, 0.05321841686964035, 0.28205642104148865, 0.2510823607444763, -0.7411909699440002, 0.10808773338794708, 0.4738140106201172, -0.6652638912200928, 0.9906981587409973, 0.6858342289924622, 0.2721741199493408, -0.8043161034584045, -0.28774216771125793, -1.0649775266647339, 0.4265076816082001, -0.5495835542678833, 0.5861866474151611, 0.22592245042324066, -0.15175947546958923, -0.9279409646987915, 0.5145905613899231, -0.28997114300727844, 0.2976476848125458, -0.9199317097663879, 0.18720263242721558, 0.6538809537887573, -0.05777355283498764, 0.3598698377609253, 1.483525037765503, -1.426234245300293, 0.7863706350326538, 0.09087050706148148, -0.18070648610591888, 1.02493155002594, 0.48361772298812866, -0.659997820854187, -1.2985175848007202, 0.2594278156757355, -0.18946473300457, 0.014322166331112385, -0.20399585366249084, -0.4810585677623749, 0.44010716676712036, 0.5528576970100403, -0.8521357178688049, 0.3750206232070923, 1.623565673828125, 0.4639514684677124, 0.24065542221069336, -0.12000979483127594, 0.743310272693634, 0.35438114404678345, 0.39193615317344666, 0.5627599358558655, 0.5254819393157959, -1.657889723777771, -0.4819139838218689, 1.204306960105896, -0.09937454015016556, 0.23479950428009033, -0.006220849230885506, -0.6301431655883789, 1.0878331661224365, 0.12125664949417114, -0.5490933656692505, 0.589201033115387, -0.5033974051475525, 0.08135443180799484, 1.5190035104751587, 0.09304189682006836, -1.324881672859192, -0.35813674330711365, 0.7181749939918518, 0.07598492503166199, 0.17627497017383575, -0.9609726071357727, 0.29406601190567017, -0.19557586312294006, 0.8539485335350037, -0.3109295666217804, -1.3490495681762695, -0.765689492225647, 0.6799821257591248, 0.6395692229270935, 0.7294683456420898, -0.16540423035621643, -0.33146360516548157, -1.1903738975524902, -0.48895493149757385, 0.27358773350715637, -0.2959534227848053, 0.6880879402160645, -0.9526305198669434, -0.4761141538619995, -0.1352415531873703, -0.10082924365997314, 1.1445366144180298, -1.1435022354125977, -0.5085940957069397, -0.13410517573356628, 0.10490208864212036, 0.8174356818199158, -1.3557485342025757, 1.0539352893829346, 0.3343846797943115, 2.849388599395752, 0.31994351744651794, 1.6204633712768555, -0.6297798752784729, 0.3041265606880188, -0.06553970277309418, -0.3808923661708832, 0.5716003179550171, -0.5402900576591492, -0.32038846611976624, -0.2915940582752228, 0.6936082243919373, -0.17304059863090515, -0.5658526420593262, 0.3001349866390228, 0.005709584336727858, -0.024371739476919174, 0.07178005576133728, 0.8830372095108032, 0.45272308588027954, -0.5753204822540283, 0.5997483134269714, 0.8498367071151733, 1.0588161945343018, -0.7840384840965271, -0.5044195652008057, -0.6052134037017822, 0.2529604732990265, 1.0879099369049072, -0.07661116123199463, -0.23595494031906128, -0.4750688672065735, -0.1165606677532196, -1.061306357383728, -1.1040771007537842, -0.5043831467628479, 0.2507855296134949, 0.14341026544570923, 0.4413312077522278, -0.5307371616363525, -0.17896650731563568, 0.4063776433467865, -0.39871591329574585, 0.2963321805000305, 0.10077936947345734, 0.04111078381538391, -0.5046387314796448, -0.5252663493156433, -0.2622359097003937, 1.0696293115615845, -0.7110605835914612, 0.9710142612457275, 0.19824561476707458, 0.49664294719696045, -0.18739330768585205, 0.04163177311420441, 0.4856700599193573, 0.2407526969909668, 0.24113062024116516, 0.9898244142532349, 0.02497768960893154, 0.11263300478458405, -0.4818613529205322, 1.26671302318573, 0.3408068120479584, -0.6715525388717651, -0.8237883448600769, 1.3596513271331787, -0.20868925750255585, 0.21854126453399658, -0.45940935611724854, -0.038891322910785675, 0.5549399256706238, -0.6695976257324219, 1.852057933807373, -0.5292965769767761, 0.9925286173820496, 0.37878894805908203, -0.3600221872329712, 1.3330243825912476, 0.29332083463668823, 1.7157448530197144, 1.6388492584228516, -0.5196676850318909, 0.6210780143737793, 0.008267341181635857, 0.7469159364700317, 0.17144063115119934, -0.06109052151441574, 1.1667691469192505, 0.17708826065063477, -0.07568130642175674, -0.32942554354667664, 0.09890428930521011, 0.13956500589847565, -0.9549573659896851, -0.6636544466018677, 0.2687813341617584, 0.674786388874054, -0.009724274277687073, -0.3090139925479889, 0.6718770265579224, 1.1133495569229126, -0.0078018466010689735, -0.15117858350276947, 0.08299329876899719, 0.2924607992172241, 1.2814545631408691, -1.487900733947754, 0.9729659557342529, -0.2584723234176636, -0.22396938502788544, -0.07521515339612961, -0.3625364303588867, -0.7744821310043335, -0.9642012715339661, -0.381347119808197, 0.06159764900803566, 0.9202458262443542, -0.7353144288063049, -1.7805486917495728, -0.38049766421318054, 0.49749815464019775, 0.053242336958646774, 1.0511305332183838, 0.07072228938341141, -0.4085317552089691, 0.22144559025764465, -0.3969622552394867, 1.4234925508499146, 0.4980849027633667, 1.2335822582244873, -0.7595437169075012, -0.6251435279846191, 0.44910287857055664, -0.5434787273406982, 0.851937472820282, -0.18794319033622742, -0.9844611287117004, -0.9310531616210938, -0.8167417049407959, 1.0108423233032227, 0.29968613386154175, -0.17215929925441742, 0.7801945209503174, 0.41268759965896606, 1.1382482051849365, 0.3580431640148163, 1.4492329359054565, 0.06226902827620506, -0.4719684422016144, 0.4727385342121124, -0.340909481048584, 0.7758061289787292, 1.2284363508224487, 0.7856420874595642, 0.21119283139705658, -0.12025304138660431, -0.7496435046195984, -0.2565390169620514, 0.018420185893774033, -0.4458359181880951, 0.7218045592308044, -1.84050714969635, -0.09865160286426544, -0.5203390121459961, 0.1341085284948349, -0.5262495875358582, 0.05550922825932503, 0.07754864543676376, -0.19484640657901764, -0.26687905192375183, 0.18344177305698395, 0.6820199489593506, -0.500034749507904, 1.1246116161346436, -0.9239369034767151, 0.1375405341386795, -0.4690245985984802, -0.8828998804092407], 'label': 0}\n"
          ]
        }
      ]
    },
    {
      "cell_type": "code",
      "source": [
        "import numpy as np\n",
        "import tensorflow as tf\n",
        "\n",
        "# Opprett dataset laster\n",
        "train_dataset = DataUtil.to_tf_dataset(train_dataset_hf, hidden_size=hidden_size, batch_size=32)\n",
        "\n",
        "# For visuel verifisering av datasetets oppbygging stemmer med forventninger\n",
        "for batch in train_dataset.take(1):\n",
        "    h_i_batch, h_j_batch, labels_batch = batch\n",
        "    print(\"h_i batch shape:\", h_i_batch.shape)  # Expect (batch_size, 768)\n",
        "    print(\"h_j batch shape:\", h_j_batch.shape)  # Expect (batch_size, 768)\n",
        "    print(\"labels batch shape:\", labels_batch.shape)  # Expect (batch_size,)\n",
        "\n",
        "test_dataset = DataUtil.to_tf_dataset(test_dataset_hf, hidden_size=hidden_size, batch_size=32)\n",
        "for batch in test_dataset.take(1):\n",
        "    h_i_batch, h_j_batch, labels_batch = batch\n",
        "    print(\"h_i batch shape:\", h_i_batch.shape)  # Expect (batch_size, 768)\n",
        "    print(\"h_j batch shape:\", h_j_batch.shape)  # Expect (batch_size, 768)\n",
        "    print(\"labels batch shape:\", labels_batch.shape)  # Expect (batch_size,)"
      ],
      "metadata": {
        "colab": {
          "base_uri": "https://localhost:8080/"
        },
        "id": "qpfHKhtSl2lT",
        "outputId": "8fc47e40-6b64-48ed-d777-c95d7f1c77a3"
      },
      "execution_count": null,
      "outputs": [
        {
          "output_type": "stream",
          "name": "stdout",
          "text": [
            "Converted dataset to tf.data.Dataset with batch size 32 and h_i shape (768,).\n",
            "h_i batch shape: (32, 768)\n",
            "h_j batch shape: (32, 768)\n",
            "labels batch shape: (32,)\n",
            "Converted dataset to tf.data.Dataset with batch size 32 and h_i shape (768,).\n",
            "h_i batch shape: (32, 768)\n",
            "h_j batch shape: (32, 768)\n",
            "labels batch shape: (32,)\n"
          ]
        }
      ]
    },
    {
      "cell_type": "code",
      "source": [
        "import tensorflow as tf\n",
        "\n",
        "# Define the relation extraction model as a subclass of tf.keras.Model.\n",
        "class RelationExtractionHead(tf.keras.Model):\n",
        "    def __init__(self, hidden_size, num_relations):\n",
        "        super(RelationExtractionHead, self).__init__()\n",
        "        self.head_proj = tf.keras.layers.Dense(hidden_size, activation='relu', name=\"head_proj\")\n",
        "        self.tail_proj = tf.keras.layers.Dense(hidden_size, activation='relu', name=\"tail_proj\")\n",
        "        self.combined_dense = tf.keras.layers.Dense(num_relations, name=\"combined_dense\")\n",
        "\n",
        "    def call(self, inputs, training=False):\n",
        "        h_i, h_j = inputs  # Each: (batch, hidden_size)\n",
        "        head = self.head_proj(h_i)\n",
        "        tail = self.tail_proj(h_j)\n",
        "        # Element-wise multiplication.\n",
        "        x = head * tail\n",
        "        logits = self.combined_dense(x)  # Output shape: (batch, num_relations)\n",
        "        return logits"
      ],
      "metadata": {
        "id": "FmOXaQT9mjMc"
      },
      "execution_count": null,
      "outputs": []
    },
    {
      "cell_type": "code",
      "source": [
        "import tensorflow as tf\n",
        "from tqdm import tqdm\n",
        "import matplotlib.pyplot as plt\n",
        "import numpy as np\n",
        "import random\n",
        "\n",
        "\n",
        "num_relations = 5                                 # Number of relation classes.\n",
        "num_epochs = 5                                    # Number of training epochs.\n",
        "learning_rate = 1e-4                              # Learning rate.\n",
        "sample_range_min = len(train_dataset_hf) * 0.65;   # Minimum entries per sample\n",
        "sample_range_max = len(train_dataset_hf) * 0.75;  # Maximum entries per sample\n",
        "\n",
        "model_tf = RelationExtractionHead(hidden_size=hidden_size, num_relations=num_relations)\n",
        "\n",
        "loss_fn = tf.keras.losses.SparseCategoricalCrossentropy(from_logits=True)\n",
        "optimizer = tf.keras.optimizers.Adam(learning_rate=learning_rate)\n",
        "\n",
        "num_samples = len(train_dataset_hf)\n",
        "total_batches = int(np.ceil(num_samples / batch_size))\n",
        "loss_history = []\n",
        "\n",
        "for epoch in range(num_epochs):\n",
        "    samples_this_epoch = random.randint(sample_range_min, sample_range_max)\n",
        "    total_batches = int(np.ceil(samples_this_epoch / batch_size))\n",
        "    epoch_dataset = (\n",
        "        train_dataset.unbatch()\n",
        "        .shuffle(buffer_size=10000, reshuffle_each_iteration=True)\n",
        "        .take(samples_this_epoch)\n",
        "        .batch(batch_size)\n",
        "    )\n",
        "\n",
        "    epoch_loss = 0.0\n",
        "    batches = 0\n",
        "\n",
        "    progress_bar = tqdm(epoch_dataset, desc=f\"Epoch {epoch+1}/{num_epochs}\", unit=\"batch\", total=total_batches)\n",
        "    for h_i_batch, h_j_batch, labels_batch in progress_bar:\n",
        "        with tf.GradientTape() as tape:\n",
        "            logits = model_tf((h_i_batch, h_j_batch), training=True)\n",
        "            loss_value = loss_fn(labels_batch, logits)\n",
        "        grads = tape.gradient(loss_value, model_tf.trainable_variables)\n",
        "        optimizer.apply_gradients(zip(grads, model_tf.trainable_variables))\n",
        "\n",
        "        epoch_loss += loss_value.numpy()\n",
        "        batches += 1\n",
        "        progress_bar.set_postfix(loss=loss_value.numpy())\n",
        "\n",
        "    avg_loss = epoch_loss / batches\n",
        "    loss_history.append(avg_loss)\n",
        "    print(f\"Epoch {epoch+1}/{num_epochs}, Average Loss: {avg_loss:.4f}\")\n",
        "\n",
        "plt.figure(figsize=(8, 5))\n",
        "plt.plot(range(1, num_epochs+1), loss_history, marker='o', linestyle='-')\n",
        "plt.title(\"Training Loss Over Epochs\")\n",
        "plt.xlabel(\"Epoch\")\n",
        "plt.ylabel(\"Average Loss\")\n",
        "plt.grid(True)\n",
        "plt.show()\n"
      ],
      "metadata": {
        "colab": {
          "base_uri": "https://localhost:8080/"
        },
        "id": "s3ISuPinMAi-",
        "outputId": "5d499214-a7e1-425f-a496-78f0b46f9a62"
      },
      "execution_count": null,
      "outputs": [
        {
          "output_type": "stream",
          "name": "stderr",
          "text": [
            "Epoch 1/5:  68%|██████▊   | 1741/2578 [02:30<01:04, 12.95batch/s, loss=0.000275]"
          ]
        }
      ]
    },
    {
      "cell_type": "code",
      "source": [
        "import tensorflow as tf\n",
        "import numpy as np\n",
        "from sklearn.metrics import classification_report\n",
        "\n",
        "\n",
        "class RelationModelTesterTF:\n",
        "    def __init__(self, model, dataset, batch_size=32):\n",
        "        self.model = model\n",
        "        # Assume the dataset is not already batched:\n",
        "        self.dataset = dataset.batch(batch_size)\n",
        "\n",
        "    def evaluate(self, total_batches=None):\n",
        "        all_predictions = []\n",
        "        all_ground_truths = []\n",
        "\n",
        "        # If total_batches is not provided, calculate it by iterating through the dataset.\n",
        "        if total_batches is None:\n",
        "            total_batches = sum(1 for _ in self.dataset)\n",
        "\n",
        "        progress_bar = tqdm(self.dataset, desc=\"Evaluating\", unit=\"batch\", total=total_batches)\n",
        "        for h_i_batch, h_j_batch, labels_batch in progress_bar:\n",
        "            logits = self.model((h_i_batch, h_j_batch), training=False)\n",
        "            preds = tf.argmax(logits, axis=-1)\n",
        "            all_predictions.extend(preds.numpy().tolist())\n",
        "            all_ground_truths.extend(labels_batch.numpy().tolist())\n",
        "\n",
        "        all_predictions = np.array(all_predictions)\n",
        "        all_ground_truths = np.array(all_ground_truths)\n",
        "        accuracy = np.mean(all_predictions == all_ground_truths)\n",
        "        report = classification_report(all_ground_truths, all_predictions, digits=4)\n",
        "        print(\"Classification Report:\\n\", report)\n",
        "        print(\"Overall Accuracy: {:.2f}%\".format(accuracy * 100))\n",
        "\n",
        "        return {\n",
        "            \"predictions\": all_predictions,\n",
        "            \"ground_truth\": all_ground_truths,\n",
        "            \"accuracy\": accuracy\n",
        "        }"
      ],
      "metadata": {
        "id": "ftwY38OpUYze"
      },
      "execution_count": null,
      "outputs": []
    },
    {
      "cell_type": "code",
      "source": [
        "tester = RelationModelTesterTF(model_tf, train_dataset, batch_size=32)\n",
        "results = tester.evaluate()\n",
        "\n",
        "print(\"Test Accuracy: {:.2f}%\".format(results[\"accuracy\"] * 100))\n",
        "print(\"Example Predictions (first 10 samples):\", results[\"predictions\"][:10])\n",
        "\n",
        "# Print out a mapping for a few samples (e.g., the first 10)\n",
        "print(\"Sample-wise Predictions:\")\n",
        "for i in range(min(10, len(results[\"predictions\"]))):\n",
        "    true_label = results[\"ground_truth\"][i]\n",
        "    predicted_label = results[\"predictions\"][i]\n",
        "    probabilities = results[\"probabilities\"][i]\n",
        "    print(f\"Sample {i}: True Label = {true_label} | Predicted Label = {predicted_label} | Probabilities = {probabilities}\")"
      ],
      "metadata": {
        "id": "Jlkzukx1UbLB"
      },
      "execution_count": null,
      "outputs": []
    }
  ]
}
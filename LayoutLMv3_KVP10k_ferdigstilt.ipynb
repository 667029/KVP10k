{
  "cells": [
    {
      "cell_type": "markdown",
      "metadata": {
        "id": "view-in-github",
        "colab_type": "text"
      },
      "source": [
        "<a href=\"https://colab.research.google.com/github/667029/KVP10k/blob/main/LayoutLMv3_KVP10k_ferdigstilt.ipynb\" target=\"_parent\"><img src=\"https://colab.research.google.com/assets/colab-badge.svg\" alt=\"Open In Colab\"/></a>"
      ]
    },
    {
      "cell_type": "markdown",
      "metadata": {
        "id": "VofLEluS_HIY"
      },
      "source": [
        "#Dokumentforståelse med LayoutLMv3 på KVP10k-datasettet\n",
        "\n",
        "Denne notebooken demonstrerer hvordan vi henter inn en preprossessert og tilpasset versjon av KVP10k-datasettet i Hugging Face-format, til å utføre **Key-Value Pair Extraction (KVP)** på  dokumentbilder.\n",
        "\n",
        "- Datasettet består av over 10k forretningsdokumenter, og inneholder blant annet dokumentbilder og tilhørende nøkkel-verdi-par, som brukes av denne fine-tuned modellen som utvikles her.\n",
        "\n",
        "- Sluttmålet er å utvikle og trene en ny modell til dokumentforståelse, ved å forstå **visuell layout**, **tekstlig innhold**, og **relasjoner mellom nøkler og verdier** i dokumentene.\n",
        "  - KVP-Extraction modellen som utvikles i denne notebooken er tenkt å brukes grunnmur i sluttmodellen, for å med stor sannsynlighet beherske å linke mellom nøkkel-verdi-par i ulike dokumenter.\n",
        "\n",
        "LayoutLMv3 er en multi-modal modell designet for å kombinere tekst, layout og annen bilde-informasjon\n",
        "\n",
        "---\n",
        "\n",
        "###**Notbooken dekker følgende steg**:\n",
        "\n",
        "1. Installasjon av de nødendige biblioteker\n",
        "2. Lasting av forhåndsprosessert datasett\n",
        "3. Tokenisering av tekst og input-formatering med Layout sin Processor\n",
        "- 3.1 Logikk for å anngi predikerte BIO-labels til dokumentets bbox'es\n",
        "4. Trening av modell for token-klassifisering\n",
        "5. Evaluering og lagring av modell i Drive\n",
        "6. Visualisering av modell under inferense\n",
        "\n",
        "---\n",
        "\n",
        "###**LayoutLMv3Processor - gjør følgende**:\n",
        "1. Tekst-tokenisering: Tekst fra dokumentet tokeniseres.\n",
        "2. Token-connection: Hvert token kobles til en bounding box (bbox) på dokumentet, gjennom *boxes*-parmeteret som inneholder (x0,y0,x1,y1)-kordinater til hvert token.\n",
        "3. Image-embedding: Dokumentbildet skaleres og legges og blir input til modellen\n",
        "4. Label-alignment: Hvert token får en BIO-label, som brukes under modellens token-klassifisering\n",
        "\n",
        "Tokeniseringen handler om å forvandle dokumentet til tokens med alle nødvendige modaliteter (tekst, layout og bilde) slik at modellen lærer sammenhengen mellom dem gjennom trening.\n",
        "\n",
        "**Det brukes BIO-tagger, og dette er hva det står for:**\n",
        " - B --> Begin: første token i en entitet.\n",
        " - I --> Inside: inne i en entitet.\n",
        " - O --> Outside: tokenen er ikke en del av noen entitet\n",
        "\n",
        "f.eks.\n",
        "  - Tokens:  [\"Name\", \"of\", \"buyer\", \":\", \"Ole\", \"Martin\", \"Lystadmoen\"]\n",
        "  - Labels:  [\"B-KEY\", \"I-KEY\", \"I-KEY\", \"O\", \"B-VALUE\", \"I-VALUE\", \"I-VALUE\"]"
      ]
    },
    {
      "cell_type": "markdown",
      "metadata": {
        "id": "Y0NSOqNmukkk"
      },
      "source": [
        "# Dataset - forståelse\n",
        "\n",
        "**Innhold i train/-mappen i KVP10k:**\n",
        "_____\n",
        "  - *images*/ --> .png bilder av hvert dokument. Visuell input for modellen.\n",
        "    - Det modellen \"ser\".\n",
        "_____\n",
        "\n",
        "  - *ocrs*/ --> JSON-filer med **words** og **bboxes** for hvert dokument. Gir tekst og posisjoner fra OCR, og brukes sammen med images.\n",
        "    - Det modellen \"leser\" (tokens og posisjonene deres).\n",
        "\n",
        "_____\n",
        "\n",
        "  - *gts*/ --> JSON-filer med KVPs og tilhørende bboxes. Inneholder hvilke keys og values som hører sammen.\n",
        "    - Det som lærer modellen hvilke tokens som er nøkler, verdier, og hvilket som er koblet sammen.\n",
        "_____\n",
        "\n",
        "  - *items*/ --> JSON-filer med annotasjoner og layout-objs (rektangler, linker, etiketter)\n",
        "    - tilleggsinformasjon\n",
        "    - ikke viktig i for EE\n",
        "    - Helt nødvendig i RE-delen av dette prosjektet\n",
        "_____"
      ]
    },
    {
      "cell_type": "code",
      "execution_count": null,
      "metadata": {
        "collapsed": true,
        "id": "TqejcrWXvnoL"
      },
      "outputs": [],
      "source": [
        "#transformers: Hugging Face bibliotek som gir tilgang til LayoutLMv3\n",
        "#datasets: For håndtering av dataset i Huggig Face-format\n",
        "#seqeval: evalueringsbibliotek for sekvensmerking, brukes for måle metrikker for i dette tilfelle BIO-tagging\n",
        "!pip install -q transformers datasets seqeval"
      ]
    },
    {
      "cell_type": "code",
      "execution_count": null,
      "metadata": {
        "id": "Av-n3h6jaou3"
      },
      "outputs": [],
      "source": [
        "#Håndterer ulike metrikker inkl. integrasjon med seqeval\n",
        "!pip install -q evaluate"
      ]
    },
    {
      "cell_type": "code",
      "execution_count": null,
      "metadata": {
        "id": "GE27SIYc2Y2y"
      },
      "outputs": [],
      "source": [
        "import os              #navigere mapper og filer, hente filbaner\n",
        "from PIL import Image  #åpne, vise og manipulere bilder\n",
        "import json            #lese/skrive til JSON-filer\n",
        "from transformers import LayoutLMv3Processor\n",
        "import torch           #modellens input-format for data\n",
        "from google.colab import drive"
      ]
    },
    {
      "cell_type": "code",
      "execution_count": null,
      "metadata": {
        "id": "8Uup0eV5_usd"
      },
      "outputs": [],
      "source": [
        "drive.mount('/content/drive')"
      ]
    },
    {
      "cell_type": "code",
      "execution_count": null,
      "metadata": {
        "id": "QW4eqj9o2trD"
      },
      "outputs": [],
      "source": [
        "base_path = \"/content/drive/MyDrive/DAT255/KVP10k-dataset/kvp10k/\"\n",
        "print(os.listdir(base_path))"
      ]
    },
    {
      "cell_type": "code",
      "execution_count": null,
      "metadata": {
        "id": "WYm7ncZw_lSW"
      },
      "outputs": [],
      "source": [
        "processor = LayoutLMv3Processor.from_pretrained(\"microsoft/layoutlmv3-base\", apply_ocr=False) # <-- Viktig fordi vi allerede har utført OCR på bildet og har tekst og bboxes"
      ]
    },
    {
      "cell_type": "code",
      "execution_count": null,
      "metadata": {
        "id": "RsRz3cC2_8mj"
      },
      "outputs": [],
      "source": [
        "# Mapping fra tekstlige BIO-labels til tall som modellen bruker\n",
        "label_map = {\n",
        "    \"O\": 0,\n",
        "    \"B-KEY\": 1,\n",
        "    \"I-KEY\": 2,\n",
        "    \"B-VALUE\": 3,\n",
        "    \"I-VALUE\": 4,\n",
        "}\n",
        "\n",
        "# Funksjon for å skalere bounding boxes til 0-1000 (som LayoutLMv3 krever)\n",
        "def normalize_bbox(bbox, width, height):\n",
        "  return [\n",
        "      int(1000 * (bbox[0] /width)),\n",
        "      int(1000 * (bbox[1] / height)),\n",
        "      int(1000 * (bbox[2] / width)),\n",
        "      int(1000 * (bbox[3] / height))\n",
        "  ]\n",
        "\n",
        "\n",
        "def assign_label_for_box(box, boxes, label_type):\n",
        "  \"\"\"Returnerer liste med (index, label) for tokens som overlapper box\"\"\"\n",
        "  overlaps = []\n",
        "  for i, token_box in enumerate(boxes):\n",
        "    if box_overlap(box, token_box) > 0:\n",
        "      overlaps.append(i)\n",
        "\n",
        "  overlaps = sorted(overlaps)\n",
        "\n",
        "  labeled = []\n",
        "  for j, idx in enumerate(overlaps):\n",
        "    tag = f\"B-{label_type}\" if j == 0 else f\"I-{label_type}\"\n",
        "    labeled.append((idx, tag))\n",
        "\n",
        "  return labeled\n",
        "\n",
        "\n",
        "#Sjekker om OCR-boksen overlapper med GTS(key/value)-boksen.\n",
        "#Ved overlapp hører de til hverandre.\n",
        "def box_overlap(box1, box2):\n",
        "  x0 = max(box1[0], box2[0])\n",
        "  y0 = max(box1[1], box2[1])\n",
        "  x1 = min(box1[2], box2[2])\n",
        "  y1 = min(box1[3], box2[3])\n",
        "  return max(0, x1 - x0) * max(0, y1 - y0)\n",
        "\n",
        "\n",
        "# Funksjon for å generere BIO-labels fra gts (ground truth).\n",
        "# Lager en BIO-label for hvert token basert på om det overlapper med en key- eller value-boks fra GTS.\n",
        "# Matcher hvert token fra OCR (word + bbox) mot key/value-bbokser fra gts:\n",
        "# --> Token overlapper en nøkkelboks: B-KEY eller I-KEY\n",
        "# --> Token overlapper en verdiboks: B-VALUE eller I-VALUE\n",
        "# --> Ellers: O\n",
        "def iob_from_kvps(words, boxes, kvps):\n",
        "  labels = [\"O\"] * len(words)\n",
        "\n",
        "  #Gå igjennom alle key-value-pairs\n",
        "  for kvp in kvps:\n",
        "    if \"key\" in kvp and \"bbox\" in kvp[\"key\"]:\n",
        "      key_bbox = kvp[\"key\"][\"bbox\"]\n",
        "      for idx, tag in assign_label_for_box(key_bbox, boxes, \"KEY\"):\n",
        "        labels[idx] = tag\n",
        "\n",
        "    if \"value\" in kvp and \"bbox\" in kvp[\"value\"]:\n",
        "      value_box = kvp[\"value\"][\"bbox\"]\n",
        "      for idx, tag in assign_label_for_box(value_box, boxes, \"VALUE\"):\n",
        "        labels[idx] = tag\n",
        "\n",
        "  return labels"
      ]
    },
    {
      "cell_type": "code",
      "execution_count": null,
      "metadata": {
        "id": "94wyjeWiRmJG"
      },
      "outputs": [],
      "source": [
        "!ls -lh /content/drive/MyDrive/KVP10k_processed_ready\n"
      ]
    },
    {
      "cell_type": "markdown",
      "metadata": {
        "id": "Xl8UG_z9fMpK"
      },
      "source": [
        "#Innlasting av et allerede pre-prossesert KVP10k-dataset spesielt utviklet for LayoutLMv3 (KVP-extraction).\n",
        "##Ikke kjør denne!\n",
        "\n",
        "NB: Dette prosessen gjøres i en annen notebook, vi henter inn resultatet her for å spare notebooken for plass og ryddighet.\n",
        "\n",
        "Datasettet som lastes inn er på omlag 8600 dokumenter da det er antall dokumenter med ground-truths (gts)."
      ]
    },
    {
      "cell_type": "code",
      "execution_count": null,
      "metadata": {
        "id": "mrLS234HQhcG"
      },
      "outputs": [],
      "source": [
        "from google.colab import drive\n",
        "from datasets import load_from_disk\n",
        "\n",
        "# Monter Drive (hvis du ikke har gjort det)\n",
        "drive.mount(\"/content/drive\", force_remount=True)\n",
        "\n",
        "# Last inn dataset fra riktig path\n",
        "dataset = load_from_disk(\"/content/drive/MyDrive/KVP10k_processed_ready/dataset_all_gts\")\n",
        "\n",
        "# Hent splits\n",
        "train_dataset = dataset[\"train\"]\n",
        "eval_dataset = dataset[\"eval\"]\n",
        "test_dataset = dataset[\"test\"]\n",
        "\n",
        "# (Valgfritt) Gjør klar for huggingface Trainer\n",
        "train_dataset.set_format(\"torch\")\n",
        "eval_dataset.set_format(\"torch\")\n",
        "test_dataset.set_format(\"torch\")\n",
        "\n",
        "# Sjekk at alt fungerer\n",
        "print(\"✅ Datasett lastet inn!\")\n",
        "print(\"Train:\", len(train_dataset))\n",
        "print(\"Eval:\", len(eval_dataset))\n",
        "print(\"Test:\", len(test_dataset))\n",
        "print(\"Keys:\", train_dataset[0].keys())"
      ]
    },
    {
      "cell_type": "code",
      "execution_count": null,
      "metadata": {
        "id": "Ya332BhmGLt_"
      },
      "outputs": [],
      "source": [
        "train_dataset.features"
      ]
    },
    {
      "cell_type": "code",
      "execution_count": null,
      "metadata": {
        "collapsed": true,
        "id": "EB3kZmZpTu-m"
      },
      "outputs": [],
      "source": [
        "example = train_dataset[0]\n",
        "for k,v in example.items():\n",
        "    print(k,v.shape)"
      ]
    },
    {
      "cell_type": "code",
      "execution_count": null,
      "metadata": {
        "collapsed": true,
        "id": "GTN1cXBYTynu"
      },
      "outputs": [],
      "source": [
        "processor.tokenizer.decode(train_dataset[0][\"input_ids\"])"
      ]
    },
    {
      "cell_type": "code",
      "execution_count": null,
      "metadata": {
        "collapsed": true,
        "id": "hhU1sClvWGOS"
      },
      "outputs": [],
      "source": [
        "for id, label in zip(train_dataset[0][\"input_ids\"], train_dataset[0][\"labels\"]):\n",
        "  print(processor.tokenizer.decode([id]), label.item())"
      ]
    },
    {
      "cell_type": "code",
      "execution_count": null,
      "metadata": {
        "id": "WmYZ6LnbaWTv"
      },
      "outputs": [],
      "source": [
        "from evaluate import load\n",
        "metric = load(\"seqeval\")"
      ]
    },
    {
      "cell_type": "code",
      "execution_count": null,
      "metadata": {
        "id": "0nAjhdhwa1fh"
      },
      "outputs": [],
      "source": [
        "import numpy as np\n",
        "\n",
        "label_list = [\"O\", \"B-KEY\", \"I-KEY\", \"B-VALUE\", \"I-VALUE\"]\n",
        "label2id = {label: i for i, label in enumerate(label_list)}\n",
        "id2label = {i: label for i, label in enumerate(label_list)}\n",
        "\n",
        "\n",
        "def compute_metrics(p):\n",
        "    predictions, labels = p\n",
        "    predictions = np.argmax(predictions, axis=2)\n",
        "\n",
        "    true_predictions = [\n",
        "        [id2label[p] for (p, l) in zip(prediction, label) if l != -100]\n",
        "        for prediction, label in zip(predictions, labels)\n",
        "    ]\n",
        "    true_labels = [\n",
        "        [id2label[l] for (p, l) in zip(prediction, label) if l != -100]\n",
        "        for prediction, label in zip(predictions, labels)\n",
        "    ]\n",
        "\n",
        "    results = metric.compute(predictions=true_predictions, references=true_labels)\n",
        "    return {\n",
        "        \"precision\": results[\"overall_precision\"],\n",
        "        \"recall\": results[\"overall_recall\"],\n",
        "        \"f1\": results[\"overall_f1\"],\n",
        "        \"accuracy\": results[\"overall_accuracy\"],\n",
        "    }"
      ]
    },
    {
      "cell_type": "markdown",
      "metadata": {
        "id": "NrotUlpib9Mh"
      },
      "source": [
        "#Innlasting av modell, valg av hyperparams og modell-argumenter"
      ]
    },
    {
      "cell_type": "code",
      "execution_count": null,
      "metadata": {
        "id": "_DzA5KFAdeA8"
      },
      "outputs": [],
      "source": [
        "from transformers import LayoutLMv3ForTokenClassification\n",
        "\n",
        "model = LayoutLMv3ForTokenClassification.from_pretrained(\"microsoft/layoutlmv3-base\",\n",
        "                                                         id2label=id2label,\n",
        "                                                         label2id=label2id)"
      ]
    },
    {
      "cell_type": "code",
      "execution_count": null,
      "metadata": {
        "id": "hg8bMcM5dmYW"
      },
      "outputs": [],
      "source": [
        "from transformers import TrainingArguments\n",
        "\n",
        "train_args = TrainingArguments(\n",
        "    output_dir=\"/content/layoutlmv3_finetuned_kvp10k\",\n",
        "    num_train_epochs=10,\n",
        "    per_device_train_batch_size=8, #(eventuelt 16)\n",
        "    per_device_eval_batch_size=8,\n",
        "    gradient_accumulation_steps=1,\n",
        "    learning_rate=2e-5,  # juster ved behov\n",
        "    weight_decay=0.01,\n",
        "    evaluation_strategy=\"steps\",\n",
        "    eval_steps=250,  # juster ved behov\n",
        "    save_steps=500,\n",
        "    save_total_limit=2,\n",
        "    load_best_model_at_end=True,\n",
        "    metric_for_best_model=\"f1\",\n",
        "    greater_is_better=True,\n",
        "    logging_dir=\"./logs\",\n",
        "    logging_steps=50,\n",
        "    report_to=\"tensorboard\",\n",
        "    lr_scheduler_type=\"cosine\",\n",
        "    warmup_steps=500,\n",
        "    fp16=True\n",
        ")\n"
      ]
    },
    {
      "cell_type": "markdown",
      "metadata": {
        "id": "m4gp7_LQdmII"
      },
      "source": [
        "#Trainer oppsett\n",
        "Inneholder:\n",
        "  - Modellen (LayoutLMv3ForTokenClassification)\n",
        "  - Args (hyperparametre som: epochs, batch_size, lr, lr_scheduler,    regularisering, eval_steps, metrics)\n",
        "  - Datasetsplit (train, eval)\n",
        "  - Tokenizer (from processor)\n",
        "  - Collator (litt usikker på denne)\n",
        "  - Metrikker for modellen\n"
      ]
    },
    {
      "cell_type": "code",
      "execution_count": null,
      "metadata": {
        "id": "endgETwXet1h"
      },
      "outputs": [],
      "source": [
        "from transformers import Trainer, EarlyStoppingCallback\n",
        "from transformers.data.data_collator import default_data_collator\n",
        "\n",
        "trainer = Trainer (\n",
        "    model=model,\n",
        "    args=train_args,\n",
        "    train_dataset=train_dataset,\n",
        "    eval_dataset=eval_dataset,\n",
        "    tokenizer=processor.tokenizer,\n",
        "    data_collator=default_data_collator,\n",
        "    compute_metrics=compute_metrics,\n",
        ")"
      ]
    },
    {
      "cell_type": "markdown",
      "metadata": {
        "id": "bqSzsM9cdjCU"
      },
      "source": [
        "#Trening"
      ]
    },
    {
      "cell_type": "code",
      "execution_count": null,
      "metadata": {
        "collapsed": true,
        "id": "5erU_T1xfOLw"
      },
      "outputs": [],
      "source": [
        "trainer.train()"
      ]
    },
    {
      "cell_type": "code",
      "execution_count": null,
      "metadata": {
        "collapsed": true,
        "id": "e36vlg1KYwau"
      },
      "outputs": [],
      "source": [
        "trainer.evaluate()"
      ]
    },
    {
      "cell_type": "markdown",
      "metadata": {
        "id": "T6dOcIbfcOOf"
      },
      "source": [
        "#Evaluering på test-datasettet"
      ]
    },
    {
      "cell_type": "code",
      "execution_count": null,
      "metadata": {
        "collapsed": true,
        "id": "EsTmPLyGdeqQ"
      },
      "outputs": [],
      "source": [
        "trainer.evaluate(test_dataset)\n"
      ]
    },
    {
      "cell_type": "markdown",
      "metadata": {
        "id": "43YLXmgzcR41"
      },
      "source": [
        "#Lagring av beste Modell (i Drive)"
      ]
    },
    {
      "cell_type": "code",
      "execution_count": null,
      "metadata": {
        "id": "judb3GpS6o4Y"
      },
      "outputs": [],
      "source": [
        "# Angi en mappe i Drive (eller lokalt hvis du vil kopiere senere)\n",
        "output_dir = \"/content/drive/MyDrive/layoutlmv3_kvp10k_model_full_dataset\"\n",
        "\n",
        "# Lagre modell og tokenizer\n",
        "trainer.save_model(output_dir)\n",
        "processor.save_pretrained(output_dir)  # dette lagrer både tokenizer + feature extracto"
      ]
    },
    {
      "cell_type": "markdown",
      "metadata": {
        "id": "hJinDzWcwpUL"
      },
      "source": [
        "#INFERENCE\n",
        "Laster inn beste fine-tuned modell og dens tilhørende processor fra Drive, samt tilleggsinformasjon som kreves av processoren.\n",
        "\n"
      ]
    },
    {
      "cell_type": "code",
      "execution_count": null,
      "metadata": {
        "id": "gftv6oBQ8Rjl"
      },
      "outputs": [],
      "source": [
        "from transformers import AutoProcessor, AutoModelForTokenClassification\n",
        "from google.colab import drive\n",
        "drive.mount('/content/drive')\n",
        "\n",
        "\n",
        "model_path = \"/content/drive/MyDrive/layoutlmv3_kvp10k_model_full_dataset\"\n",
        "\n",
        "# Last inn modellen (med dine finetunede vekter)\n",
        "model = AutoModelForTokenClassification.from_pretrained(model_path)\n",
        "\n",
        "# Last inn processor (inneholder både tokenizer og feature extractor)\n",
        "processor = AutoProcessor.from_pretrained(model_path)\n",
        "\n",
        "# Sett modellen til riktig device (valgfritt, men vanlig)\n",
        "import torch\n",
        "device = torch.device(\"cuda\" if torch.cuda.is_available() else \"cpu\")\n",
        "model.to(device)\n",
        "\n",
        "id2label = model.config.id2label\n",
        "id2label = model.config.id2label\n",
        "label_map = label2id"
      ]
    },
    {
      "cell_type": "markdown",
      "metadata": {
        "id": "OzzMQnpi0xUz"
      },
      "source": [
        "#Kode prediksjon og visualisering av dette\n",
        "###*Tokenisering og input-prosessering med Layout sin Processor ved inference*\n",
        "Processor brukes her til å gjøre om tekst, bboxes, og bilde til format modell krever. Dette inkl:\n",
        "- Tokenisering\n",
        "- Normalisering av bboxes tilhørende hvert token\n",
        "- Skalering av bilde\n",
        "- Generering av input-tensorer\n",
        "\n",
        "NB: Denne prosessen gjøres allerede i Data_Processor notebooken som ferdigstilte datasettet for **denne** notebooken. Selve prosessen er dermed nesten indentisk"
      ]
    },
    {
      "cell_type": "code",
      "execution_count": null,
      "metadata": {
        "id": "B3DDG0gwdC0Y"
      },
      "outputs": [],
      "source": [
        "from PIL import Image, ImageDraw, ImageFont\n",
        "from IPython.display import display\n",
        "\n",
        "#Nødvendig for å plassere boksene på originalt-format på bilde-dokumentet\n",
        "def unnormalize_box(bbox, width, height):\n",
        "    return [\n",
        "        width * (bbox[0] / 1000),\n",
        "        height * (bbox[1] / 1000),\n",
        "        width * (bbox[2] / 1000),\n",
        "        height * (bbox[3] / 1000),\n",
        "    ]\n",
        "\n",
        "def predict_and_visualize(doc_id, show_gt=True):\n",
        "    base_path = \"/content/drive/MyDrive/DAT255/KVP10k-dataset/kvp10k/test\"\n",
        "\n",
        "    # === Last inn bilde og metadata\n",
        "    image_path = f\"{base_path}/images/{doc_id}.png\"\n",
        "    ocr_path = f\"{base_path}/ocrs/{doc_id}.json\"\n",
        "    gt_path = f\"{base_path}/gts/{doc_id}.json\"\n",
        "\n",
        "    image = Image.open(image_path).convert(\"RGB\")\n",
        "    with open(ocr_path, \"r\", encoding=\"utf-8\") as f:\n",
        "        ocr_data = json.load(f)\n",
        "    with open(gt_path, \"r\", encoding=\"utf-8\") as f:\n",
        "        gt_data = json.load(f)\n",
        "\n",
        "    # === Hent tekst og bokser\n",
        "    page = ocr_data[\"pages\"][0]\n",
        "    words = [w[\"text\"] for w in page[\"words\"]]\n",
        "    raw_boxes = [w[\"bbox\"] for w in page[\"words\"]]\n",
        "    width, height = page[\"width\"], page[\"height\"]\n",
        "    norm_boxes = [normalize_bbox(b, width, height) for b in raw_boxes]\n",
        "\n",
        "    # === Lag word_labels fra GT\n",
        "    string_labels = iob_from_kvps(words, raw_boxes, gt_data[\"kvps_list\"])\n",
        "    word_labels = [label_map[l] for l in string_labels]\n",
        "\n",
        "    # === Encoding for modellen\n",
        "    encoding = processor(\n",
        "        image,\n",
        "        words,\n",
        "        boxes=norm_boxes,\n",
        "        word_labels=word_labels,\n",
        "        return_tensors=\"pt\",\n",
        "        truncation=True,\n",
        "        padding=\"max_length\"\n",
        "    )\n",
        "    inputs = {k: v.to(model.device) for k, v in encoding.items()}\n",
        "\n",
        "    # === Modellprediksjon\n",
        "    model.eval()\n",
        "    with torch.no_grad():\n",
        "        outputs = model(**inputs)\n",
        "\n",
        "    input_ids = encoding[\"input_ids\"].squeeze().tolist()\n",
        "    labels = encoding[\"labels\"].squeeze().tolist()\n",
        "    bboxes = encoding[\"bbox\"].squeeze().tolist()\n",
        "    predictions = outputs.logits.argmax(-1).squeeze().tolist()\n",
        "\n",
        "    # === Unnormalize bboxes\n",
        "    unnorm_boxes = [unnormalize_box(b, width, height) for b in bboxes]\n",
        "    tokens = [processor.tokenizer.decode([tid]) for tid in input_ids]\n",
        "\n",
        "    # === Filtrer vekk padding og spesialtokens\n",
        "    filtered = [\n",
        "        (token, id2label[label], id2label[pred], box)\n",
        "        for token, label, pred, box in zip(tokens, labels, predictions, unnorm_boxes)\n",
        "        if label != -100 and token not in [\"[PAD]\", \"[CLS]\", \"[SEP]\"]\n",
        "    ]\n",
        "\n",
        "    # === Tegn prediksjoner\n",
        "    draw = ImageDraw.Draw(image)\n",
        "    font = ImageFont.load_default()\n",
        "\n",
        "    def iob_to_label(label):\n",
        "        return label[2:].lower() if label.startswith((\"B-\", \"I-\")) else \"other\"\n",
        "\n",
        "    label2color = {\n",
        "        \"key\": \"blue\",\n",
        "        \"value\": \"green\",\n",
        "        \"other\": \"gray\"\n",
        "    }\n",
        "\n",
        "    for token, true, pred, box in filtered:\n",
        "        if pred == \"O\":\n",
        "            continue\n",
        "        label = iob_to_label(pred)\n",
        "        draw.rectangle(box, outline=label2color.get(label, \"red\"), width=2)\n",
        "        draw.text((box[0] + 5, box[1] - 10), label, fill=label2color.get(label, \"red\"), font=font)\n",
        "\n",
        "    print(\"📷 Modellens prediksjoner:\")\n",
        "    display(image)\n",
        "\n",
        "    # === Fasit (valgfritt)\n",
        "    if show_gt:\n",
        "        gt_img = Image.open(image_path).convert(\"RGB\")\n",
        "        draw_gt = ImageDraw.Draw(gt_img)\n",
        "\n",
        "        for word, box, label_id in zip(words, raw_boxes, string_labels):\n",
        "            if label_id == \"O\":\n",
        "                continue\n",
        "            label_type = iob_to_label(label_id)\n",
        "            draw_gt.rectangle(box, outline=label2color.get(label_type, \"gray\"), width=2)\n",
        "            draw_gt.text((box[0] + 5, box[1] - 10), label_type, fill=label2color.get(label_type, \"gray\"), font=font)\n",
        "\n",
        "        print(\"✅ Ground Truth:\")\n",
        "        display(gt_img)\n"
      ]
    },
    {
      "cell_type": "markdown",
      "metadata": {
        "id": "DSekHOh_dR71"
      },
      "source": [
        "#Velg vilkårlig dokument fra datasettet og prediker"
      ]
    },
    {
      "cell_type": "code",
      "execution_count": null,
      "metadata": {
        "collapsed": true,
        "id": "QS92Sq_JwuBV"
      },
      "outputs": [],
      "source": [
        "#predict_and_visualize(\"aaf643426f0250efd10de3d9df63b407292f3fcc2aa335e399c37aca32443ea1\")\n",
        "#predict_and_visualize(\"aaed61e79aa3edbae844f5775789ebb6aa1a94a23d9cb3468d2cfc974af304e5\")\n",
        "#predict_and_visualize(\"aa35720ba3611f946c372cc99d8cd1d78e81265b8ceb51dcdb4672d196944c2b\")\n",
        "#predict_and_visualize(\"aa7c58830d0e84f98e9fdec1bc9e131227f9b00106aa3c78bc8ea346cfb9eac0\")\n",
        "#predict_and_visualize(\"faa5d71172e2e9959b41a5aec4fd2ab700534d1b2729484d2d5f26472cd56cfa\")\n",
        "#predict_and_visualize(\"ffe462e43b9dff12e78ea8fb69332abfb789da171a8597f5bb961853e06e6fa2\")\n",
        "#predict_and_visualize(\"feb2c4b21388318c7a51cc0aaf0e7c673a07f5204a40549a281bef065bb77925\")\n",
        "#predict_and_visualize(\"feaf84d435bd46100db82de51f5a989ff4d39fdcdb040a7044720b943e34b7d7\")\n",
        "#predict_and_visualize(\"df6b0a4cf1908bb95be874e4efa59411c685095d7bb596879961563503b5c239\")\n"
      ]
    },
    {
      "cell_type": "markdown",
      "metadata": {
        "id": "alWyWjA9wqnK"
      },
      "source": [
        "_______"
      ]
    }
  ],
  "metadata": {
    "colab": {
      "provenance": [],
      "include_colab_link": true
    },
    "kernelspec": {
      "display_name": "Python 3",
      "name": "python3"
    },
    "language_info": {
      "name": "python"
    }
  },
  "nbformat": 4,
  "nbformat_minor": 0
}
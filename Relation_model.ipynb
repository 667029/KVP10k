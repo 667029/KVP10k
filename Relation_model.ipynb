{
  "cells": [
    {
      "cell_type": "markdown",
      "metadata": {
        "id": "view-in-github",
        "colab_type": "text"
      },
      "source": [
        "<a href=\"https://colab.research.google.com/github/667029/KVP10k/blob/main/Relation_model.ipynb\" target=\"_parent\"><img src=\"https://colab.research.google.com/assets/colab-badge.svg\" alt=\"Open In Colab\"/></a>"
      ]
    },
    {
      "cell_type": "markdown",
      "metadata": {
        "id": "ELQloE1JFU4v"
      },
      "source": [
        "## Imports and Setup\n",
        "In this section, we import necessary libraries (e.g., PyTorch, TensorFlow, and Hugging Face `datasets`) and configure any global settings."
      ]
    },
    {
      "cell_type": "code",
      "execution_count": null,
      "metadata": {
        "colab": {
          "base_uri": "https://localhost:8080/"
        },
        "id": "dOl8HNT2EvpM",
        "outputId": "f098388e-6ab6-4271-9b4c-7e3380fac39b"
      },
      "outputs": [
        {
          "output_type": "stream",
          "name": "stdout",
          "text": [
            "Requirement already satisfied: datasets in /usr/local/lib/python3.11/dist-packages (3.5.0)\n",
            "Requirement already satisfied: torch in /usr/local/lib/python3.11/dist-packages (2.6.0+cu124)\n",
            "Requirement already satisfied: transformers in /usr/local/lib/python3.11/dist-packages (4.51.3)\n",
            "Requirement already satisfied: accelerate in /usr/local/lib/python3.11/dist-packages (1.5.2)\n",
            "Requirement already satisfied: numpy in /usr/local/lib/python3.11/dist-packages (2.0.2)\n",
            "Requirement already satisfied: tqdm in /usr/local/lib/python3.11/dist-packages (4.67.1)\n",
            "Requirement already satisfied: tensorflow in /usr/local/lib/python3.11/dist-packages (2.18.0)\n",
            "Requirement already satisfied: scikit-learn in /usr/local/lib/python3.11/dist-packages (1.6.1)\n",
            "Requirement already satisfied: filelock in /usr/local/lib/python3.11/dist-packages (from datasets) (3.18.0)\n",
            "Requirement already satisfied: pyarrow>=15.0.0 in /usr/local/lib/python3.11/dist-packages (from datasets) (18.1.0)\n",
            "Requirement already satisfied: dill<0.3.9,>=0.3.0 in /usr/local/lib/python3.11/dist-packages (from datasets) (0.3.8)\n",
            "Requirement already satisfied: pandas in /usr/local/lib/python3.11/dist-packages (from datasets) (2.2.2)\n",
            "Requirement already satisfied: requests>=2.32.2 in /usr/local/lib/python3.11/dist-packages (from datasets) (2.32.3)\n",
            "Requirement already satisfied: xxhash in /usr/local/lib/python3.11/dist-packages (from datasets) (3.5.0)\n",
            "Requirement already satisfied: multiprocess<0.70.17 in /usr/local/lib/python3.11/dist-packages (from datasets) (0.70.16)\n",
            "Requirement already satisfied: fsspec<=2024.12.0,>=2023.1.0 in /usr/local/lib/python3.11/dist-packages (from fsspec[http]<=2024.12.0,>=2023.1.0->datasets) (2024.12.0)\n",
            "Requirement already satisfied: aiohttp in /usr/local/lib/python3.11/dist-packages (from datasets) (3.11.15)\n",
            "Requirement already satisfied: huggingface-hub>=0.24.0 in /usr/local/lib/python3.11/dist-packages (from datasets) (0.30.2)\n",
            "Requirement already satisfied: packaging in /usr/local/lib/python3.11/dist-packages (from datasets) (24.2)\n",
            "Requirement already satisfied: pyyaml>=5.1 in /usr/local/lib/python3.11/dist-packages (from datasets) (6.0.2)\n",
            "Requirement already satisfied: typing-extensions>=4.10.0 in /usr/local/lib/python3.11/dist-packages (from torch) (4.13.2)\n",
            "Requirement already satisfied: networkx in /usr/local/lib/python3.11/dist-packages (from torch) (3.4.2)\n",
            "Requirement already satisfied: jinja2 in /usr/local/lib/python3.11/dist-packages (from torch) (3.1.6)\n",
            "Requirement already satisfied: nvidia-cuda-nvrtc-cu12==12.4.127 in /usr/local/lib/python3.11/dist-packages (from torch) (12.4.127)\n",
            "Requirement already satisfied: nvidia-cuda-runtime-cu12==12.4.127 in /usr/local/lib/python3.11/dist-packages (from torch) (12.4.127)\n",
            "Requirement already satisfied: nvidia-cuda-cupti-cu12==12.4.127 in /usr/local/lib/python3.11/dist-packages (from torch) (12.4.127)\n",
            "Requirement already satisfied: nvidia-cudnn-cu12==9.1.0.70 in /usr/local/lib/python3.11/dist-packages (from torch) (9.1.0.70)\n",
            "Requirement already satisfied: nvidia-cublas-cu12==12.4.5.8 in /usr/local/lib/python3.11/dist-packages (from torch) (12.4.5.8)\n",
            "Requirement already satisfied: nvidia-cufft-cu12==11.2.1.3 in /usr/local/lib/python3.11/dist-packages (from torch) (11.2.1.3)\n",
            "Requirement already satisfied: nvidia-curand-cu12==10.3.5.147 in /usr/local/lib/python3.11/dist-packages (from torch) (10.3.5.147)\n",
            "Requirement already satisfied: nvidia-cusolver-cu12==11.6.1.9 in /usr/local/lib/python3.11/dist-packages (from torch) (11.6.1.9)\n",
            "Requirement already satisfied: nvidia-cusparse-cu12==12.3.1.170 in /usr/local/lib/python3.11/dist-packages (from torch) (12.3.1.170)\n",
            "Requirement already satisfied: nvidia-cusparselt-cu12==0.6.2 in /usr/local/lib/python3.11/dist-packages (from torch) (0.6.2)\n",
            "Requirement already satisfied: nvidia-nccl-cu12==2.21.5 in /usr/local/lib/python3.11/dist-packages (from torch) (2.21.5)\n",
            "Requirement already satisfied: nvidia-nvtx-cu12==12.4.127 in /usr/local/lib/python3.11/dist-packages (from torch) (12.4.127)\n",
            "Requirement already satisfied: nvidia-nvjitlink-cu12==12.4.127 in /usr/local/lib/python3.11/dist-packages (from torch) (12.4.127)\n",
            "Requirement already satisfied: triton==3.2.0 in /usr/local/lib/python3.11/dist-packages (from torch) (3.2.0)\n",
            "Requirement already satisfied: sympy==1.13.1 in /usr/local/lib/python3.11/dist-packages (from torch) (1.13.1)\n",
            "Requirement already satisfied: mpmath<1.4,>=1.1.0 in /usr/local/lib/python3.11/dist-packages (from sympy==1.13.1->torch) (1.3.0)\n",
            "Requirement already satisfied: regex!=2019.12.17 in /usr/local/lib/python3.11/dist-packages (from transformers) (2024.11.6)\n",
            "Requirement already satisfied: tokenizers<0.22,>=0.21 in /usr/local/lib/python3.11/dist-packages (from transformers) (0.21.1)\n",
            "Requirement already satisfied: safetensors>=0.4.3 in /usr/local/lib/python3.11/dist-packages (from transformers) (0.5.3)\n",
            "Requirement already satisfied: psutil in /usr/local/lib/python3.11/dist-packages (from accelerate) (5.9.5)\n",
            "Requirement already satisfied: absl-py>=1.0.0 in /usr/local/lib/python3.11/dist-packages (from tensorflow) (1.4.0)\n",
            "Requirement already satisfied: astunparse>=1.6.0 in /usr/local/lib/python3.11/dist-packages (from tensorflow) (1.6.3)\n",
            "Requirement already satisfied: flatbuffers>=24.3.25 in /usr/local/lib/python3.11/dist-packages (from tensorflow) (25.2.10)\n",
            "Requirement already satisfied: gast!=0.5.0,!=0.5.1,!=0.5.2,>=0.2.1 in /usr/local/lib/python3.11/dist-packages (from tensorflow) (0.6.0)\n",
            "Requirement already satisfied: google-pasta>=0.1.1 in /usr/local/lib/python3.11/dist-packages (from tensorflow) (0.2.0)\n",
            "Requirement already satisfied: libclang>=13.0.0 in /usr/local/lib/python3.11/dist-packages (from tensorflow) (18.1.1)\n",
            "Requirement already satisfied: opt-einsum>=2.3.2 in /usr/local/lib/python3.11/dist-packages (from tensorflow) (3.4.0)\n",
            "Requirement already satisfied: protobuf!=4.21.0,!=4.21.1,!=4.21.2,!=4.21.3,!=4.21.4,!=4.21.5,<6.0.0dev,>=3.20.3 in /usr/local/lib/python3.11/dist-packages (from tensorflow) (5.29.4)\n",
            "Requirement already satisfied: setuptools in /usr/local/lib/python3.11/dist-packages (from tensorflow) (75.2.0)\n",
            "Requirement already satisfied: six>=1.12.0 in /usr/local/lib/python3.11/dist-packages (from tensorflow) (1.17.0)\n",
            "Requirement already satisfied: termcolor>=1.1.0 in /usr/local/lib/python3.11/dist-packages (from tensorflow) (3.0.1)\n",
            "Requirement already satisfied: wrapt>=1.11.0 in /usr/local/lib/python3.11/dist-packages (from tensorflow) (1.17.2)\n",
            "Requirement already satisfied: grpcio<2.0,>=1.24.3 in /usr/local/lib/python3.11/dist-packages (from tensorflow) (1.71.0)\n",
            "Requirement already satisfied: tensorboard<2.19,>=2.18 in /usr/local/lib/python3.11/dist-packages (from tensorflow) (2.18.0)\n",
            "Requirement already satisfied: keras>=3.5.0 in /usr/local/lib/python3.11/dist-packages (from tensorflow) (3.8.0)\n",
            "Requirement already satisfied: h5py>=3.11.0 in /usr/local/lib/python3.11/dist-packages (from tensorflow) (3.13.0)\n",
            "Requirement already satisfied: ml-dtypes<0.5.0,>=0.4.0 in /usr/local/lib/python3.11/dist-packages (from tensorflow) (0.4.1)\n",
            "Requirement already satisfied: tensorflow-io-gcs-filesystem>=0.23.1 in /usr/local/lib/python3.11/dist-packages (from tensorflow) (0.37.1)\n",
            "Requirement already satisfied: scipy>=1.6.0 in /usr/local/lib/python3.11/dist-packages (from scikit-learn) (1.14.1)\n",
            "Requirement already satisfied: joblib>=1.2.0 in /usr/local/lib/python3.11/dist-packages (from scikit-learn) (1.4.2)\n",
            "Requirement already satisfied: threadpoolctl>=3.1.0 in /usr/local/lib/python3.11/dist-packages (from scikit-learn) (3.6.0)\n",
            "Requirement already satisfied: wheel<1.0,>=0.23.0 in /usr/local/lib/python3.11/dist-packages (from astunparse>=1.6.0->tensorflow) (0.45.1)\n",
            "Requirement already satisfied: aiohappyeyeballs>=2.3.0 in /usr/local/lib/python3.11/dist-packages (from aiohttp->datasets) (2.6.1)\n",
            "Requirement already satisfied: aiosignal>=1.1.2 in /usr/local/lib/python3.11/dist-packages (from aiohttp->datasets) (1.3.2)\n",
            "Requirement already satisfied: attrs>=17.3.0 in /usr/local/lib/python3.11/dist-packages (from aiohttp->datasets) (25.3.0)\n",
            "Requirement already satisfied: frozenlist>=1.1.1 in /usr/local/lib/python3.11/dist-packages (from aiohttp->datasets) (1.5.0)\n",
            "Requirement already satisfied: multidict<7.0,>=4.5 in /usr/local/lib/python3.11/dist-packages (from aiohttp->datasets) (6.4.3)\n",
            "Requirement already satisfied: propcache>=0.2.0 in /usr/local/lib/python3.11/dist-packages (from aiohttp->datasets) (0.3.1)\n",
            "Requirement already satisfied: yarl<2.0,>=1.17.0 in /usr/local/lib/python3.11/dist-packages (from aiohttp->datasets) (1.19.0)\n",
            "Requirement already satisfied: rich in /usr/local/lib/python3.11/dist-packages (from keras>=3.5.0->tensorflow) (13.9.4)\n",
            "Requirement already satisfied: namex in /usr/local/lib/python3.11/dist-packages (from keras>=3.5.0->tensorflow) (0.0.8)\n",
            "Requirement already satisfied: optree in /usr/local/lib/python3.11/dist-packages (from keras>=3.5.0->tensorflow) (0.15.0)\n",
            "Requirement already satisfied: charset-normalizer<4,>=2 in /usr/local/lib/python3.11/dist-packages (from requests>=2.32.2->datasets) (3.4.1)\n",
            "Requirement already satisfied: idna<4,>=2.5 in /usr/local/lib/python3.11/dist-packages (from requests>=2.32.2->datasets) (3.10)\n",
            "Requirement already satisfied: urllib3<3,>=1.21.1 in /usr/local/lib/python3.11/dist-packages (from requests>=2.32.2->datasets) (2.3.0)\n",
            "Requirement already satisfied: certifi>=2017.4.17 in /usr/local/lib/python3.11/dist-packages (from requests>=2.32.2->datasets) (2025.1.31)\n",
            "Requirement already satisfied: markdown>=2.6.8 in /usr/local/lib/python3.11/dist-packages (from tensorboard<2.19,>=2.18->tensorflow) (3.8)\n",
            "Requirement already satisfied: tensorboard-data-server<0.8.0,>=0.7.0 in /usr/local/lib/python3.11/dist-packages (from tensorboard<2.19,>=2.18->tensorflow) (0.7.2)\n",
            "Requirement already satisfied: werkzeug>=1.0.1 in /usr/local/lib/python3.11/dist-packages (from tensorboard<2.19,>=2.18->tensorflow) (3.1.3)\n",
            "Requirement already satisfied: MarkupSafe>=2.0 in /usr/local/lib/python3.11/dist-packages (from jinja2->torch) (3.0.2)\n",
            "Requirement already satisfied: python-dateutil>=2.8.2 in /usr/local/lib/python3.11/dist-packages (from pandas->datasets) (2.8.2)\n",
            "Requirement already satisfied: pytz>=2020.1 in /usr/local/lib/python3.11/dist-packages (from pandas->datasets) (2025.2)\n",
            "Requirement already satisfied: tzdata>=2022.7 in /usr/local/lib/python3.11/dist-packages (from pandas->datasets) (2025.2)\n",
            "Requirement already satisfied: markdown-it-py>=2.2.0 in /usr/local/lib/python3.11/dist-packages (from rich->keras>=3.5.0->tensorflow) (3.0.0)\n",
            "Requirement already satisfied: pygments<3.0.0,>=2.13.0 in /usr/local/lib/python3.11/dist-packages (from rich->keras>=3.5.0->tensorflow) (2.18.0)\n",
            "Requirement already satisfied: mdurl~=0.1 in /usr/local/lib/python3.11/dist-packages (from markdown-it-py>=2.2.0->rich->keras>=3.5.0->tensorflow) (0.1.2)\n"
          ]
        }
      ],
      "source": [
        "!pip install datasets torch transformers accelerate numpy tqdm tensorflow scikit-learn"
      ]
    },
    {
      "cell_type": "code",
      "execution_count": null,
      "metadata": {
        "id": "IX4K8fBMEyQC"
      },
      "outputs": [],
      "source": [
        "# Definerer drive lokasjon\n",
        "drive_mount_path='/content/drive'\n",
        "\n",
        "hidden_size = 768           # Size of the hidden vectors.\n",
        "batch_size = 32             # Batch size.\n",
        "test_size_percentage = 10   # Percentage of dataset to be dedicated to test\n",
        "seed = 42                   # Seed for reproducibility.\n",
        "\n",
        "\n",
        "# Paths to your datasets\n",
        "train_dataset_path = \"/content/drive/MyDrive/RE_ready/re_dataset_train_combined\"\n",
        "test_dataset_path = \"/content/drive/MyDrive/RE_ready/re_dataset_test_combined\"\n"
      ]
    },
    {
      "cell_type": "markdown",
      "metadata": {
        "id": "ITVBGvmgFhKF"
      },
      "source": [
        "## Data Loading\n",
        "Load the prepared training, evaluation, and test datasets from disk using HF `load_from_disk`."
      ]
    },
    {
      "cell_type": "code",
      "execution_count": null,
      "metadata": {
        "id": "d7yup6goE15B"
      },
      "outputs": [],
      "source": [
        "import torch\n",
        "from datasets import load_from_disk\n",
        "import tensorflow as tf\n",
        "import numpy as np\n",
        "\n",
        "\n",
        "class DataUtil:\n",
        "    @staticmethod\n",
        "    def get_output(dataset_path=None, model_output=None, drive_mount_path=drive_mount_path, extract_hidden=False, verbose=True):\n",
        "        if dataset_path is not None:\n",
        "            try:\n",
        "                from google.colab import drive\n",
        "                drive.mount(drive_mount_path, force_remount=False)\n",
        "            except Exception as e:\n",
        "                if verbose:\n",
        "                    print(\"Google Drive may already be mounted. Continuing...\")\n",
        "            dataset = load_from_disk(dataset_path)\n",
        "            if verbose:\n",
        "                print(\"Loaded dataset from drive.\")\n",
        "                print(\"Number of samples:\", len(dataset))\n",
        "                print(\"Column names:\", dataset.column_names)\n",
        "                print(\"First sample:\", dataset[0])\n",
        "            return dataset\n",
        "        elif model_output is not None:\n",
        "            if extract_hidden:\n",
        "                if isinstance(model_output, dict) and \"hidden_states\" in model_output:\n",
        "                    model_output = model_output[\"hidden_states\"]\n",
        "                elif isinstance(model_output, (list, tuple)):\n",
        "                    model_output = model_output[-1]\n",
        "            if verbose:\n",
        "                print(\"Provided model output:\")\n",
        "                print(model_output)\n",
        "            return model_output\n",
        "        else:\n",
        "            raise ValueError(\"Please provide either a dataset_path or a model_output.\")\n",
        "\n",
        "    @staticmethod\n",
        "    def to_tf_dataset(dataset, hidden_size, batch_size=32, shuffle_buffer=1000, verbose=True):\n",
        "        def generator():\n",
        "            for sample in dataset:\n",
        "                h_i = np.array(sample[\"h_i\"], dtype=np.float32)\n",
        "                h_j = np.array(sample[\"h_j\"], dtype=np.float32)\n",
        "                label_arr = np.array(sample[\"label\"], dtype=np.int32)\n",
        "                label = label_arr[0] if label_arr.ndim > 0 else label_arr\n",
        "                key = sample[\"key\"] if \"key\" in sample else \"unknown\"\n",
        "                yield (h_i, h_j, label, key)\n",
        "\n",
        "        first_sample = dataset[0]\n",
        "        h_i_first = np.array(first_sample[\"h_i\"], dtype=np.float32)\n",
        "\n",
        "        if h_i_first.ndim == 1:\n",
        "            output_signature = (\n",
        "                tf.TensorSpec(shape=(hidden_size,), dtype=tf.float32),\n",
        "                tf.TensorSpec(shape=(hidden_size,), dtype=tf.float32),\n",
        "                tf.TensorSpec(shape=(), dtype=tf.int32),\n",
        "                tf.TensorSpec(shape=(), dtype=tf.string),\n",
        "            )\n",
        "            ds = tf.data.Dataset.from_generator(generator, output_signature=output_signature)\n",
        "            ds = ds.shuffle(shuffle_buffer).batch(batch_size)\n",
        "        elif h_i_first.ndim == 2:\n",
        "            output_signature = (\n",
        "                tf.TensorSpec(shape=(None, hidden_size), dtype=tf.float32),\n",
        "                tf.TensorSpec(shape=(None, hidden_size), dtype=tf.float32),\n",
        "                tf.TensorSpec(shape=(), dtype=tf.int32),\n",
        "                tf.TensorSpec(shape=(), dtype=tf.string),\n",
        "            )\n",
        "            ds = tf.data.Dataset.from_generator(generator, output_signature=output_signature)\n",
        "            ds = ds.shuffle(shuffle_buffer).padded_batch(\n",
        "                batch_size,\n",
        "                padded_shapes=([None, hidden_size], [None, hidden_size], [], [])\n",
        "            )\n",
        "        else:\n",
        "            raise ValueError(\"Expected h_i to be 1D or 2D; got shape \" + str(h_i_first.shape))\n",
        "\n",
        "        if verbose:\n",
        "            print(f\"Converted dataset to tf.data.Dataset with batch size {batch_size}.\")\n",
        "        return ds"
      ]
    },
    {
      "cell_type": "markdown",
      "metadata": {
        "id": "cmm7VyalFnQZ"
      },
      "source": [
        "## Training Loop\n",
        "Train the model: iterate over epochs and batches, compute loss, and update model weights."
      ]
    },
    {
      "cell_type": "code",
      "execution_count": null,
      "metadata": {
        "colab": {
          "base_uri": "https://localhost:8080/",
          "height": 243,
          "referenced_widgets": [
            "262e7bf124d44a108877347c02805d6f",
            "ec2013615e504584a4ce1e46dade2c16",
            "fdf42fe5018f4cedaf37e64c55864548",
            "3c93db5b6ba34178a69bfb56689ac6e1",
            "43f6b37714904f1db64688237eb55116",
            "97d3d6fa48714288b7a1ff43babd9c99",
            "8b025cb139a94eb198272e48ff31e2b5",
            "ddf5079063704ad8b8044a3a2846cf8c",
            "7348906d47ea470caefd0081e182d35e",
            "9440067e12d44d57994c7280b1a5a2a4",
            "d6b8fd82ba4a473597643ef401977ab9"
          ]
        },
        "id": "XWJbwLU2E5_V",
        "outputId": "f5504a66-94ac-4bae-b886-44681e893f3a"
      },
      "outputs": [
        {
          "output_type": "stream",
          "name": "stdout",
          "text": [
            "Drive already mounted at /content/drive; to attempt to forcibly remount, call drive.mount(\"/content/drive\", force_remount=True).\n"
          ]
        },
        {
          "output_type": "display_data",
          "data": {
            "text/plain": [
              "Loading dataset from disk:   0%|          | 0/35 [00:00<?, ?it/s]"
            ],
            "application/vnd.jupyter.widget-view+json": {
              "version_major": 2,
              "version_minor": 0,
              "model_id": "262e7bf124d44a108877347c02805d6f"
            }
          },
          "metadata": {}
        },
        {
          "output_type": "stream",
          "name": "stdout",
          "text": [
            "Loaded dataset from drive.\n",
            "Number of samples: 1411110\n",
            "Column names: ['h_i', 'h_j', 'label']\n",
            "First sample: {'h_i': [0.08819432556629181, 0.11771385371685028, -0.13484816253185272, -0.3929871618747711, 0.7269824743270874, 0.22924068570137024, 0.21258839964866638, 0.46119824051856995, -0.008485310710966587, -0.09344914555549622, 0.013197416439652443, -0.07395169138908386, -0.04165968298912048, -0.012204332277178764, -0.03786215931177139, -0.5777946710586548, 0.2996143400669098, -0.14252962172031403, -0.6251698136329651, 0.19645977020263672, 0.24734942615032196, -0.42366012930870056, 0.10904641449451447, -0.08125343918800354, 0.23178817331790924, -0.43984630703926086, 0.616330623626709, -0.4597790241241455, -0.234318345785141, 0.20567676424980164, -0.585768461227417, -0.10556289553642273, -0.6416462659835815, 0.026363598182797432, -0.5135732889175415, -0.11054161936044693, 0.4881322383880615, -0.242694690823555, -0.061750371009111404, -0.14020699262619019, 0.04512529447674751, -0.10839692503213882, 0.09956012666225433, 0.35110917687416077, 0.0018773798365145922, -0.28089508414268494, 0.4132912755012512, -0.4232836961746216, 0.11877983063459396, -0.3262530565261841, 0.11461688578128815, -0.07191162556409836, -0.13976845145225525, 0.18990443646907806, 0.01479304488748312, 0.07536280900239944, 0.1640544980764389, 0.1666613519191742, -0.08352269977331161, -0.2988588213920593, 0.45397576689720154, -0.31479790806770325, -0.12466290593147278, -0.4006931483745575, 0.06733748316764832, 0.1849294900894165, -0.3071269094944, -0.6230506300926208, -0.015553699806332588, -0.3126080334186554, -0.24053333699703217, -0.27018633484840393, 0.3016805648803711, 0.214841827750206, -0.20642609894275665, -0.04559265822172165, 0.25691553950309753, -0.19779887795448303, -0.626562237739563, 0.39997684955596924, 0.10847610235214233, 0.8277932405471802, 0.2817390263080597, -0.6342456340789795, -0.35675889253616333, 0.10203728824853897, 0.28477799892425537, -0.2708864212036133, 0.19533365964889526, 0.2737564444541931, -0.14988574385643005, 0.08055871725082397, 0.3044697046279907, -0.5840505957603455, 0.16192780435085297, -0.1750163733959198, -0.10901252925395966, 0.11402201652526855, -0.019999893382191658, -0.470493882894516, -0.36081692576408386, -0.05654459446668625, -0.23640312254428864, 0.15381911396980286, -0.12453307211399078, -0.1821674257516861, -0.6834191083908081, 0.052304234355688095, -0.2398592084646225, 0.3996756076812744, -0.07997934520244598, -0.23199938237667084, 0.11308350414037704, 0.519313633441925, -0.07494088262319565, -0.2423318475484848, 0.5202711224555969, 0.0763251781463623, 0.003829380264505744, -0.25566521286964417, -0.18212451040744781, -0.09658638387918472, 0.7789591550827026, 0.1323315054178238, 0.32718077301979065, 0.2376873791217804, 0.7337287068367004, -0.4989165663719177, -0.03857869282364845, 0.013183272443711758, -0.18198205530643463, -0.18256419897079468, 0.27806729078292847, -0.004560565110296011, 0.16905942559242249, 0.17141109704971313, 0.2562011778354645, 0.26875972747802734, 0.2461288720369339, -0.09185490012168884, -0.20387601852416992, -0.09596412628889084, -0.2215108722448349, 0.0033283191733062267, 0.026884261518716812, -0.38917455077171326, 0.07776195555925369, -0.14110206067562103, 0.5558999180793762, -0.13579222559928894, 0.07748182117938995, -0.09636332094669342, 0.5401843190193176, -0.01241170335561037, -0.28952521085739136, 1.7699304819107056, -0.17475390434265137, 0.2373325675725937, 0.14185073971748352, -0.06090547516942024, 0.1403953582048416, -0.46877557039260864, 0.06720129400491714, -0.053466226905584335, -0.06581685692071915, -0.33008643984794617, -0.31409046053886414, 0.07155954837799072, -0.0032414046581834555, -0.08586254715919495, -0.2526452839374542, 0.002870820462703705, -0.026428306475281715, -0.2558800280094147, -0.17192932963371277, 0.18881937861442566, 0.06697230041027069, -0.1309545934200287, -0.20180638134479523, -0.004848968703299761, 0.01926077902317047, 0.05187304690480232, 0.34931471943855286, 0.07896695286035538, 0.21497586369514465, 0.38273677229881287, 0.14068306982517242, -0.289604514837265, -0.12295736372470856, -0.3450685739517212, -0.4036597013473511, 0.01664910279214382, -0.045617856085300446, -0.1266791671514511, 0.20937982201576233, 0.432649165391922, 0.08538434654474258, 0.05763009935617447, 0.2537274956703186, 0.11805824935436249, 0.35632655024528503, -0.7403761148452759, 0.6544051170349121, 0.07527681440114975, 0.12710438668727875, 0.15472282469272614, 0.018007101491093636, 0.22830994427204132, 0.26230940222740173, 0.028608476743102074, -0.010015043430030346, 0.2900453805923462, 0.0732545405626297, 0.3238210380077362, -0.07774613052606583, 0.018134547397494316, -0.24390888214111328, 0.09400079399347305, 0.40038037300109863, -0.11922701448202133, 0.2501034140586853, -0.1291869431734085, -0.21851812303066254, -0.7842422723770142, 0.642988920211792, 0.09896227717399597, -0.0026972261257469654, -0.25682318210601807, 0.11802308261394501, 0.4856104552745819, 0.23961804807186127, -0.3153703212738037, -0.08515030890703201, 0.23436614871025085, 0.23268459737300873, 0.02403751015663147, 0.2693864405155182, -0.1295885443687439, 0.09209639579057693, 0.10067346692085266, -0.012447438202798367, 0.2064385712146759, 0.17582052946090698, 0.27324777841567993, 0.1700812131166458, -0.28794464468955994, 0.1990402787923813, -0.49368903040885925, -0.09249110519886017, 0.19121487438678741, 0.15926103293895721, 0.31596237421035767, -0.3158845007419586, -0.43868064880371094, -0.3568890392780304, -0.31400808691978455, 0.44741445779800415, 0.22987501323223114, 0.08882170915603638, -0.6040012836456299, -0.19195027649402618, 0.0934666097164154, -0.2434421181678772, -0.06618764996528625, 0.03418268635869026, -0.0815313532948494, 0.0880761668086052, -0.1496647745370865, 0.3288775682449341, -0.04136870056390762, -0.2922597825527191, 0.04822844639420509, 0.1960235983133316, -0.029718948528170586, 0.40097886323928833, 0.047371573746204376, -0.23557303845882416, -0.04084068164229393, 0.3736640512943268, 0.04631121829152107, -0.1220165565609932, 0.38798093795776367, -0.603488028049469, 0.6591464281082153, -0.16326992213726044, 0.10921883583068848, -0.41348424553871155, 0.10972728580236435, -0.01926330476999283, 0.01615563966333866, 0.10146085172891617, 0.468488484621048, -0.14024706184864044, 0.05152975767850876, -0.08875644952058792, 0.13648436963558197, 0.32291489839553833, -0.04629085958003998, -0.08363906294107437, 0.018412113189697266, -0.36156919598579407, 0.49929192662239075, 0.31037452816963196, -0.03294864669442177, 0.13932444155216217, 0.1373751163482666, -0.03794525936245918, 0.2738722562789917, 0.07959547638893127, -0.4495513141155243, 0.28648117184638977, 0.5766350030899048, -0.10148938745260239, 0.14849965274333954, -0.2389906942844391, -0.014324651099741459, -0.2546707093715668, 0.26960378885269165, -0.4060334861278534, 0.21683552861213684, 0.02046271041035652, 0.12286783754825592, 0.17892715334892273, 0.045642584562301636, -0.05188748612999916, -0.2525480389595032, 0.11989328265190125, 0.5914990305900574, -0.006592859048396349, 1.1285467147827148, -0.1797487437725067, 0.1683993637561798, 0.31523075699806213, 0.2738514840602875, 0.06310301274061203, 0.019789541140198708, 0.5891442894935608, 0.1040651723742485, -0.0068098376505076885, 0.2446814328432083, -0.16020521521568298, 0.010724656283855438, -0.2857852578163147, -0.11445342004299164, -0.05599997192621231, -0.20727236568927765, -0.37764182686805725, -0.27744409441947937, 0.2738876938819885, -0.07096897065639496, 0.41985341906547546, 0.13953247666358948, -0.3298511505126953, -0.45867952704429626, -0.2514955997467041, 0.22080421447753906, 0.037462424486875534, -0.09024669229984283, -0.10598365217447281, -0.5555448532104492, -0.10499826073646545, -0.08807186782360077, 0.42041897773742676, -0.10460279881954193, -0.06317226588726044, 0.3450261056423187, -0.4671889841556549, -0.2899039685726166, -0.2403775304555893, -0.1294553279876709, 0.3434303402900696, -0.16465173661708832, 0.19121450185775757, 0.46242690086364746, 0.08492948114871979, -0.2539201080799103, -0.047618016600608826, 0.49282291531562805, 0.28710126876831055, -0.35973384976387024, 0.20254211127758026, 0.09558312594890594, 0.0572517067193985, -0.3191330134868622, 0.0047804806381464005, 0.33278876543045044, 0.3150269687175751, 0.4376356601715088, -0.06318097561597824, 0.2627834379673004, 0.01679818518459797, 0.3193548619747162, -0.05550229549407959, -0.27806246280670166, -0.30804315209388733, 0.14086756110191345, 0.23945599794387817, -0.03776923939585686, -0.0730389952659607, 0.03904755786061287, -0.04336781054735184, 0.01617751084268093, -0.29574164748191833, -0.15251024067401886, -0.024111274629831314, -0.2826305329799652, 0.06328117102384567, -0.11870037764310837, -0.7384738922119141, -0.2783321738243103, -0.14627723395824432, 0.4132782220840454, -0.3347000777721405, 0.4512171447277069, -0.020798174664378166, 0.11758372187614441, 0.6135313510894775, -0.13033422827720642, 0.231577068567276, 0.21189112961292267, 0.01529686525464058, 0.002411370864138007, -0.3059716820716858, 0.3739822506904602, -0.31188711524009705, -0.45756733417510986, -0.17045731842517853, 0.31317809224128723, -0.3464323580265045, 0.10192403197288513, 0.17079567909240723, -0.49697527289390564, -0.009264734573662281, 0.22702735662460327, -0.26313093304634094, 0.05348113179206848, -0.06950036436319351, 0.09899558126926422, 0.1749936044216156, -0.23321406543254852, 0.20124752819538116, -0.14237429201602936, -0.04764949902892113, -0.10444408655166626, -0.2048729956150055, -0.2519216537475586, -0.16582223773002625, 0.3669654428958893, -0.046427227556705475, -0.5153881907463074, 0.1721729040145874, -0.13702711462974548, -0.2370147705078125, -0.2498180866241455, -0.08373328298330307, 0.3239685595035553, -0.17049343883991241, 0.29880017042160034, -0.07205582410097122, 0.12812888622283936, -0.16759707033634186, 0.2689162790775299, -0.15842191874980927, 0.269431471824646, -0.37533870339393616, 0.009432484395802021, 0.23478084802627563, -0.37407881021499634, 0.18765954673290253, 0.5175474882125854, 0.24032051861286163, 0.06294775754213333, 0.14518460631370544, 0.47784557938575745, 0.40451428294181824, -0.14111483097076416, 0.513077974319458, -0.08626987040042877, -0.2641603946685791, -0.16652797162532806, 0.06685594469308853, -0.1075729951262474, -0.36057204008102417, 0.24691519141197205, -0.048796020448207855, 0.10897316038608551, 0.3187842071056366, -0.1907474398612976, 0.055269718170166016, 0.08978435397148132, 0.06988391280174255, -0.24569149315357208, -0.15290766954421997, 0.6419804096221924, -0.4001525342464447, -0.3368358910083771, -0.2039550393819809, 0.030941538512706757, 0.15258722007274628, 0.09055937081575394, 0.12947574257850647, 0.264713317155838, 0.19094116985797882, 0.024599945172667503, -0.13067132234573364, -0.1960710883140564, -0.005394067615270615, -0.027434170246124268, -0.1926153153181076, 0.1749129742383957, -0.2922556400299072, -0.32286882400512695, -0.19718749821186066, -0.06894627958536148, 0.2587305009365082, -0.06381850689649582, -0.13365299999713898, 0.02832155115902424, 0.0638236328959465, -0.5874562859535217, 0.1313706338405609, -0.2320065051317215, -0.14167703688144684, -0.29241761565208435, 0.16866996884346008, 0.15220756828784943, 0.35082322359085083, -0.08066027611494064, -0.32459375262260437, 0.10367856919765472, -0.2763167917728424, 0.12555857002735138, 0.2645535171031952, 0.13155825436115265, 0.17822659015655518, 0.007991799153387547, 0.15470950305461884, 0.5152888298034668, -0.14814746379852295, 0.42463940382003784, 0.21031367778778076, -0.17518216371536255, 0.24037837982177734, 0.19419506192207336, -0.5853047370910645, -0.008401479572057724, -0.1808512955904007, 0.42350760102272034, 0.18783064186573029, -0.0003102355112787336, 0.14027416706085205, -0.008724520914256573, 0.29690805077552795, 0.17140206694602966, -0.18469905853271484, 0.01096323598176241, 0.1820233166217804, 0.06777973473072052, -0.01741030253469944, -0.2741357982158661, -0.4105116128921509, 0.5699266791343689, -0.06047976389527321, 0.10175612568855286, -0.5004934072494507, 0.10319401323795319, 0.018159080296754837, 0.31191590428352356, 0.30882737040519714, 0.18052126467227936, -0.2403620332479477, -0.032954320311546326, -0.05561840161681175, 0.22997616231441498, 0.1716288924217224, 0.01807146705687046, 0.02200125716626644, -0.1465514451265335, 0.42367884516716003, -0.05223914980888367, -0.3980172872543335, 0.04482245072722435, 0.3107895255088806, 0.5079217553138733, 0.1169460266828537, 0.05481641739606857, 0.4380441904067993, -0.04900810867547989, 16.76736068725586, 0.16889412701129913, -0.06423588842153549, 0.48110231757164, -0.0802333876490593, -0.6323246955871582, -0.22207576036453247, -0.011315848678350449, -0.218736931681633, 0.23762713372707367, 0.2477678656578064, 0.18521688878536224, 0.34458574652671814, 0.24341510236263275, -0.19441398978233337, 0.19353295862674713, 0.0994180366396904, 0.08186689019203186, 0.5272123217582703, 0.4145478308200836, -0.15837548673152924, 0.20140740275382996, 0.03488502278923988, -0.01522226445376873, -0.08471303433179855, 0.18053948879241943, -0.08188589662313461, -0.3893348276615143, 0.22683396935462952, -0.37219664454460144, -0.090626560151577, -0.10755452513694763, 0.28292977809906006, -0.5011484026908875, 0.34314870834350586, -0.18830524384975433, -0.019416235387325287, 0.22182981669902802, -0.055441565811634064, 0.33274728059768677, -0.2315870076417923, 0.20868301391601562, 5.357973805075744e-06, 0.7736725211143494, -0.26544877886772156, 0.1803920716047287, -0.1061927005648613, -0.22938600182533264, 0.388895720243454, 0.5900812149047852, 0.021009940654039383, -0.2708469033241272, 0.19218003749847412, -0.4908360242843628, -0.08002068102359772, -0.021146465092897415, 0.16908694803714752, 0.12579882144927979, -0.16327008605003357, 0.17614883184432983, 0.13768862187862396, 0.41622796654701233, 0.0627705380320549, -0.1753818243741989, -0.039019860327243805, -0.43697071075439453, 0.2030753493309021, 0.366843044757843, 0.1988893449306488, -0.12088770419359207, 0.16512268781661987, -0.08455250412225723, 0.38951125741004944, 0.10897614806890488, 0.16810059547424316, 0.4284133315086365, -0.2621077597141266, -0.2022041231393814, -0.13266733288764954, -0.2724883556365967, 0.04670054093003273, 0.06897179782390594, 0.2731303870677948, -0.03274194896221161, 0.12371553480625153, -0.025750689208507538, 0.7490165829658508, 0.19686603546142578, 0.1302182376384735, 0.22103829681873322, 0.0803675428032875, -0.2077082097530365, -0.08926476538181305, 0.07002274692058563, -0.35426899790763855, 0.12775485217571259, 0.15995357930660248, 0.006297266576439142, -0.2717336416244507, -0.9251391291618347, -0.058816973119974136, -0.16349835693836212, -0.08005356788635254, 0.3865905702114105, -0.1555936187505722, -0.10752510279417038, 0.1800490766763687, 0.19364924728870392, -0.45081421732902527, 0.36814889311790466, -0.2007949948310852, 0.20143426954746246, 0.22826725244522095, 0.03533051535487175, -0.35299962759017944, 0.17100460827350616, 0.2474304735660553, 0.08163224905729294, 0.4784412086009979, -0.3317120373249054, -0.6004964113235474, 0.2693243622779846, -0.36659467220306396, 0.329427570104599, -0.044905491173267365, 0.026386477053165436, -0.5236043930053711, 0.19838416576385498, 0.460652232170105, -0.01999698020517826, -0.13164997100830078, 0.014232182875275612, 0.05255792662501335, -0.02661583200097084, -0.10060665011405945, 0.1860768049955368, 0.3543362021446228, -0.43590837717056274, 0.13576427102088928, -0.28668996691703796, -0.07057306170463562, 0.11742204427719116, 0.002718548057600856, 0.2168511301279068, 0.7859727144241333, 0.6051036715507507, -0.2519247829914093, 0.16834595799446106, 0.33335721492767334, 0.11299583315849304, 0.2670691907405853, 0.0316295251250267, -0.25048595666885376, -0.5958999395370483, -0.07976601272821426, 0.5445753335952759, 0.20968014001846313, -0.3102238178253174, 0.10267234593629837, 0.05297607183456421, 0.302619069814682, -0.24196818470954895, 0.24992097914218903, -0.27048206329345703, -0.3701886534690857, 0.16036714613437653, -0.07047893851995468, 0.49276718497276306, -0.01005895622074604, 0.1596437394618988, -0.3106983006000519, -0.08187094330787659, 0.18302671611309052, -0.31066158413887024, 0.267526239156723, 0.09738139063119888, -0.4587757885456085, -0.007643476594239473, 0.10993334650993347, 0.26640477776527405], 'h_j': [-0.16081732511520386, 0.33616137504577637, -0.2466117888689041, 0.3718908727169037, 1.3805408477783203, 0.015659330412745476, -0.1759355664253235, 0.8495600819587708, -1.2570607662200928, 0.7975343465805054, -1.100850224494934, -0.9001100063323975, -0.8644694089889526, 1.2341675758361816, 0.4489700496196747, 0.019054725766181946, 1.2406206130981445, -0.09883824735879898, -0.5751302242279053, 0.39771729707717896, 0.011396421119570732, -1.4863982200622559, 0.08845192193984985, 0.6451280117034912, -0.007929650135338306, -0.9217947125434875, -0.46424320340156555, -0.05460961535573006, 0.4090560972690582, 0.7024968862533569, -0.7856689095497131, 0.7421368956565857, -0.06576699018478394, -0.06627555191516876, 0.49794822931289673, -0.36910784244537354, 0.9463675022125244, -0.40923285484313965, -0.6338515877723694, -0.20535756647586823, 0.6340301036834717, 1.865078091621399, -0.23571987450122833, 0.8053406476974487, -0.10643041133880615, -1.1402816772460938, 0.6076033115386963, 0.08140954375267029, 0.036389123648405075, -0.5176965594291687, 0.6108202934265137, 0.04034692049026489, 0.6330158710479736, 0.024700621142983437, -0.10958098620176315, -0.3188997209072113, 0.06629417836666107, -0.14978067576885223, -0.07706395536661148, 0.38174039125442505, 0.5474406480789185, 0.41448095440864563, -0.5958846807479858, -1.1069475412368774, 0.4204044044017792, 0.4502062499523163, -0.17922954261302948, -1.6647629737854004, 0.08050248771905899, -0.1555691659450531, -0.6000053882598877, -0.6549689173698425, 0.8510271310806274, 0.6790421605110168, -0.26694679260253906, -0.4427740275859833, -0.9394121766090393, -0.7203252911567688, -1.0410016775131226, 0.12601396441459656, 0.11993281543254852, 0.9316970109939575, 2.196420192718506, -0.6284033060073853, -0.5845810770988464, 1.3835630416870117, 0.3158559799194336, -0.6892625689506531, 0.3190459907054901, 0.3086218535900116, 0.667578935623169, 1.1771513223648071, 0.042892567813396454, -0.4765022099018097, 0.4708370566368103, 0.5135068297386169, -0.09509067237377167, 1.3393237590789795, -0.5177053809165955, -0.7702715396881104, -0.08964664489030838, 0.3951633870601654, -0.9127424359321594, 1.040286660194397, -0.03781215101480484, 0.030004853382706642, -1.4689222574234009, 0.4561842679977417, -0.26749446988105774, -0.15953445434570312, -0.23559826612472534, 0.3359282910823822, 0.5555537939071655, 0.8818918466567993, -0.10322535037994385, -0.6903032064437866, 0.658030092716217, 0.20767249166965485, -0.24149619042873383, -0.020764527842402458, -0.6242929697036743, -0.5775172710418701, 0.28497806191444397, 1.0396240949630737, 0.5543221235275269, 0.418906569480896, 1.1026787757873535, -1.1939691305160522, 0.2052575945854187, 0.6275932192802429, -0.7125914692878723, -0.3147827684879303, -0.7044928669929504, 0.18290559947490692, -0.257515013217926, 0.5313064455986023, 0.08927124738693237, 0.8249363899230957, -0.08319701254367828, 0.6247652769088745, -0.7889041304588318, 0.46110284328460693, -0.5242117643356323, -0.21760694682598114, -0.4011813998222351, -0.3305184543132782, -0.23241643607616425, -0.470414936542511, 0.1559007167816162, -0.868672251701355, -0.45728158950805664, -0.2315574735403061, 0.6743407845497131, 0.2929650545120239, -0.3967211842536926, -0.05895153433084488, 0.7349991202354431, 0.6316763758659363, 0.9438302516937256, 0.5705880522727966, 0.09479174017906189, 0.7499170899391174, 0.007024856749922037, -0.08386844396591187, -0.28954780101776123, -0.3652212619781494, -0.6748571991920471, 0.4909324645996094, -0.035708121955394745, 1.2612636089324951, -0.2730764150619507, -0.606020450592041, -0.18446290493011475, -0.7241372466087341, -0.07959161698818207, 0.5178253054618835, -0.15383267402648926, -0.5214676260948181, -0.7125930190086365, -0.14431580901145935, 0.28447484970092773, -0.09549359232187271, 0.4569394588470459, 0.9067026972770691, 0.7824411392211914, 0.8716952204704285, -0.5086473822593689, 0.06780677288770676, 0.18000128865242004, -0.6889970898628235, -1.4456555843353271, 0.29451459646224976, -0.731947660446167, 0.05451299622654915, 0.24392502009868622, 1.3658926486968994, 0.5582043528556824, -0.27304309606552124, -0.4325101375579834, 0.8588581681251526, 1.3709224462509155, -0.7593305110931396, -0.196692556142807, -0.5514941215515137, -1.7430050373077393, 0.19577525556087494, 0.08328920602798462, 0.1773063689470291, 0.5968497395515442, 0.40345045924186707, 1.226396083831787, 0.29405492544174194, 0.592278778553009, 1.6110200881958008, 0.2482275366783142, 0.3987598717212677, -1.336888313293457, -0.7557440400123596, 0.19372133910655975, -0.9151567220687866, 0.23428280651569366, -0.24713224172592163, -0.5269790887832642, -0.8389918208122253, 0.7140804529190063, -0.1685488075017929, 0.056194327771663666, -0.2309507429599762, 0.6837952136993408, 0.8216014504432678, -0.03192566707730293, 0.12797941267490387, 0.3455847203731537, 0.2903120219707489, 0.5095131993293762, 0.42092540860176086, 0.5411447882652283, 0.055309418588876724, -0.3015228807926178, 0.12510892748832703, -1.172938585281372, 0.06788478791713715, -0.6578424572944641, 0.7629334926605225, 0.46222811937332153, -0.15069544315338135, -0.9471902847290039, -3.0729966163635254, -0.32731762528419495, 0.8061119318008423, -0.2671184539794922, 0.2026473432779312, 0.19927479326725006, -0.6301169395446777, -0.634754478931427, -0.6051075458526611, 0.3969575762748718, 0.4458697736263275, -0.6579545736312866, -1.6010843515396118, -1.2783375978469849, -0.6608108282089233, -1.0017682313919067, -0.6294792294502258, -0.3713316321372986, -0.2887670695781708, -0.242120623588562, 0.6624727249145508, 0.6735727787017822, -0.4731583893299103, 0.107894167304039, 0.5233195424079895, -0.5124492049217224, 0.515471875667572, -0.037617433816194534, 0.7846447229385376, -2.172119379043579, -0.3411942422389984, 1.1286295652389526, -0.5591092705726624, -0.14221304655075073, 1.0005625486373901, -1.4315273761749268, 1.4015166759490967, -0.522756040096283, 0.9369015693664551, -0.2594590485095978, -0.342859148979187, -1.0680124759674072, -0.030456315726041794, 0.32999035716056824, 0.7776397466659546, 0.5674037337303162, -0.4335656762123108, -0.19329729676246643, 0.4010156989097595, 0.37517109513282776, -0.5337162613868713, -0.7082685828208923, -0.07794371247291565, -0.29456254839897156, 0.5807329416275024, 0.5709414482116699, -0.3309173583984375, 0.3030751645565033, 0.43778660893440247, 0.4445072412490845, 0.9151718616485596, -0.8014228343963623, -0.784760594367981, 0.7321555018424988, 0.7258661389350891, -0.2235420048236847, -0.9920306205749512, 0.25245922803878784, -0.27344805002212524, -0.5575067400932312, -0.10697810351848602, -0.12211896479129791, 1.327040672302246, -0.24262523651123047, 0.8789681196212769, 0.4577946662902832, 0.6511043906211853, -1.0041476488113403, 1.1173955202102661, -0.9005981683731079, 1.325561761856079, -0.8063532114028931, 0.5289704203605652, 3.694246768951416, 0.49293673038482666, 0.240514874458313, 0.9089933037757874, 0.23147647082805634, 0.1548786163330078, 0.20060843229293823, -0.3121682107448578, -0.6055758595466614, 0.5319535136222839, -0.07949117571115494, 0.7157439589500427, -1.4832720756530762, -0.01747938059270382, 0.035467084497213364, 0.4943709969520569, -0.04216684401035309, -0.21223697066307068, 0.6339444518089294, 0.21178945899009705, 1.278485655784607, -0.4544883668422699, 0.569949746131897, -1.4538336992263794, 0.7619253993034363, 0.5847575068473816, 1.1198372840881348, -0.5571668744087219, -0.8489285111427307, -0.8999201059341431, 1.1642032861709595, -0.13085825741291046, -0.1481209248304367, 0.8686986565589905, 0.7221559286117554, -0.045601531863212585, -1.038775086402893, -1.044644832611084, -0.5643134117126465, -0.6411493420600891, 0.5203046202659607, 0.5623028874397278, 0.9641444087028503, 0.7509208917617798, 1.3557634353637695, -0.5959053039550781, -1.135644793510437, 0.8950494527816772, 0.6767078042030334, -0.7652702331542969, 0.6907861232757568, 0.5409926772117615, 0.10163339227437973, -0.3820931017398834, 1.3495389223098755, 1.2939165830612183, 0.2942180037498474, 1.1544233560562134, -0.5603431463241577, 0.09943389892578125, 0.9827062487602234, 0.3291758894920349, -0.1825438141822815, -0.627923846244812, -0.13698998093605042, -0.12263819575309753, 1.011818528175354, 1.2179137468338013, -0.3647329807281494, -0.02449800819158554, -0.554672360420227, -0.12103632837533951, -0.48389869928359985, -0.12127373367547989, 1.0103569030761719, -0.4457768499851227, -1.5293644666671753, 0.2546705901622772, -0.6908138990402222, -1.5032674074172974, 0.06831581145524979, 1.1602436304092407, -0.5783462524414062, 1.1958905458450317, 0.37027186155319214, -0.20493000745773315, 0.635380744934082, 1.097511649131775, -0.43594440817832947, -0.2038360834121704, 1.06455659866333, 0.44779694080352783, -1.0954625606536865, 0.6022080779075623, -0.9945493340492249, 0.1689978390932083, -0.07447544485330582, 0.32987257838249207, -0.6097983121871948, 0.11778866499662399, 0.6934428811073303, 0.44987764954566956, -0.3908570408821106, 0.0388699434697628, -0.30633074045181274, 0.6624664664268494, -0.7578492760658264, 0.32919469475746155, -0.506364107131958, -0.010331680066883564, 0.4609430432319641, -0.06442361325025558, 0.8275915384292603, 0.8158721327781677, -0.5049272775650024, 0.2054298222064972, -0.016566378995776176, 0.14265047013759613, -2.005711793899536, -0.07100726664066315, 0.9557060599327087, -0.6827818751335144, -1.9152930974960327, -1.2407814264297485, 0.18859928846359253, 0.16142837703227997, -0.15118467807769775, 0.885341227054596, -0.7477507591247559, 0.554328441619873, 0.36064380407333374, -0.22467300295829773, -0.5423153638839722, 0.2595101296901703, -0.6046984195709229, -0.04160895571112633, 0.9861986637115479, -0.4016874432563782, -0.7020318508148193, -0.07561711221933365, -0.16578423976898193, -0.01312230620533228, 0.16587956249713898, 1.04180908203125, 0.8826106190681458, -0.0027355675119906664, 1.2444311380386353, 1.2835577726364136, -0.11183556914329529, -0.916305661201477, 0.41220229864120483, 0.26383423805236816, 0.08441418409347534, -0.25857409834861755, 0.1018085852265358, -0.8641393780708313, -0.17946697771549225, -1.3027247190475464, -0.2548266053199768, 0.1789151430130005, 0.3032313883304596, 0.19121357798576355, 0.23764386773109436, 0.8540028929710388, -0.5689753890037537, 0.34278976917266846, 0.5377011895179749, 0.030048266053199768, -0.16069264709949493, 0.1821380853652954, 0.10146722197532654, 0.060088224709033966, -0.42350971698760986, 0.08939558267593384, -0.7313848733901978, -0.30590111017227173, -0.16884829103946686, 0.9805316925048828, -0.9028155207633972, 0.8304257392883301, -0.3137297034263611, 0.414126992225647, 0.43401050567626953, -0.03441806510090828, 0.3744378089904785, -0.02091841958463192, 0.3990068733692169, 0.6395836472511292, -0.08580711483955383, -0.8804203271865845, 0.21580281853675842, -0.27281615138053894, -1.2207458019256592, -0.4368892014026642, -0.24983403086662292, -0.3380981981754303, 0.3708834648132324, -0.599964439868927, -0.5204477310180664, 1.09518301486969, 0.6139464974403381, 0.5856810212135315, 0.8596758246421814, 0.4387315511703491, 0.08573424071073532, 0.46460163593292236, 0.38028255105018616, -0.014159595593810081, -0.1726442128419876, 0.37303152680397034, 1.4186078310012817, -0.14473813772201538, 0.04152316227555275, -0.2998198866844177, 0.3659868836402893, 0.13525357842445374, -1.6172616481781006, -0.6701570153236389, -0.5440439581871033, -1.2076071500778198, 0.9234208464622498, -0.4885513484477997, -0.04617074131965637, -0.1889265924692154, -0.19565358757972717, 1.1844329833984375, 0.7096993327140808, 0.5461688041687012, -0.6666540503501892, -1.5555007457733154, -0.0038036536425352097, 0.4759387969970703, 0.0189665574580431, -0.6406480669975281, -1.829659104347229, 0.7576845288276672, -0.36396124958992004, 0.8013615012168884, 0.17232325673103333, 0.43210145831108093, -2.1770544052124023, -0.6240854263305664, -1.416216254234314, -0.4064572751522064, 0.8248730301856995, -0.0771237313747406, -0.14199993014335632, -1.1096185445785522, 0.5120044946670532, 0.1325760930776596, -1.5224711894989014, 0.3016751706600189, 0.2444656640291214, 0.17821352183818817, 0.3339255750179291, -0.7849835753440857, 1.3880820274353027, 0.7028222680091858, -1.2891454696655273, 0.3599470853805542, 0.23938943445682526, -0.12660400569438934, 1.1328999996185303, -0.6456965208053589, -0.2024313360452652, 1.0233882665634155, -0.18947869539260864, 0.8437105417251587, 0.12207988649606705, 0.30823683738708496, 0.2508995532989502, 0.3473578095436096, 0.12164106220006943, 0.4616136848926544, -0.09005143493413925, 0.8196806311607361, 0.2712605893611908, 0.4182133078575134, -0.1918211728334427, -0.10214374214410782, 0.3042850196361542, 0.9325964450836182, -1.0879251956939697, -0.6914569139480591, -0.5660707354545593, -1.2483863830566406, 0.670520007610321, -0.7437165379524231, 0.3758145868778229, -0.47631245851516724, 0.37648963928222656, -0.7171401977539062, 0.01861768774688244, -0.4530979096889496, -0.38839250802993774, 0.4978348910808563, 0.943018913269043, -0.5516011714935303, -0.48545965552330017, 0.04114753380417824, 0.19413267076015472, 1.1721054315567017, -0.46059155464172363, -0.12236461043357849, -1.061060905456543, -0.24397723376750946, 1.0544713735580444, 0.49892640113830566, -0.16837097704410553, -0.058555081486701965, 0.10377626866102219, -0.06861845403909683, -0.47331324219703674, -1.1387113332748413, 0.8720932602882385, 0.828605055809021, 0.28713417053222656, 1.439968228340149, 0.4671672582626343, 0.06574662774801254, -0.31728145480155945, 0.8889988660812378, 1.0221728086471558, -0.7869725227355957, 0.30069470405578613, 1.65510892868042, 0.5526851415634155, -0.30756986141204834, 0.3715956509113312, -0.041751377284526825, 1.0581508874893188, -0.23859471082687378, 0.966988205909729, 0.3564135730266571, 1.3626441955566406, 0.06905030459165573, 0.3927532732486725, 0.435465931892395, 0.1012439951300621, 0.3353736996650696, 0.8837491869926453, -0.19688305258750916, -0.7127307653427124, 0.36797595024108887, 1.636425495147705, 1.2261136770248413, 0.37353286147117615, 0.1556241810321808, -0.3445868194103241, 1.5288161039352417, -0.1078667864203453, -0.4174082577228546, -0.09247961640357971, 0.47873127460479736, -0.11347891390323639, -0.13609975576400757, -0.24000895023345947, -1.055174708366394, -0.3470578193664551, -0.7043514847755432, 0.5038180351257324, 1.1729023456573486, -0.29656022787094116, -0.8233625888824463, 0.12243281304836273, 1.3028755187988281, -1.0510183572769165, 0.7245336174964905, -0.41874149441719055, 1.1327660083770752, 0.7800206542015076, 0.2731396555900574, -0.3932032585144043, -0.13457942008972168, 0.33919307589530945, 0.5973778963088989, 0.7587489485740662, -0.42147597670555115, -1.2267893552780151, 0.24144168198108673, -0.14573056995868683, 0.09890487790107727, -0.14210431277751923, 0.1256512552499771, -0.17862792313098907, 0.18550987541675568, 0.2719080150127411, 0.5797063112258911, -0.31150898337364197, 0.8313151597976685, -1.038057804107666, 0.9461973905563354, -0.5044535994529724, 0.21630077064037323, -0.04865089803934097, -0.49588581919670105, -1.4104344844818115, -0.9447624683380127, -0.5571997165679932, 0.3978155255317688, -0.6666234731674194, 0.408555805683136, 0.8642898797988892, 0.7161192297935486, -0.24597583711147308, 0.8914903402328491, 0.7913390398025513, -0.5111107230186462, 0.4760778248310089, 0.2150227129459381, 0.24534721672534943, -0.4923771619796753, -0.31405380368232727, 0.5177785754203796, -0.833627462387085, -0.14336398243904114, -0.4201165735721588, -0.7176020741462708, 1.1177222728729248, -0.942714512348175, 1.0819406509399414, -1.3448652029037476, 0.8756902813911438, -1.0236207246780396, -0.12801112234592438, 0.030419547110795975, 0.7293815016746521, 1.108039140701294, -1.5540896654129028, -0.7741476893424988, 0.7679411768913269, 0.5987873077392578, 0.02926463820040226, 0.6271204352378845, -0.7218801975250244, 1.3293721675872803, -0.19722871482372284, -0.2664557695388794], 'label': 0}\n",
            "Drive already mounted at /content/drive; to attempt to forcibly remount, call drive.mount(\"/content/drive\", force_remount=True).\n",
            "Loaded dataset from drive.\n",
            "Number of samples: 143476\n",
            "Column names: ['h_i', 'h_j', 'label']\n",
            "First sample: {'h_i': [-0.03574247285723686, -0.015568173490464687, 0.04433594271540642, -0.2551768124103546, 0.5431303381919861, -0.052284833043813705, 0.1384091079235077, 0.27487412095069885, -0.17961081862449646, -0.10797158628702164, -0.46370697021484375, -0.14926613867282867, -0.09300041943788528, 0.06408052891492844, 0.12591618299484253, -0.3600463271141052, -0.06332714110612869, -0.20246948301792145, -0.25451621413230896, 0.36145108938217163, -0.012236740440130234, -0.0203297920525074, 0.12791365385055542, -0.06409116834402084, -0.023888980969786644, 0.1217065379023552, 0.14684250950813293, -0.341422438621521, -0.08902009576559067, 0.03113497979938984, -0.3619805574417114, -0.2470576912164688, -0.39857348799705505, -0.16561433672904968, -0.2645741105079651, -0.19168643653392792, 0.04270109906792641, 0.03634512424468994, -0.20749381184577942, -0.2225838303565979, 0.23924097418785095, 0.019254252314567566, 0.27237167954444885, 0.4337293803691864, -0.08627263456583023, -0.21004341542720795, -0.07801130414009094, 0.23768046498298645, 0.13232256472110748, 0.120881088078022, -0.0011203124886378646, -0.13611477613449097, 0.4875980317592621, 0.09635955840349197, 0.012045349925756454, -0.3245057165622711, -0.00048797373892739415, 0.4434434175491333, -0.11378578096628189, 0.009029248729348183, 0.09897717088460922, 0.08703164011240005, 0.05128940939903259, 0.003316699294373393, 0.3013937175273895, 0.2764754295349121, -0.08529026061296463, -0.2795761525630951, -0.24582430720329285, -0.10731270164251328, -0.3727997839450836, -0.19606633484363556, 0.08328764885663986, 0.15634804964065552, -0.05016361549496651, 0.25796931982040405, -0.07138624787330627, 0.299925297498703, -0.46296629309654236, 0.24317580461502075, 0.20279017090797424, 0.641695499420166, 0.12534263730049133, -0.4610838294029236, -0.2885458767414093, 0.2989596426486969, 0.16481205821037292, -0.2991410493850708, 0.05730661377310753, 0.27261272072792053, -0.39924564957618713, 0.13572372496128082, 0.1310468465089798, -0.011978653259575367, 0.46630099415779114, -0.14353042840957642, -0.2877558171749115, -0.25051149725914, -0.3484863042831421, -0.21338938176631927, -0.025165986269712448, -0.0007075861794874072, -0.18709832429885864, 0.02624695561826229, -0.011412852443754673, 0.28716275095939636, -0.3714069128036499, 0.10839570313692093, -0.23296356201171875, 0.1566888391971588, -0.08997073769569397, -0.062264468520879745, 0.276904821395874, 0.18266312777996063, -0.22289519011974335, 0.011050914414227009, 0.14940117299556732, 0.20679116249084473, -0.25079187750816345, -0.23263199627399445, 0.12190091609954834, -0.0947304219007492, 0.16629084944725037, 0.19199605286121368, 0.20864613354206085, 0.14415912330150604, 0.27145132422447205, -0.24117422103881836, -0.20168235898017883, 0.28304213285446167, -0.1500304937362671, 0.029773833230137825, 0.04225245490670204, 0.10765460133552551, 0.1018100157380104, 0.0822843536734581, 0.052241962403059006, -0.29630953073501587, 0.134955033659935, 0.10736345499753952, -0.37064987421035767, 0.03017302230000496, 0.01168037299066782, 0.1051037535071373, -0.30742329359054565, -0.34964993596076965, 0.02238251268863678, -0.14560188353061676, 0.16543081402778625, -0.15921062231063843, -0.07727306336164474, 0.07047004997730255, 0.49358275532722473, -0.08702206611633301, 0.11562296003103256, 1.3848724365234375, -0.12352561950683594, -0.013026237487792969, -0.14780732989311218, 0.17193235456943512, 0.2400895208120346, -0.2039586305618286, -0.14679159224033356, 0.14484962821006775, 0.3021318018436432, -0.10561399161815643, 0.11819815635681152, 0.18663470447063446, 0.255333811044693, -0.1997801810503006, -0.10686473548412323, 0.1064949482679367, 0.03618388995528221, -0.24153687059879303, 0.06466560065746307, 0.13427577912807465, 0.056278474628925323, -0.04452188313007355, 0.13279396295547485, -0.0051842001266777515, 0.06246558204293251, 0.23841674625873566, -0.03437076508998871, 0.20560167729854584, 0.3205113708972931, 0.40905067324638367, -0.20064383745193481, -0.3515806496143341, -0.12088694423437119, -0.27037638425827026, -0.18667227029800415, 0.2669554054737091, 0.05245015770196915, -0.38592132925987244, 0.0991106852889061, 0.38929814100265503, 0.08040446043014526, 0.08090518414974213, 0.11579281091690063, -0.015683284029364586, 0.10526464879512787, -0.2822604477405548, 0.023690879344940186, 0.41120633482933044, -0.04863160848617554, -0.03499760851264, 0.016695832833647728, 0.026802096515893936, -0.019390515983104706, -0.19272403419017792, -0.07505998760461807, 0.05964256450533867, 0.24773123860359192, -0.03429776057600975, 0.2958817183971405, 0.05503280088305473, -0.14902423322200775, 0.6311776041984558, 0.15172569453716278, 0.06917956471443176, 0.11168532818555832, 0.19872379302978516, -0.045542337000370026, -0.1555793583393097, -0.1278359442949295, 0.021882299333810806, 0.03864637762308121, -0.05815951153635979, -0.1652710884809494, 0.38911980390548706, -0.015896271914243698, -0.27793484926223755, -0.26454034447669983, 0.25503209233283997, 0.2907516062259674, -0.10857156664133072, 0.42119652032852173, 0.2525067925453186, -0.17312470078468323, 0.01765001006424427, -0.20588649809360504, 0.14125142991542816, 0.015952425077557564, 0.16937372088432312, -0.041208382695913315, 0.1641542911529541, -0.14772792160511017, -0.23555687069892883, -0.3885933756828308, 0.09516847878694534, -0.24359919130802155, 0.017242860049009323, 0.28131890296936035, -0.2574613392353058, -0.3825298249721527, 0.026575978845357895, 0.014557656832039356, 0.14337383210659027, 0.1642756164073944, 0.3213918209075928, 0.16692672669887543, 0.11654471606016159, 0.3175502121448517, -0.02452661842107773, 0.14932502806186676, -0.17460216581821442, -0.10452685505151749, 0.0006290286546573043, 0.01812214031815529, -0.5786679983139038, -0.3855169117450714, 0.2968088984489441, -0.1064520850777626, 0.27674874663352966, 0.35770148038864136, 0.07076862454414368, -0.43316900730133057, -0.09908534586429596, 0.3110557794570923, 0.007246596273034811, -0.09586446732282639, -0.17742078006267548, -0.35529857873916626, 0.14346060156822205, -0.11722806841135025, -0.007179060950875282, -0.17899110913276672, 0.02383955381810665, 0.16662222146987915, 0.20177699625492096, -0.19568663835525513, 0.051530785858631134, -0.13317790627479553, -0.14868050813674927, 0.25610867142677307, -0.1187836304306984, 0.2841816544532776, -0.1717650443315506, -0.08196964859962463, -0.05274146422743797, 0.23293785750865936, 0.0013485002564266324, 0.09475085884332657, 0.007673298474401236, -0.06843415647745132, 0.09524969756603241, -0.17706000804901123, 0.3183180093765259, -0.09850631654262543, -0.5119569897651672, 0.06382383406162262, 0.48807135224342346, -0.086705282330513, -0.03566429391503334, -0.3010934293270111, -0.13624005019664764, -0.16143281757831573, 0.14402130246162415, -0.16149316728115082, 0.35171157121658325, -0.03674865514039993, 0.1443767100572586, 0.10194876790046692, 0.3015761077404022, -0.3069777488708496, 0.3591042757034302, -0.07879835367202759, 0.5001077651977539, -0.3273301422595978, 1.025189757347107, -0.4940010607242584, -0.0003154552250634879, 0.12454057484865189, 0.3985018730163574, 0.07563386112451553, -0.1521504819393158, 0.26882487535476685, 0.1744147390127182, -0.2610169053077698, 0.00919074472039938, -0.12894056737422943, -0.3164876103401184, -0.2410830855369568, 0.17973043024539948, -0.050201185047626495, -0.05369502305984497, 0.009415367618203163, -0.1004793792963028, 0.11933102458715439, 0.567988932132721, 0.19093674421310425, -0.12425363808870316, -0.08564197272062302, -0.25301262736320496, -0.16986259818077087, 0.12446780502796173, 0.11382299661636353, 0.08927561342716217, -0.15826134383678436, -0.3293892741203308, 0.02281983010470867, 0.15325304865837097, 0.441138356924057, -0.17376956343650818, 0.06389212608337402, -0.11808344721794128, -0.23537114262580872, 0.05994671583175659, -0.3283078074455261, -0.20722061395645142, 0.22710414230823517, -0.03465554118156433, 0.044046372175216675, 0.19389547407627106, -0.02878692001104355, 0.13751818239688873, -0.11739136278629303, 0.2932562828063965, 0.34859493374824524, 0.1408327966928482, 0.14815464615821838, 0.5217351317405701, 0.011155462823808193, -0.050715431571006775, 0.06859768182039261, -0.0751287117600441, 0.20274291932582855, -0.0792786255478859, -0.31514090299606323, 0.11389697343111038, 0.002250654622912407, -0.002933397889137268, -0.008836604654788971, -0.3717767000198364, 0.00672602653503418, 0.13267672061920166, -0.04185665771365166, 0.01307128369808197, 0.031471382826566696, -0.015297644771635532, -0.14465011656284332, 0.1210983619093895, -0.2877596616744995, -0.19571146368980408, 0.2727310359477997, 0.041414521634578705, -0.085212342441082, -0.04593418166041374, 0.0922887772321701, -0.25377848744392395, -0.1644049733877182, 0.2652905583381653, -0.1611628383398056, -0.028277868404984474, -0.09542214125394821, -0.03227948397397995, -0.12556417286396027, 0.06606287509202957, 0.36980122327804565, 0.1385204792022705, 0.15138521790504456, 0.12513510882854462, -0.007369206752628088, 0.5461623072624207, 0.05593905970454216, -0.10412713885307312, 0.1409527063369751, 0.707474946975708, -0.2528572380542755, 0.17538906633853912, 0.32941964268684387, -0.07388131320476532, -0.3086889386177063, 0.1890707015991211, 0.0943085253238678, -0.26874104142189026, -0.17853671312332153, 0.15649648010730743, -0.06625888496637344, 0.10316742211580276, 0.22883707284927368, 0.23750922083854675, -0.05007370933890343, -0.06022430211305618, 0.2791741192340851, -0.17779001593589783, 0.0280191358178854, 0.034606561064720154, 0.21151216328144073, -0.048566728830337524, -0.3104530870914459, 0.04383236914873123, -0.34204766154289246, -0.7007220387458801, 0.15994484722614288, 0.8068356513977051, -0.13904881477355957, 0.07988160848617554, -0.22591695189476013, 0.013924372382462025, -0.10347248613834381, 0.24523396790027618, -0.11490439623594284, 0.2722494602203369, 0.0526236966252327, -0.24172839522361755, 0.15253454446792603, -0.16855870187282562, -0.14829811453819275, 0.1686161905527115, -0.007554363459348679, 0.18016095459461212, 0.00973919965326786, 0.0094281155616045, -0.02755589410662651, 0.27634766697883606, 0.1242746040225029, 0.07995600253343582, 0.186089888215065, -0.06726665794849396, 0.04098188877105713, 0.26840290427207947, -0.32393327355384827, 0.004776477813720703, 0.30680957436561584, -0.18232007324695587, -0.01418978814035654, -0.1991693079471588, -0.247527614235878, 0.07802572846412659, -0.42855921387672424, -0.08125971257686615, -0.25084081292152405, 0.08273418992757797, -0.16895540058612823, -0.07959557324647903, -0.09308353811502457, -0.23998570442199707, 0.24490077793598175, 0.036313220858573914, 0.1371336430311203, -0.036513857543468475, -0.15427832305431366, -0.2845882475376129, -0.07148514688014984, -0.09787655621767044, 0.11319936066865921, -0.25354573130607605, -0.4507221281528473, 0.2371816188097, -0.12164483219385147, -0.1537109762430191, 0.1389779895544052, 0.07987935841083527, 0.09873326867818832, 0.06165509670972824, 0.20369556546211243, 0.128728449344635, 0.10677755624055862, 0.057965509593486786, -0.25538215041160583, 0.14449675381183624, 0.0562903992831707, -0.26342660188674927, 0.03251337632536888, 0.09003003686666489, 0.12913505733013153, -0.05407147854566574, -0.5599137544631958, 0.1889013648033142, 0.18852099776268005, 0.4458574652671814, 0.1542830467224121, 0.17106357216835022, 0.09505125135183334, 0.06809363514184952, -0.23453812301158905, 0.1999834030866623, 0.27768442034721375, 0.2620817720890045, 0.376476526260376, -0.3104868233203888, -0.004954842384904623, -0.153359055519104, -0.12061358243227005, 0.016429251059889793, -0.046117715537548065, 0.01618260331451893, 0.14752596616744995, -0.13907229900360107, 0.16261814534664154, -0.791947603225708, 0.2599070072174072, -0.0019081691280007362, -0.014972515404224396, -0.04105972871184349, 0.0076958006247878075, 0.09251450002193451, 0.21742700040340424, 0.017084982246160507, 0.057180263102054596, 0.15299396216869354, -0.02121150679886341, 0.05759407952427864, -0.009405765682458878, -0.0850406289100647, -0.21907658874988556, 0.31454041600227356, 0.3512502908706665, -0.2322484850883484, 0.044193290174007416, -0.26435890793800354, -0.07901648432016373, 0.23625421524047852, 0.3688029646873474, 0.05759447067975998, 0.08552040159702301, -0.26354220509529114, 0.35530248284339905, 0.03817947208881378, -0.07459796965122223, 0.5144323110580444, -0.12582068145275116, 0.34373360872268677, 0.062473881989717484, 0.1476440578699112, 0.022022530436515808, 0.008356419391930103, 17.154754638671875, 0.31293177604675293, 0.13916996121406555, 0.19787688553333282, 0.20698444545269012, -0.3381430506706238, -0.26724353432655334, -0.11594250053167343, 0.19898901879787445, -0.0020974818617105484, 0.13352517783641815, 0.14298930764198303, 0.19011668860912323, -0.0163117628544569, 0.08359504491090775, -0.35964083671569824, -0.2807462215423584, 0.17329628765583038, 0.3551397919654846, 0.39040809869766235, -0.23966211080551147, -0.06070353090763092, -0.05954115465283394, -0.4047575294971466, -0.24148157238960266, 0.5295145511627197, -0.17067468166351318, -0.3742918372154236, -0.19875375926494598, 0.0815180093050003, 0.30913877487182617, -0.3287581205368042, 0.2845654785633087, -0.0364103689789772, 0.34032341837882996, -0.22241392731666565, 0.13506963849067688, -0.03417422994971275, -0.20304539799690247, -0.05799298360943794, -0.13683904707431793, -0.13376475870609283, 0.03369489312171936, 0.18706686794757843, -0.4399760365486145, -0.030765824019908905, -0.014631620608270168, 6.542131450260058e-05, 0.076252780854702, -0.06832147389650345, 0.01414920948445797, 0.020463014021515846, 0.30804625153541565, -0.30659276247024536, -0.3882419466972351, -0.4648135006427765, 0.4073328971862793, 0.039461053907871246, -0.11811786890029907, 0.0002645877539180219, 0.2266421616077423, 0.03181169554591179, -0.11155315488576889, -0.22445622086524963, 0.12392131239175797, -0.4272167682647705, 0.009858408942818642, 0.1714312732219696, 0.17328505218029022, -0.14735211431980133, 0.14285069704055786, 0.10536109656095505, -0.0015023878077045083, 0.23274017870426178, 0.4705345332622528, 0.3660968840122223, -0.10020119696855545, -0.01902068220078945, 0.017530525103211403, -0.26460152864456177, 0.017022663727402687, 0.27211111783981323, 0.19591212272644043, 0.12413958460092545, 0.05152291804552078, -0.17536818981170654, -0.05335134640336037, 0.16157253086566925, -0.05993393436074257, 0.42384660243988037, -0.09640181809663773, 0.08623242378234863, -0.2717670202255249, -0.06677501648664474, 0.20919321477413177, 0.24830861389636993, 0.3479204773902893, 0.013361667282879353, -0.4571857452392578, -0.43846994638442993, -0.0674227923154831, 0.025054585188627243, -0.19153977930545807, 0.11132107675075531, -0.027254464104771614, -0.08212074637413025, 0.6026332974433899, 0.24035485088825226, -0.13623332977294922, 0.2624708414077759, -0.10714346915483475, -0.08695590496063232, 0.10857490450143814, 0.2804112136363983, -0.05858922377228737, 0.1801227480173111, 0.0946120023727417, -0.06140681728720665, 0.5218566060066223, 0.02531486563384533, 0.04400239139795303, 0.22283658385276794, -0.10277359932661057, -0.019426539540290833, 0.1078033372759819, 0.17847321927547455, -0.19751028716564178, 0.10938599705696106, 0.09426558017730713, -0.09364503622055054, -0.31905117630958557, -0.020175088196992874, 0.14226099848747253, 0.09464456886053085, 0.1262097954750061, 0.038457032293081284, 0.12292148917913437, -0.17431221902370453, 0.35808712244033813, 0.007690967991948128, -0.26135680079460144, -0.01204800233244896, 0.014361849054694176, -0.012687117792665958, 0.3071523606777191, 0.1571180671453476, -0.27431365847587585, 0.3425239622592926, 0.20563556253910065, 0.0397317111492157, 0.24810051918029785, 0.5478388667106628, 0.06881170719861984, -0.28285497426986694, -0.17347446084022522, 0.3677508533000946, -0.09347964823246002, -0.16567622125148773, -0.13991813361644745, -0.13939310610294342, 0.2633920907974243, -0.145054429769516, 0.5885091423988342, -0.2655276358127594, -0.10365993529558182, 0.4672746956348419, 0.09059588611125946, 0.02493949979543686, 0.25766316056251526, 0.12790945172309875, 0.029380207881331444, -0.20701898634433746, 0.32719936966896057, -0.2564171552658081, 0.19568495452404022, -0.11398211121559143, -0.1444876492023468, 0.0736207365989685, 0.1015843078494072, -0.3341803252696991], 'h_j': [0.14499536156654358, 0.10870669782161713, -0.40036436915397644, 0.31169405579566956, 0.40490835905075073, -0.22186681628227234, 0.0465751513838768, 0.5845298171043396, -0.46675729751586914, 0.18351086974143982, 0.16811279952526093, -0.9460435509681702, -0.4646522104740143, 0.7309597134590149, 0.5159630179405212, -0.2759110629558563, 0.12709465622901917, -0.1625070422887802, -0.3059426546096802, 1.116247534751892, 0.7315489053726196, -0.4527755677700043, 0.1318911761045456, 0.7178104519844055, -0.054424870759248734, 0.7330166697502136, 0.41519978642463684, -0.5388078689575195, 0.6617530584335327, -0.05350954830646515, -0.1251763552427292, 0.42731913924217224, -0.1490766704082489, 0.37875765562057495, 1.4655756950378418, -0.4001203775405884, -0.3746310770511627, 0.6361541152000427, 0.12782663106918335, -1.2908214330673218, 0.9343387484550476, 0.2584235370159149, 0.5514847040176392, 0.9813675880432129, -0.6830363869667053, 0.2968848645687103, 0.06061271205544472, 1.5545028448104858, 0.18993282318115234, 0.2079261690378189, -0.21131664514541626, 0.712342381477356, 0.7166515588760376, 0.11027465015649796, 0.25471219420433044, -0.8011410236358643, -0.3199891149997711, -0.2411857694387436, -0.7658605575561523, -0.07759582996368408, -0.6441693902015686, 1.763702154159546, -0.8455283045768738, -0.37779027223587036, -0.04339867830276489, 0.011704151518642902, -0.8435635566711426, -0.3069974482059479, 0.31667134165763855, -0.43425989151000977, 0.8781115412712097, -0.15351633727550507, 0.9971904158592224, -0.038174498826265335, 0.806813657283783, -0.25599560141563416, -0.6681308150291443, -3.0170822143554688, -0.005530022084712982, -0.012992222793400288, -0.4895547032356262, 0.4230526089668274, 0.8393751978874207, 0.6056227087974548, 0.28187352418899536, 2.1565630435943604, 0.09977296739816666, -0.2736246883869171, 0.3966239392757416, 0.2516666650772095, -0.8113085031509399, 1.495934247970581, -1.1752246618270874, 0.3170727789402008, -0.14530061185359955, 1.73971426486969, -0.35131749510765076, 1.5582091808319092, -0.3987772762775421, 0.4573192298412323, 0.5103921890258789, 0.22425433993339539, -0.8422945737838745, 0.6881071329116821, 0.2775042653083801, -0.33347418904304504, -0.6121137142181396, -0.7104027271270752, -0.7069718837738037, -0.6160168051719666, 0.4290757179260254, 0.0007177393999882042, 0.6839399337768555, 1.6333788633346558, 0.3801039457321167, -0.40488147735595703, -0.022528279572725296, -0.25698620080947876, 0.6544625759124756, -0.33645451068878174, -0.6611032485961914, 0.4171220064163208, -0.5021557807922363, 0.007377313449978828, -0.3252146244049072, 0.21551822125911713, -0.36463817954063416, -0.9964538216590881, 0.4376717209815979, 1.1578880548477173, 0.5997499227523804, -0.8391067385673523, -0.28458064794540405, 0.24929793179035187, 0.4088202714920044, 0.3271230459213257, 0.5252864956855774, 0.22058510780334473, 0.295309454202652, -0.05887932702898979, -0.4963805079460144, 0.4940958619117737, -1.0017694234848022, 0.21765781939029694, 0.7383551001548767, 0.4064633548259735, -0.5972322821617126, -0.3938516080379486, 0.03894517943263054, -0.4497014284133911, -0.06367003172636032, -0.4416613280773163, 0.44520944356918335, -0.5649726390838623, -1.733499526977539, 0.7502672672271729, 0.18155314028263092, -0.47109881043434143, 0.446617990732193, 0.6542090773582458, -0.3290926516056061, 0.19752098619937897, 0.16520163416862488, -1.1009550094604492, 0.4062805771827698, 0.41332316398620605, -0.8915557861328125, 0.4781120717525482, 0.15487788617610931, 1.4346996545791626, -0.9043686389923096, -0.8902658224105835, 0.3970450758934021, -0.2384200096130371, -0.31524696946144104, 0.3903992474079132, 0.9400832056999207, 0.11973945796489716, -0.32594653964042664, 0.48802298307418823, 0.5231795907020569, 0.17961910367012024, -0.2925920784473419, 0.9491243362426758, 1.0678961277008057, 0.6467252969741821, -0.33755913376808167, -0.7840781807899475, 0.7661595940589905, -1.3587464094161987, -0.7092576622962952, 0.4310888648033142, 0.22233553230762482, 0.017854468896985054, 1.0004143714904785, 0.41393181681632996, -0.17150531709194183, 0.6887576580047607, -0.5054524540901184, 0.42952874302864075, 0.9250703454017639, -0.11272226274013519, -1.0780255794525146, -0.30430907011032104, -1.1820322275161743, -0.6350116729736328, 0.23204445838928223, -0.1652878224849701, 0.764529287815094, 0.4630974233150482, 0.6594927906990051, -1.434401512145996, 0.8714841604232788, -0.19304373860359192, 1.0910669565200806, -0.17292891442775726, 0.11961712688207626, 0.03589552640914917, 0.7022663354873657, -0.30415740609169006, -1.1001546382904053, -0.5915629863739014, -0.258868545293808, 0.6071475148200989, -0.0662992000579834, 0.4406762421131134, 0.9616722464561462, -0.46301892399787903, 0.5767678022384644, 0.5216666460037231, -0.6438851356506348, -0.13167738914489746, 0.34204068779945374, 0.24466250836849213, -0.033413149416446686, 0.020744143053889275, 1.2423778772354126, -0.09750929474830627, -0.485272616147995, 0.5585614442825317, 0.534920334815979, 0.24272462725639343, -0.2606615126132965, 0.17190754413604736, 0.5191826820373535, -0.44765302538871765, -0.2456773817539215, -1.412264108657837, -0.6786953210830688, 0.3273829519748688, -0.3068752884864807, 0.031141551211476326, 0.6192917823791504, 0.36038070917129517, 0.6313962936401367, -0.15456146001815796, 0.13156665861606598, -0.7385497093200684, 0.49881428480148315, -0.9020306468009949, -0.7613170146942139, -0.016868501901626587, -0.9327757954597473, -0.2739146053791046, -0.8542789816856384, 0.41761404275894165, 0.4321783781051636, 1.02299165725708, 1.1132031679153442, -0.6789863705635071, -1.1286585330963135, 0.12721043825149536, -1.010105848312378, 0.28413519263267517, -0.5725046396255493, 0.6196693181991577, -0.09882483631372452, -0.6399160623550415, 0.8883309364318848, -0.11081482470035553, -0.3124127984046936, 0.7111160159111023, 0.06060631200671196, 0.06823933124542236, -0.14918206632137299, 0.7529001235961914, -0.565727174282074, -0.5912097096443176, -1.3627715110778809, 0.09251245856285095, -0.055910006165504456, -0.2730790078639984, 0.7450946569442749, -0.8622627854347229, -0.1866304725408554, -0.3087899088859558, -0.401696115732193, 0.032099656760692596, -0.9867872595787048, 0.22343730926513672, -0.571466326713562, -0.3720058500766754, 0.5796391367912292, 0.08147715032100677, 0.0026246204506605864, 0.9777677059173584, 0.6630443334579468, -0.13143642246723175, -0.3186648488044739, -0.7956461310386658, 0.02070428803563118, 0.4899516999721527, 0.5666329860687256, -0.42257818579673767, 0.43844175338745117, 0.2792012393474579, -0.2853626310825348, -0.285983145236969, -0.6072922945022583, 0.1684846431016922, -0.39179596304893494, -0.24003930389881134, 0.43047425150871277, 0.12578092515468597, -0.8680494427680969, 0.2962832748889923, -0.44559139013290405, 0.23215097188949585, -0.6932281255722046, 1.2068402767181396, -0.025709880515933037, -0.6346914172172546, 0.34132474660873413, 0.7260726690292358, 0.42131319642066956, 0.7483808994293213, 0.9947136044502258, 0.20379723608493805, -0.4979283809661865, 1.0569146871566772, 0.8016048073768616, 0.6582081317901611, -0.3697259724140167, -0.3556174039840698, 0.42208239436149597, -0.0022084414958953857, 0.41885530948638916, -0.21009330451488495, -0.5374593138694763, 0.5408593416213989, 0.7218663692474365, 0.2488430291414261, -0.7058790922164917, -0.5495058298110962, -0.33455783128738403, -0.051168300211429596, -0.26462122797966003, -0.9077609181404114, 0.5290862917900085, 1.0861432552337646, -0.1411423534154892, -0.5266387462615967, 0.5540695786476135, 0.7755058407783508, 0.8524399399757385, -0.3649424910545349, 0.018663039430975914, -0.6648542284965515, 0.6219996809959412, -0.12515373528003693, 0.6466006636619568, 0.22632019221782684, 0.49487173557281494, 1.349328875541687, 0.9650143980979919, -0.553192138671875, 0.15219616889953613, -0.2759222984313965, 0.3981080949306488, -0.40522438287734985, 0.6439816355705261, -0.07796202600002289, 0.5453124046325684, 0.05740930512547493, 0.24160140752792358, 0.6274601221084595, 0.06797999143600464, 0.08904677629470825, -0.14381051063537598, -0.5452516078948975, 1.9750210046768188, -0.9488223195075989, -0.21982303261756897, 0.25442013144493103, -0.11411485821008682, -0.5294796228408813, 0.39349365234375, -0.24210825562477112, 0.7635391354560852, -0.9078104496002197, -0.5380426645278931, 0.8350827097892761, -0.6664627194404602, -0.9654877185821533, 0.2828942537307739, -0.4505564868450165, 0.6089176535606384, 0.2564346194267273, -0.4720327854156494, 0.1107788160443306, -0.5045035481452942, 0.05262615531682968, -0.3782387971878052, -0.1369667500257492, 0.1801450103521347, -0.39574676752090454, 0.45363515615463257, 1.5022343397140503, -0.537548303604126, -0.8179453015327454, 0.36755719780921936, 0.8215294480323792, -0.15747089684009552, -0.10847697407007217, -0.45628684759140015, 0.493080198764801, 0.28955239057540894, 0.7390761375427246, 0.8803539276123047, 0.8545505404472351, 0.039981480687856674, -0.12569549679756165, -0.46294105052948, -0.2792205810546875, 0.08179031312465668, 0.3605518639087677, -0.6132570505142212, -0.41297057271003723, -0.8774389028549194, -0.678683876991272, 0.6673832535743713, 0.3704582452774048, 0.6652531027793884, -0.7720280885696411, 0.06036180257797241, -0.8412190675735474, -0.15480627119541168, -0.3467203676700592, -0.6055405139923096, -0.6130510568618774, 1.5225040912628174, 0.11704321950674057, 0.13535037636756897, 0.17710372805595398, 0.943023145198822, 0.006027717608958483, 0.3221730887889862, 0.08267484605312347, -1.3076308965682983, 0.5219860076904297, 0.8976992964744568, -0.4718056321144104, -0.3182606101036072, -0.3146378993988037, -0.6753311157226562, -0.8900212049484253, -0.19429586827754974, -0.8370703458786011, -1.7059139013290405, -0.53858882188797, 0.3549250662326813, 0.20651394128799438, 0.9378645420074463, -0.26718175411224365, 0.24198251962661743, 0.2946741282939911, -0.5620476007461548, -0.7262448072433472, -0.4698539972305298, -1.2306787967681885, -0.12108807265758514, 1.4099535942077637, -0.04867727309465408, 0.0434703603386879, 0.05321841686964035, 0.28205642104148865, 0.2510823607444763, -0.7411909699440002, 0.10808773338794708, 0.4738140106201172, -0.6652638912200928, 0.9906981587409973, 0.6858342289924622, 0.2721741199493408, -0.8043161034584045, -0.28774216771125793, -1.0649775266647339, 0.4265076816082001, -0.5495835542678833, 0.5861866474151611, 0.22592245042324066, -0.15175947546958923, -0.9279409646987915, 0.5145905613899231, -0.28997114300727844, 0.2976476848125458, -0.9199317097663879, 0.18720263242721558, 0.6538809537887573, -0.05777355283498764, 0.3598698377609253, 1.483525037765503, -1.426234245300293, 0.7863706350326538, 0.09087050706148148, -0.18070648610591888, 1.02493155002594, 0.48361772298812866, -0.659997820854187, -1.2985175848007202, 0.2594278156757355, -0.18946473300457, 0.014322166331112385, -0.20399585366249084, -0.4810585677623749, 0.44010716676712036, 0.5528576970100403, -0.8521357178688049, 0.3750206232070923, 1.623565673828125, 0.4639514684677124, 0.24065542221069336, -0.12000979483127594, 0.743310272693634, 0.35438114404678345, 0.39193615317344666, 0.5627599358558655, 0.5254819393157959, -1.657889723777771, -0.4819139838218689, 1.204306960105896, -0.09937454015016556, 0.23479950428009033, -0.006220849230885506, -0.6301431655883789, 1.0878331661224365, 0.12125664949417114, -0.5490933656692505, 0.589201033115387, -0.5033974051475525, 0.08135443180799484, 1.5190035104751587, 0.09304189682006836, -1.324881672859192, -0.35813674330711365, 0.7181749939918518, 0.07598492503166199, 0.17627497017383575, -0.9609726071357727, 0.29406601190567017, -0.19557586312294006, 0.8539485335350037, -0.3109295666217804, -1.3490495681762695, -0.765689492225647, 0.6799821257591248, 0.6395692229270935, 0.7294683456420898, -0.16540423035621643, -0.33146360516548157, -1.1903738975524902, -0.48895493149757385, 0.27358773350715637, -0.2959534227848053, 0.6880879402160645, -0.9526305198669434, -0.4761141538619995, -0.1352415531873703, -0.10082924365997314, 1.1445366144180298, -1.1435022354125977, -0.5085940957069397, -0.13410517573356628, 0.10490208864212036, 0.8174356818199158, -1.3557485342025757, 1.0539352893829346, 0.3343846797943115, 2.849388599395752, 0.31994351744651794, 1.6204633712768555, -0.6297798752784729, 0.3041265606880188, -0.06553970277309418, -0.3808923661708832, 0.5716003179550171, -0.5402900576591492, -0.32038846611976624, -0.2915940582752228, 0.6936082243919373, -0.17304059863090515, -0.5658526420593262, 0.3001349866390228, 0.005709584336727858, -0.024371739476919174, 0.07178005576133728, 0.8830372095108032, 0.45272308588027954, -0.5753204822540283, 0.5997483134269714, 0.8498367071151733, 1.0588161945343018, -0.7840384840965271, -0.5044195652008057, -0.6052134037017822, 0.2529604732990265, 1.0879099369049072, -0.07661116123199463, -0.23595494031906128, -0.4750688672065735, -0.1165606677532196, -1.061306357383728, -1.1040771007537842, -0.5043831467628479, 0.2507855296134949, 0.14341026544570923, 0.4413312077522278, -0.5307371616363525, -0.17896650731563568, 0.4063776433467865, -0.39871591329574585, 0.2963321805000305, 0.10077936947345734, 0.04111078381538391, -0.5046387314796448, -0.5252663493156433, -0.2622359097003937, 1.0696293115615845, -0.7110605835914612, 0.9710142612457275, 0.19824561476707458, 0.49664294719696045, -0.18739330768585205, 0.04163177311420441, 0.4856700599193573, 0.2407526969909668, 0.24113062024116516, 0.9898244142532349, 0.02497768960893154, 0.11263300478458405, -0.4818613529205322, 1.26671302318573, 0.3408068120479584, -0.6715525388717651, -0.8237883448600769, 1.3596513271331787, -0.20868925750255585, 0.21854126453399658, -0.45940935611724854, -0.038891322910785675, 0.5549399256706238, -0.6695976257324219, 1.852057933807373, -0.5292965769767761, 0.9925286173820496, 0.37878894805908203, -0.3600221872329712, 1.3330243825912476, 0.29332083463668823, 1.7157448530197144, 1.6388492584228516, -0.5196676850318909, 0.6210780143737793, 0.008267341181635857, 0.7469159364700317, 0.17144063115119934, -0.06109052151441574, 1.1667691469192505, 0.17708826065063477, -0.07568130642175674, -0.32942554354667664, 0.09890428930521011, 0.13956500589847565, -0.9549573659896851, -0.6636544466018677, 0.2687813341617584, 0.674786388874054, -0.009724274277687073, -0.3090139925479889, 0.6718770265579224, 1.1133495569229126, -0.0078018466010689735, -0.15117858350276947, 0.08299329876899719, 0.2924607992172241, 1.2814545631408691, -1.487900733947754, 0.9729659557342529, -0.2584723234176636, -0.22396938502788544, -0.07521515339612961, -0.3625364303588867, -0.7744821310043335, -0.9642012715339661, -0.381347119808197, 0.06159764900803566, 0.9202458262443542, -0.7353144288063049, -1.7805486917495728, -0.38049766421318054, 0.49749815464019775, 0.053242336958646774, 1.0511305332183838, 0.07072228938341141, -0.4085317552089691, 0.22144559025764465, -0.3969622552394867, 1.4234925508499146, 0.4980849027633667, 1.2335822582244873, -0.7595437169075012, -0.6251435279846191, 0.44910287857055664, -0.5434787273406982, 0.851937472820282, -0.18794319033622742, -0.9844611287117004, -0.9310531616210938, -0.8167417049407959, 1.0108423233032227, 0.29968613386154175, -0.17215929925441742, 0.7801945209503174, 0.41268759965896606, 1.1382482051849365, 0.3580431640148163, 1.4492329359054565, 0.06226902827620506, -0.4719684422016144, 0.4727385342121124, -0.340909481048584, 0.7758061289787292, 1.2284363508224487, 0.7856420874595642, 0.21119283139705658, -0.12025304138660431, -0.7496435046195984, -0.2565390169620514, 0.018420185893774033, -0.4458359181880951, 0.7218045592308044, -1.84050714969635, -0.09865160286426544, -0.5203390121459961, 0.1341085284948349, -0.5262495875358582, 0.05550922825932503, 0.07754864543676376, -0.19484640657901764, -0.26687905192375183, 0.18344177305698395, 0.6820199489593506, -0.500034749507904, 1.1246116161346436, -0.9239369034767151, 0.1375405341386795, -0.4690245985984802, -0.8828998804092407], 'label': 0}\n"
          ]
        }
      ],
      "source": [
        "# Load training dataset\n",
        "train_loaded_dataset = DataUtil.get_output(dataset_path=train_dataset_path)\n",
        "split_dataset = train_loaded_dataset.train_test_split(test_size=test_size_percentage/100, seed=seed)\n",
        "\n",
        "## Hent dataset fra output av layoutmvl3 modellen\n",
        "# train_loaded_dataset = DataUtil.get_output(model_output=outputs, verbose=True)\n",
        "# split_dataset = train_loaded_dataset.train_test_split(test_size=0.2, seed=seed)\n",
        "\n",
        "\n",
        "# Explicitly naming sets\n",
        "train_dataset_hf = split_dataset[\"train\"]\n",
        "eval_dataset_hf = split_dataset[\"test\"]\n",
        "\n",
        "\n",
        "# Load your separate test dataset for inference/evaluation\n",
        "test_loaded_dataset = DataUtil.get_output(dataset_path=test_dataset_path)\n",
        "test_dataset_hf = test_loaded_dataset"
      ]
    },
    {
      "cell_type": "code",
      "execution_count": null,
      "metadata": {
        "colab": {
          "base_uri": "https://localhost:8080/"
        },
        "id": "S9iUEP5nE-0-",
        "outputId": "8cab8872-6730-431d-be77-4fd181b4b04f"
      },
      "outputs": [
        {
          "output_type": "stream",
          "name": "stdout",
          "text": [
            "Converted dataset to tf.data.Dataset with batch size 32.\n",
            "h_i batch shape: (32, 768)\n",
            "h_j batch shape: (32, 768)\n",
            "labels batch shape: (32,)\n",
            "keys batch shape: (32,)\n",
            "Converted dataset to tf.data.Dataset with batch size 32.\n",
            "h_i batch shape: (32, 768)\n",
            "h_j batch shape: (32, 768)\n",
            "labels batch shape: (32,)\n",
            "keys batch shape: (32,)\n"
          ]
        }
      ],
      "source": [
        "import numpy as np\n",
        "import tensorflow as tf\n",
        "\n",
        "# Oppretter trening og test set\n",
        "train_dataset = DataUtil.to_tf_dataset(train_dataset_hf, hidden_size=hidden_size, batch_size=32)\n",
        "for batch in train_dataset.take(1):\n",
        "    h_i_batch, h_j_batch, labels_batch, keys_batch = batch\n",
        "    print(\"h_i batch shape:\", h_i_batch.shape)\n",
        "    print(\"h_j batch shape:\", h_j_batch.shape)\n",
        "    print(\"labels batch shape:\", labels_batch.shape)\n",
        "    print(\"keys batch shape:\", keys_batch.shape)\n",
        "\n",
        "test_dataset = DataUtil.to_tf_dataset(test_dataset_hf, hidden_size=hidden_size, batch_size=32)\n",
        "for batch in test_dataset.take(1):\n",
        "    h_i_batch, h_j_batch, labels_batch, keys_batch = batch\n",
        "    print(\"h_i batch shape:\", h_i_batch.shape)\n",
        "    print(\"h_j batch shape:\", h_j_batch.shape)\n",
        "    print(\"labels batch shape:\", labels_batch.shape)\n",
        "    print(\"keys batch shape:\", keys_batch.shape)"
      ]
    },
    {
      "cell_type": "code",
      "execution_count": null,
      "metadata": {
        "id": "BuOpWr4cFA_g"
      },
      "outputs": [],
      "source": [
        "import numpy as np\n",
        "import tensorflow as tf\n",
        "\n",
        "class Bilinear(tf.keras.layers.Layer):\n",
        "    def __init__(self, hidden_size, num_relations):\n",
        "        super(Bilinear, self).__init__()\n",
        "        self.hidden_size = hidden_size\n",
        "        self.num_relations = num_relations\n",
        "\n",
        "    def build(self, input_shape):\n",
        "        # Create weight tensor of shape (hidden_size, num_relations, hidden_size)\n",
        "        self.W = self.add_weight(\n",
        "            shape=(self.hidden_size, self.num_relations, self.hidden_size),\n",
        "            initializer='glorot_uniform',\n",
        "            trainable=True,\n",
        "            name=\"bilinear_W\"\n",
        "        )\n",
        "        # Bias vector of shape (num_relations,)\n",
        "        self.bias = self.add_weight(\n",
        "            shape=(self.num_relations,),\n",
        "            initializer='zeros',\n",
        "            trainable=True,\n",
        "            name=\"bilinear_bias\"\n",
        "        )\n",
        "        super(Bilinear, self).build(input_shape)\n",
        "\n",
        "    def call(self, inputs):\n",
        "        head, tail = inputs\n",
        "        # Use einsum to compute: for each sample, head^T * W * tail.\n",
        "        # Equation: 'bi,irk,bj->br' where:\n",
        "        #   b: batch, i: hidden dimension from head, j: hidden dimension from tail, r: relation index.\n",
        "        logits = tf.einsum('bi,irk,bj->br', head, self.W, tail)\n",
        "        logits = logits + self.bias\n",
        "        return logits"
      ]
    },
    {
      "cell_type": "markdown",
      "metadata": {
        "id": "yXst-sVpFr8v"
      },
      "source": [
        "## Model Definition\n",
        "Define the Relation Link layer/model components, including custom layers and heads."
      ]
    },
    {
      "cell_type": "code",
      "execution_count": null,
      "metadata": {
        "id": "717--fBCFDiS"
      },
      "outputs": [],
      "source": [
        "import tensorflow as tf\n",
        "\n",
        "class RelationExtractionHead(tf.keras.Model):\n",
        "    def __init__(self, hidden_size, num_relations):\n",
        "        super(RelationExtractionHead, self).__init__()\n",
        "        self.head_proj = tf.keras.layers.Dense(hidden_size, name=\"head_proj\")\n",
        "        self.tail_proj = tf.keras.layers.Dense(hidden_size, name=\"tail_proj\")\n",
        "        self.bilinear = Bilinear(hidden_size, num_relations)\n",
        "\n",
        "    def call(self, inputs, training=False):\n",
        "        h_i, h_j = inputs\n",
        "        head = self.head_proj(h_i)\n",
        "        tail = self.tail_proj(h_j)\n",
        "        logits = self.bilinear((head, tail))\n",
        "        return logits"
      ]
    },
    {
      "cell_type": "markdown",
      "metadata": {
        "id": "anXRgssXQIeW"
      },
      "source": [
        "## Train the model\n",
        "\n",
        "Train the model..."
      ]
    },
    {
      "cell_type": "code",
      "execution_count": null,
      "metadata": {
        "id": "CR91_o7EP6u2"
      },
      "outputs": [],
      "source": [
        "import numpy as np\n",
        "\n",
        "# Hyperparameters\n",
        "num_relations = 5\n",
        "num_epochs = 250\n",
        "learning_rate = 1e-4\n",
        "num_train_samples = len(train_dataset_hf)\n",
        "sample_base = int(np.ceil(num_train_samples / num_epochs))\n",
        "sample_range_min = int(sample_base * 0.95)\n",
        "sample_range_max = int(sample_base * 1.10)"
      ]
    },
    {
      "cell_type": "code",
      "execution_count": null,
      "metadata": {
        "id": "Us71_c5fFFmM",
        "colab": {
          "base_uri": "https://localhost:8080/",
          "height": 1000
        },
        "outputId": "a1b0d18c-23e1-430c-ef70-c447758397a5"
      },
      "outputs": [
        {
          "output_type": "stream",
          "name": "stdout",
          "text": [
            "Epoch 1/250, sampling 5481 examples...\n"
          ]
        },
        {
          "output_type": "stream",
          "name": "stderr",
          "text": [
            "Epoch 1: 100%|██████████| 172/172 [00:46<00:00,  3.68batch/s]\n"
          ]
        },
        {
          "output_type": "stream",
          "name": "stdout",
          "text": [
            "Epoch 1, Average Loss: 28.6469\n",
            "Epoch 2/250, sampling 5473 examples...\n"
          ]
        },
        {
          "output_type": "stream",
          "name": "stderr",
          "text": [
            "Epoch 2: 100%|██████████| 172/172 [00:29<00:00,  5.86batch/s]\n"
          ]
        },
        {
          "output_type": "stream",
          "name": "stdout",
          "text": [
            "Epoch 2, Average Loss: 13.3306\n",
            "Epoch 3/250, sampling 5289 examples...\n"
          ]
        },
        {
          "output_type": "stream",
          "name": "stderr",
          "text": [
            "Epoch 3: 100%|██████████| 166/166 [00:28<00:00,  5.87batch/s]\n"
          ]
        },
        {
          "output_type": "stream",
          "name": "stdout",
          "text": [
            "Epoch 3, Average Loss: 15.0689\n",
            "Epoch 4/250, sampling 5382 examples...\n"
          ]
        },
        {
          "output_type": "stream",
          "name": "stderr",
          "text": [
            "Epoch 4: 100%|██████████| 169/169 [00:28<00:00,  5.89batch/s]\n"
          ]
        },
        {
          "output_type": "stream",
          "name": "stdout",
          "text": [
            "Epoch 4, Average Loss: 26.1958\n",
            "Epoch 5/250, sampling 5119 examples...\n"
          ]
        },
        {
          "output_type": "stream",
          "name": "stderr",
          "text": [
            "Epoch 5: 100%|██████████| 160/160 [00:27<00:00,  5.74batch/s]\n"
          ]
        },
        {
          "output_type": "stream",
          "name": "stdout",
          "text": [
            "Epoch 5, Average Loss: 176.0419\n",
            "Epoch 6/250, sampling 5321 examples...\n"
          ]
        },
        {
          "output_type": "stream",
          "name": "stderr",
          "text": [
            "Epoch 6: 100%|██████████| 167/167 [00:28<00:00,  5.84batch/s]\n"
          ]
        },
        {
          "output_type": "stream",
          "name": "stdout",
          "text": [
            "Epoch 6, Average Loss: 38.0800\n",
            "Epoch 7/250, sampling 4974 examples...\n"
          ]
        },
        {
          "output_type": "stream",
          "name": "stderr",
          "text": [
            "Epoch 7: 100%|██████████| 156/156 [00:27<00:00,  5.66batch/s]\n"
          ]
        },
        {
          "output_type": "stream",
          "name": "stdout",
          "text": [
            "Epoch 7, Average Loss: 11.9578\n",
            "Epoch 8/250, sampling 5329 examples...\n"
          ]
        },
        {
          "output_type": "stream",
          "name": "stderr",
          "text": [
            "Epoch 8: 100%|██████████| 167/167 [00:28<00:00,  5.85batch/s]\n"
          ]
        },
        {
          "output_type": "stream",
          "name": "stdout",
          "text": [
            "Epoch 8, Average Loss: 11.8075\n",
            "Epoch 9/250, sampling 5358 examples...\n"
          ]
        },
        {
          "output_type": "stream",
          "name": "stderr",
          "text": [
            "Epoch 9: 100%|██████████| 168/168 [00:28<00:00,  5.89batch/s]\n"
          ]
        },
        {
          "output_type": "stream",
          "name": "stdout",
          "text": [
            "Epoch 9, Average Loss: 13.1489\n",
            "Epoch 10/250, sampling 5055 examples...\n"
          ]
        },
        {
          "output_type": "stream",
          "name": "stderr",
          "text": [
            "Epoch 10: 100%|██████████| 158/158 [00:27<00:00,  5.68batch/s]\n"
          ]
        },
        {
          "output_type": "stream",
          "name": "stdout",
          "text": [
            "Epoch 10, Average Loss: 5.2385\n",
            "Epoch 11/250, sampling 4935 examples...\n"
          ]
        },
        {
          "output_type": "stream",
          "name": "stderr",
          "text": [
            "Epoch 11: 100%|██████████| 155/155 [00:27<00:00,  5.66batch/s]\n"
          ]
        },
        {
          "output_type": "stream",
          "name": "stdout",
          "text": [
            "Epoch 11, Average Loss: 13.0203\n",
            "Epoch 12/250, sampling 5582 examples...\n"
          ]
        },
        {
          "output_type": "stream",
          "name": "stderr",
          "text": [
            "Epoch 12: 100%|██████████| 175/175 [00:29<00:00,  5.95batch/s]\n"
          ]
        },
        {
          "output_type": "stream",
          "name": "stdout",
          "text": [
            "Epoch 12, Average Loss: 7.5847\n",
            "Epoch 13/250, sampling 5506 examples...\n"
          ]
        },
        {
          "output_type": "stream",
          "name": "stderr",
          "text": [
            "Epoch 13: 100%|██████████| 173/173 [00:28<00:00,  5.98batch/s]\n"
          ]
        },
        {
          "output_type": "stream",
          "name": "stdout",
          "text": [
            "Epoch 13, Average Loss: 4.8325\n",
            "Epoch 14/250, sampling 5408 examples...\n"
          ]
        },
        {
          "output_type": "stream",
          "name": "stderr",
          "text": [
            "Epoch 14: 100%|██████████| 169/169 [00:28<00:00,  5.93batch/s]\n"
          ]
        },
        {
          "output_type": "stream",
          "name": "stdout",
          "text": [
            "Epoch 14, Average Loss: 15.7481\n",
            "Epoch 15/250, sampling 5385 examples...\n"
          ]
        },
        {
          "output_type": "stream",
          "name": "stderr",
          "text": [
            "Epoch 15: 100%|██████████| 169/169 [00:28<00:00,  5.86batch/s]\n"
          ]
        },
        {
          "output_type": "stream",
          "name": "stdout",
          "text": [
            "Epoch 15, Average Loss: 28.1008\n",
            "Epoch 16/250, sampling 5392 examples...\n"
          ]
        },
        {
          "output_type": "stream",
          "name": "stderr",
          "text": [
            "Epoch 16: 100%|██████████| 169/169 [00:28<00:00,  5.91batch/s]\n"
          ]
        },
        {
          "output_type": "stream",
          "name": "stdout",
          "text": [
            "Epoch 16, Average Loss: 26.6352\n",
            "Epoch 17/250, sampling 5558 examples...\n"
          ]
        },
        {
          "output_type": "stream",
          "name": "stderr",
          "text": [
            "Epoch 17: 100%|██████████| 174/174 [00:29<00:00,  5.91batch/s]\n"
          ]
        },
        {
          "output_type": "stream",
          "name": "stdout",
          "text": [
            "Epoch 17, Average Loss: 85.5581\n",
            "Epoch 18/250, sampling 5020 examples...\n"
          ]
        },
        {
          "output_type": "stream",
          "name": "stderr",
          "text": [
            "Epoch 18: 100%|██████████| 157/157 [00:27<00:00,  5.69batch/s]\n"
          ]
        },
        {
          "output_type": "stream",
          "name": "stdout",
          "text": [
            "Epoch 18, Average Loss: 34.0248\n",
            "Epoch 19/250, sampling 5491 examples...\n"
          ]
        },
        {
          "output_type": "stream",
          "name": "stderr",
          "text": [
            "Epoch 19: 100%|██████████| 172/172 [00:29<00:00,  5.91batch/s]\n"
          ]
        },
        {
          "output_type": "stream",
          "name": "stdout",
          "text": [
            "Epoch 19, Average Loss: 82.9623\n",
            "Epoch 20/250, sampling 5484 examples...\n"
          ]
        },
        {
          "output_type": "stream",
          "name": "stderr",
          "text": [
            "Epoch 20: 100%|██████████| 172/172 [00:28<00:00,  5.93batch/s]\n"
          ]
        },
        {
          "output_type": "stream",
          "name": "stdout",
          "text": [
            "Epoch 20, Average Loss: 9.8572\n",
            "Epoch 21/250, sampling 5126 examples...\n"
          ]
        },
        {
          "output_type": "stream",
          "name": "stderr",
          "text": [
            "Epoch 21: 100%|██████████| 161/161 [00:27<00:00,  5.85batch/s]\n"
          ]
        },
        {
          "output_type": "stream",
          "name": "stdout",
          "text": [
            "Epoch 21, Average Loss: 15.4952\n",
            "Epoch 22/250, sampling 5166 examples...\n"
          ]
        },
        {
          "output_type": "stream",
          "name": "stderr",
          "text": [
            "Epoch 22: 100%|██████████| 162/162 [00:28<00:00,  5.75batch/s]\n"
          ]
        },
        {
          "output_type": "stream",
          "name": "stdout",
          "text": [
            "Epoch 22, Average Loss: 47.2119\n",
            "Epoch 23/250, sampling 5388 examples...\n"
          ]
        },
        {
          "output_type": "stream",
          "name": "stderr",
          "text": [
            "Epoch 23: 100%|██████████| 169/169 [00:30<00:00,  5.58batch/s]\n"
          ]
        },
        {
          "output_type": "stream",
          "name": "stdout",
          "text": [
            "Epoch 23, Average Loss: 23.0172\n",
            "Epoch 24/250, sampling 4975 examples...\n"
          ]
        },
        {
          "output_type": "stream",
          "name": "stderr",
          "text": [
            "Epoch 24: 100%|██████████| 156/156 [00:28<00:00,  5.46batch/s]\n"
          ]
        },
        {
          "output_type": "stream",
          "name": "stdout",
          "text": [
            "Epoch 24, Average Loss: 30.7441\n",
            "Epoch 25/250, sampling 4943 examples...\n"
          ]
        },
        {
          "output_type": "stream",
          "name": "stderr",
          "text": [
            "Epoch 25: 100%|██████████| 155/155 [00:27<00:00,  5.58batch/s]\n"
          ]
        },
        {
          "output_type": "stream",
          "name": "stdout",
          "text": [
            "Epoch 25, Average Loss: 66.3634\n",
            "Epoch 26/250, sampling 5588 examples...\n"
          ]
        },
        {
          "output_type": "stream",
          "name": "stderr",
          "text": [
            "Epoch 26: 100%|██████████| 175/175 [00:29<00:00,  5.94batch/s]\n"
          ]
        },
        {
          "output_type": "stream",
          "name": "stdout",
          "text": [
            "Epoch 26, Average Loss: 63.0502\n",
            "Epoch 27/250, sampling 5081 examples...\n"
          ]
        },
        {
          "output_type": "stream",
          "name": "stderr",
          "text": [
            "Epoch 27: 100%|██████████| 159/159 [00:27<00:00,  5.70batch/s]\n"
          ]
        },
        {
          "output_type": "stream",
          "name": "stdout",
          "text": [
            "Epoch 27, Average Loss: 16.1827\n",
            "Epoch 28/250, sampling 5355 examples...\n"
          ]
        },
        {
          "output_type": "stream",
          "name": "stderr",
          "text": [
            "Epoch 28: 100%|██████████| 168/168 [00:29<00:00,  5.73batch/s]\n"
          ]
        },
        {
          "output_type": "stream",
          "name": "stdout",
          "text": [
            "Epoch 28, Average Loss: 16.3949\n",
            "Epoch 29/250, sampling 5351 examples...\n"
          ]
        },
        {
          "output_type": "stream",
          "name": "stderr",
          "text": [
            "Epoch 29: 100%|██████████| 168/168 [00:28<00:00,  5.87batch/s]\n"
          ]
        },
        {
          "output_type": "stream",
          "name": "stdout",
          "text": [
            "Epoch 29, Average Loss: 16.5654\n",
            "Epoch 30/250, sampling 4919 examples...\n"
          ]
        },
        {
          "output_type": "stream",
          "name": "stderr",
          "text": [
            "Epoch 30: 100%|██████████| 154/154 [00:27<00:00,  5.61batch/s]\n"
          ]
        },
        {
          "output_type": "stream",
          "name": "stdout",
          "text": [
            "Epoch 30, Average Loss: 198.9076\n",
            "Epoch 31/250, sampling 4986 examples...\n"
          ]
        },
        {
          "output_type": "stream",
          "name": "stderr",
          "text": [
            "Epoch 31: 100%|██████████| 156/156 [00:27<00:00,  5.64batch/s]\n"
          ]
        },
        {
          "output_type": "stream",
          "name": "stdout",
          "text": [
            "Epoch 31, Average Loss: 42.5058\n",
            "Epoch 32/250, sampling 5329 examples...\n"
          ]
        },
        {
          "output_type": "stream",
          "name": "stderr",
          "text": [
            "Epoch 32: 100%|██████████| 167/167 [00:28<00:00,  5.83batch/s]\n"
          ]
        },
        {
          "output_type": "stream",
          "name": "stdout",
          "text": [
            "Epoch 32, Average Loss: 18.0566\n",
            "Epoch 33/250, sampling 4908 examples...\n"
          ]
        },
        {
          "output_type": "stream",
          "name": "stderr",
          "text": [
            "Epoch 33: 100%|██████████| 154/154 [00:27<00:00,  5.63batch/s]\n"
          ]
        },
        {
          "output_type": "stream",
          "name": "stdout",
          "text": [
            "Epoch 33, Average Loss: 34.7474\n",
            "Epoch 34/250, sampling 5406 examples...\n"
          ]
        },
        {
          "output_type": "stream",
          "name": "stderr",
          "text": [
            "Epoch 34: 100%|██████████| 169/169 [00:28<00:00,  5.84batch/s]\n"
          ]
        },
        {
          "output_type": "stream",
          "name": "stdout",
          "text": [
            "Epoch 34, Average Loss: 10.2834\n",
            "Epoch 35/250, sampling 5044 examples...\n"
          ]
        },
        {
          "output_type": "stream",
          "name": "stderr",
          "text": [
            "Epoch 35: 100%|██████████| 158/158 [00:28<00:00,  5.62batch/s]\n"
          ]
        },
        {
          "output_type": "stream",
          "name": "stdout",
          "text": [
            "Epoch 35, Average Loss: 18.6516\n",
            "Epoch 36/250, sampling 5183 examples...\n"
          ]
        },
        {
          "output_type": "stream",
          "name": "stderr",
          "text": [
            "Epoch 36: 100%|██████████| 162/162 [00:28<00:00,  5.72batch/s]\n"
          ]
        },
        {
          "output_type": "stream",
          "name": "stdout",
          "text": [
            "Epoch 36, Average Loss: 24.5001\n",
            "Epoch 37/250, sampling 5199 examples...\n"
          ]
        },
        {
          "output_type": "stream",
          "name": "stderr",
          "text": [
            "Epoch 37: 100%|██████████| 163/163 [00:28<00:00,  5.79batch/s]\n"
          ]
        },
        {
          "output_type": "stream",
          "name": "stdout",
          "text": [
            "Epoch 37, Average Loss: 18.9917\n",
            "Epoch 38/250, sampling 5394 examples...\n"
          ]
        },
        {
          "output_type": "stream",
          "name": "stderr",
          "text": [
            "Epoch 38: 100%|██████████| 169/169 [00:29<00:00,  5.82batch/s]\n"
          ]
        },
        {
          "output_type": "stream",
          "name": "stdout",
          "text": [
            "Epoch 38, Average Loss: 7.4621\n",
            "Epoch 39/250, sampling 5417 examples...\n"
          ]
        },
        {
          "output_type": "stream",
          "name": "stderr",
          "text": [
            "Epoch 39: 100%|██████████| 170/170 [00:28<00:00,  5.89batch/s]\n"
          ]
        },
        {
          "output_type": "stream",
          "name": "stdout",
          "text": [
            "Epoch 39, Average Loss: 80.6523\n",
            "Epoch 40/250, sampling 5035 examples...\n"
          ]
        },
        {
          "output_type": "stream",
          "name": "stderr",
          "text": [
            "Epoch 40: 100%|██████████| 158/158 [00:27<00:00,  5.67batch/s]\n"
          ]
        },
        {
          "output_type": "stream",
          "name": "stdout",
          "text": [
            "Epoch 40, Average Loss: 32.1613\n",
            "Epoch 41/250, sampling 4968 examples...\n"
          ]
        },
        {
          "output_type": "stream",
          "name": "stderr",
          "text": [
            "Epoch 41: 100%|██████████| 156/156 [00:27<00:00,  5.67batch/s]\n"
          ]
        },
        {
          "output_type": "stream",
          "name": "stdout",
          "text": [
            "Epoch 41, Average Loss: 12.0225\n",
            "Epoch 42/250, sampling 5243 examples...\n"
          ]
        },
        {
          "output_type": "stream",
          "name": "stderr",
          "text": [
            "Epoch 42: 100%|██████████| 164/164 [00:28<00:00,  5.81batch/s]\n"
          ]
        },
        {
          "output_type": "stream",
          "name": "stdout",
          "text": [
            "Epoch 42, Average Loss: 7.1769\n",
            "Epoch 43/250, sampling 5441 examples...\n"
          ]
        },
        {
          "output_type": "stream",
          "name": "stderr",
          "text": [
            "Epoch 43: 100%|██████████| 171/171 [00:28<00:00,  5.91batch/s]\n"
          ]
        },
        {
          "output_type": "stream",
          "name": "stdout",
          "text": [
            "Epoch 43, Average Loss: 95.4128\n",
            "Epoch 44/250, sampling 5119 examples...\n"
          ]
        },
        {
          "output_type": "stream",
          "name": "stderr",
          "text": [
            "Epoch 44: 100%|██████████| 160/160 [00:27<00:00,  5.75batch/s]\n"
          ]
        },
        {
          "output_type": "stream",
          "name": "stdout",
          "text": [
            "Epoch 44, Average Loss: 213.6605\n",
            "Epoch 45/250, sampling 5074 examples...\n"
          ]
        },
        {
          "output_type": "stream",
          "name": "stderr",
          "text": [
            "Epoch 45: 100%|██████████| 159/159 [00:27<00:00,  5.71batch/s]\n"
          ]
        },
        {
          "output_type": "stream",
          "name": "stdout",
          "text": [
            "Epoch 45, Average Loss: 6.4350\n",
            "Epoch 46/250, sampling 5249 examples...\n"
          ]
        },
        {
          "output_type": "stream",
          "name": "stderr",
          "text": [
            "Epoch 46: 100%|██████████| 165/165 [00:28<00:00,  5.79batch/s]\n"
          ]
        },
        {
          "output_type": "stream",
          "name": "stdout",
          "text": [
            "Epoch 46, Average Loss: 9.4431\n",
            "Epoch 47/250, sampling 4888 examples...\n"
          ]
        },
        {
          "output_type": "stream",
          "name": "stderr",
          "text": [
            "Epoch 47: 100%|██████████| 153/153 [00:27<00:00,  5.53batch/s]\n"
          ]
        },
        {
          "output_type": "stream",
          "name": "stdout",
          "text": [
            "Epoch 47, Average Loss: 8.1903\n",
            "Epoch 48/250, sampling 4935 examples...\n"
          ]
        },
        {
          "output_type": "stream",
          "name": "stderr",
          "text": [
            "Epoch 48: 100%|██████████| 155/155 [00:27<00:00,  5.59batch/s]\n"
          ]
        },
        {
          "output_type": "stream",
          "name": "stdout",
          "text": [
            "Epoch 48, Average Loss: 3.4004\n",
            "Epoch 49/250, sampling 5530 examples...\n"
          ]
        },
        {
          "output_type": "stream",
          "name": "stderr",
          "text": [
            "Epoch 49: 100%|██████████| 173/173 [00:29<00:00,  5.91batch/s]\n"
          ]
        },
        {
          "output_type": "stream",
          "name": "stdout",
          "text": [
            "Epoch 49, Average Loss: 2.4669\n",
            "Epoch 50/250, sampling 5555 examples...\n"
          ]
        },
        {
          "output_type": "stream",
          "name": "stderr",
          "text": [
            "Epoch 50: 100%|██████████| 174/174 [00:29<00:00,  5.90batch/s]\n"
          ]
        },
        {
          "output_type": "stream",
          "name": "stdout",
          "text": [
            "Epoch 50, Average Loss: 8.4198\n",
            "Epoch 51/250, sampling 5550 examples...\n"
          ]
        },
        {
          "output_type": "stream",
          "name": "stderr",
          "text": [
            "Epoch 51: 100%|██████████| 174/174 [00:29<00:00,  5.98batch/s]\n"
          ]
        },
        {
          "output_type": "stream",
          "name": "stdout",
          "text": [
            "Epoch 51, Average Loss: 15.5423\n",
            "Epoch 52/250, sampling 4973 examples...\n"
          ]
        },
        {
          "output_type": "stream",
          "name": "stderr",
          "text": [
            "Epoch 52: 100%|██████████| 156/156 [00:27<00:00,  5.63batch/s]\n"
          ]
        },
        {
          "output_type": "stream",
          "name": "stdout",
          "text": [
            "Epoch 52, Average Loss: 6.5874\n",
            "Epoch 53/250, sampling 5281 examples...\n"
          ]
        },
        {
          "output_type": "stream",
          "name": "stderr",
          "text": [
            "Epoch 53: 100%|██████████| 166/166 [00:28<00:00,  5.80batch/s]\n"
          ]
        },
        {
          "output_type": "stream",
          "name": "stdout",
          "text": [
            "Epoch 53, Average Loss: 29.1844\n",
            "Epoch 54/250, sampling 5031 examples...\n"
          ]
        },
        {
          "output_type": "stream",
          "name": "stderr",
          "text": [
            "Epoch 54: 100%|██████████| 158/158 [00:27<00:00,  5.68batch/s]\n"
          ]
        },
        {
          "output_type": "stream",
          "name": "stdout",
          "text": [
            "Epoch 54, Average Loss: 5.1748\n",
            "Epoch 55/250, sampling 5060 examples...\n"
          ]
        },
        {
          "output_type": "stream",
          "name": "stderr",
          "text": [
            "Epoch 55: 100%|██████████| 159/159 [00:28<00:00,  5.65batch/s]\n"
          ]
        },
        {
          "output_type": "stream",
          "name": "stdout",
          "text": [
            "Epoch 55, Average Loss: 6.2629\n",
            "Epoch 56/250, sampling 5179 examples...\n"
          ]
        },
        {
          "output_type": "stream",
          "name": "stderr",
          "text": [
            "Epoch 56: 100%|██████████| 162/162 [00:28<00:00,  5.65batch/s]\n"
          ]
        },
        {
          "output_type": "stream",
          "name": "stdout",
          "text": [
            "Epoch 56, Average Loss: 19.9987\n",
            "Epoch 57/250, sampling 5045 examples...\n"
          ]
        },
        {
          "output_type": "stream",
          "name": "stderr",
          "text": [
            "Epoch 57: 100%|██████████| 158/158 [00:28<00:00,  5.60batch/s]\n"
          ]
        },
        {
          "output_type": "stream",
          "name": "stdout",
          "text": [
            "Epoch 57, Average Loss: 19.8215\n",
            "Epoch 58/250, sampling 5515 examples...\n"
          ]
        },
        {
          "output_type": "stream",
          "name": "stderr",
          "text": [
            "Epoch 58: 100%|██████████| 173/173 [00:29<00:00,  5.90batch/s]\n"
          ]
        },
        {
          "output_type": "stream",
          "name": "stdout",
          "text": [
            "Epoch 58, Average Loss: 27.6929\n",
            "Epoch 59/250, sampling 5239 examples...\n"
          ]
        },
        {
          "output_type": "stream",
          "name": "stderr",
          "text": [
            "Epoch 59: 100%|██████████| 164/164 [00:28<00:00,  5.77batch/s]\n"
          ]
        },
        {
          "output_type": "stream",
          "name": "stdout",
          "text": [
            "Epoch 59, Average Loss: 202.0656\n",
            "Epoch 60/250, sampling 4867 examples...\n"
          ]
        },
        {
          "output_type": "stream",
          "name": "stderr",
          "text": [
            "Epoch 60: 100%|██████████| 153/153 [00:27<00:00,  5.53batch/s]\n"
          ]
        },
        {
          "output_type": "stream",
          "name": "stdout",
          "text": [
            "Epoch 60, Average Loss: 210.0960\n",
            "Epoch 61/250, sampling 5585 examples...\n"
          ]
        },
        {
          "output_type": "stream",
          "name": "stderr",
          "text": [
            "Epoch 61: 100%|██████████| 175/175 [00:29<00:00,  5.93batch/s]\n"
          ]
        },
        {
          "output_type": "stream",
          "name": "stdout",
          "text": [
            "Epoch 61, Average Loss: 86.0476\n",
            "Epoch 62/250, sampling 5362 examples...\n"
          ]
        },
        {
          "output_type": "stream",
          "name": "stderr",
          "text": [
            "Epoch 62: 100%|██████████| 168/168 [00:28<00:00,  5.81batch/s]\n"
          ]
        },
        {
          "output_type": "stream",
          "name": "stdout",
          "text": [
            "Epoch 62, Average Loss: 23.1266\n",
            "Epoch 63/250, sampling 5549 examples...\n"
          ]
        },
        {
          "output_type": "stream",
          "name": "stderr",
          "text": [
            "Epoch 63: 100%|██████████| 174/174 [00:29<00:00,  5.90batch/s]\n"
          ]
        },
        {
          "output_type": "stream",
          "name": "stdout",
          "text": [
            "Epoch 63, Average Loss: 18.1686\n",
            "Epoch 64/250, sampling 5107 examples...\n"
          ]
        },
        {
          "output_type": "stream",
          "name": "stderr",
          "text": [
            "Epoch 64: 100%|██████████| 160/160 [00:28<00:00,  5.65batch/s]\n"
          ]
        },
        {
          "output_type": "stream",
          "name": "stdout",
          "text": [
            "Epoch 64, Average Loss: 10.5895\n",
            "Epoch 65/250, sampling 5127 examples...\n"
          ]
        },
        {
          "output_type": "stream",
          "name": "stderr",
          "text": [
            "Epoch 65: 100%|██████████| 161/161 [00:28<00:00,  5.73batch/s]\n"
          ]
        },
        {
          "output_type": "stream",
          "name": "stdout",
          "text": [
            "Epoch 65, Average Loss: 3.3468\n",
            "Epoch 66/250, sampling 4946 examples...\n"
          ]
        },
        {
          "output_type": "stream",
          "name": "stderr",
          "text": [
            "Epoch 66: 100%|██████████| 155/155 [00:27<00:00,  5.57batch/s]\n"
          ]
        },
        {
          "output_type": "stream",
          "name": "stdout",
          "text": [
            "Epoch 66, Average Loss: 3.3121\n",
            "Epoch 67/250, sampling 5349 examples...\n"
          ]
        },
        {
          "output_type": "stream",
          "name": "stderr",
          "text": [
            "Epoch 67: 100%|██████████| 168/168 [00:28<00:00,  5.89batch/s]\n"
          ]
        },
        {
          "output_type": "stream",
          "name": "stdout",
          "text": [
            "Epoch 67, Average Loss: 5.0164\n",
            "Epoch 68/250, sampling 4996 examples...\n"
          ]
        },
        {
          "output_type": "stream",
          "name": "stderr",
          "text": [
            "Epoch 68: 100%|██████████| 157/157 [00:27<00:00,  5.67batch/s]\n"
          ]
        },
        {
          "output_type": "stream",
          "name": "stdout",
          "text": [
            "Epoch 68, Average Loss: 35.6012\n",
            "Epoch 69/250, sampling 4993 examples...\n"
          ]
        },
        {
          "output_type": "stream",
          "name": "stderr",
          "text": [
            "Epoch 69: 100%|██████████| 157/157 [00:27<00:00,  5.73batch/s]\n"
          ]
        },
        {
          "output_type": "stream",
          "name": "stdout",
          "text": [
            "Epoch 69, Average Loss: 4.2141\n",
            "Epoch 70/250, sampling 5301 examples...\n"
          ]
        },
        {
          "output_type": "stream",
          "name": "stderr",
          "text": [
            "Epoch 70: 100%|██████████| 166/166 [00:28<00:00,  5.79batch/s]\n"
          ]
        },
        {
          "output_type": "stream",
          "name": "stdout",
          "text": [
            "Epoch 70, Average Loss: 8.2424\n",
            "Epoch 71/250, sampling 5088 examples...\n"
          ]
        },
        {
          "output_type": "stream",
          "name": "stderr",
          "text": [
            "Epoch 71: 100%|██████████| 159/159 [00:27<00:00,  5.71batch/s]\n"
          ]
        },
        {
          "output_type": "stream",
          "name": "stdout",
          "text": [
            "Epoch 71, Average Loss: 25.7258\n",
            "Epoch 72/250, sampling 5577 examples...\n"
          ]
        },
        {
          "output_type": "stream",
          "name": "stderr",
          "text": [
            "Epoch 72: 100%|██████████| 175/175 [00:29<00:00,  5.99batch/s]\n"
          ]
        },
        {
          "output_type": "stream",
          "name": "stdout",
          "text": [
            "Epoch 72, Average Loss: 121.9044\n",
            "Epoch 73/250, sampling 5181 examples...\n"
          ]
        },
        {
          "output_type": "stream",
          "name": "stderr",
          "text": [
            "Epoch 73: 100%|██████████| 162/162 [00:28<00:00,  5.71batch/s]\n"
          ]
        },
        {
          "output_type": "stream",
          "name": "stdout",
          "text": [
            "Epoch 73, Average Loss: 66.9051\n",
            "Epoch 74/250, sampling 5432 examples...\n"
          ]
        },
        {
          "output_type": "stream",
          "name": "stderr",
          "text": [
            "Epoch 74: 100%|██████████| 170/170 [00:28<00:00,  5.89batch/s]\n"
          ]
        },
        {
          "output_type": "stream",
          "name": "stdout",
          "text": [
            "Epoch 74, Average Loss: 34.4602\n",
            "Epoch 75/250, sampling 5204 examples...\n"
          ]
        },
        {
          "output_type": "stream",
          "name": "stderr",
          "text": [
            "Epoch 75: 100%|██████████| 163/163 [00:28<00:00,  5.70batch/s]\n"
          ]
        },
        {
          "output_type": "stream",
          "name": "stdout",
          "text": [
            "Epoch 75, Average Loss: 11.6123\n",
            "Epoch 76/250, sampling 5181 examples...\n"
          ]
        },
        {
          "output_type": "stream",
          "name": "stderr",
          "text": [
            "Epoch 76: 100%|██████████| 162/162 [00:28<00:00,  5.76batch/s]\n"
          ]
        },
        {
          "output_type": "stream",
          "name": "stdout",
          "text": [
            "Epoch 76, Average Loss: 14.8522\n",
            "Epoch 77/250, sampling 5049 examples...\n"
          ]
        },
        {
          "output_type": "stream",
          "name": "stderr",
          "text": [
            "Epoch 77: 100%|██████████| 158/158 [00:28<00:00,  5.60batch/s]\n"
          ]
        },
        {
          "output_type": "stream",
          "name": "stdout",
          "text": [
            "Epoch 77, Average Loss: 10.1893\n",
            "Epoch 78/250, sampling 5352 examples...\n"
          ]
        },
        {
          "output_type": "stream",
          "name": "stderr",
          "text": [
            "Epoch 78: 100%|██████████| 168/168 [00:28<00:00,  5.82batch/s]\n"
          ]
        },
        {
          "output_type": "stream",
          "name": "stdout",
          "text": [
            "Epoch 78, Average Loss: 17.3897\n",
            "Epoch 79/250, sampling 5132 examples...\n"
          ]
        },
        {
          "output_type": "stream",
          "name": "stderr",
          "text": [
            "Epoch 79: 100%|██████████| 161/161 [00:28<00:00,  5.72batch/s]\n"
          ]
        },
        {
          "output_type": "stream",
          "name": "stdout",
          "text": [
            "Epoch 79, Average Loss: 16.0030\n",
            "Epoch 80/250, sampling 4844 examples...\n"
          ]
        },
        {
          "output_type": "stream",
          "name": "stderr",
          "text": [
            "Epoch 80: 100%|██████████| 152/152 [00:27<00:00,  5.51batch/s]\n"
          ]
        },
        {
          "output_type": "stream",
          "name": "stdout",
          "text": [
            "Epoch 80, Average Loss: 4.3550\n",
            "Epoch 81/250, sampling 4872 examples...\n"
          ]
        },
        {
          "output_type": "stream",
          "name": "stderr",
          "text": [
            "Epoch 81: 100%|██████████| 153/153 [00:27<00:00,  5.60batch/s]\n"
          ]
        },
        {
          "output_type": "stream",
          "name": "stdout",
          "text": [
            "Epoch 81, Average Loss: 20.7565\n",
            "Epoch 82/250, sampling 5004 examples...\n"
          ]
        },
        {
          "output_type": "stream",
          "name": "stderr",
          "text": [
            "Epoch 82: 100%|██████████| 157/157 [00:27<00:00,  5.68batch/s]\n"
          ]
        },
        {
          "output_type": "stream",
          "name": "stdout",
          "text": [
            "Epoch 82, Average Loss: 211.7130\n",
            "Epoch 83/250, sampling 5063 examples...\n"
          ]
        },
        {
          "output_type": "stream",
          "name": "stderr",
          "text": [
            "Epoch 83: 100%|██████████| 159/159 [00:28<00:00,  5.67batch/s]\n"
          ]
        },
        {
          "output_type": "stream",
          "name": "stdout",
          "text": [
            "Epoch 83, Average Loss: 47.2577\n",
            "Epoch 84/250, sampling 4861 examples...\n"
          ]
        },
        {
          "output_type": "stream",
          "name": "stderr",
          "text": [
            "Epoch 84: 100%|██████████| 152/152 [00:27<00:00,  5.50batch/s]\n"
          ]
        },
        {
          "output_type": "stream",
          "name": "stdout",
          "text": [
            "Epoch 84, Average Loss: 19.2977\n",
            "Epoch 85/250, sampling 4850 examples...\n"
          ]
        },
        {
          "output_type": "stream",
          "name": "stderr",
          "text": [
            "Epoch 85: 100%|██████████| 152/152 [00:27<00:00,  5.52batch/s]\n"
          ]
        },
        {
          "output_type": "stream",
          "name": "stdout",
          "text": [
            "Epoch 85, Average Loss: 24.6877\n",
            "Epoch 86/250, sampling 4982 examples...\n"
          ]
        },
        {
          "output_type": "stream",
          "name": "stderr",
          "text": [
            "Epoch 86: 100%|██████████| 156/156 [00:27<00:00,  5.63batch/s]\n"
          ]
        },
        {
          "output_type": "stream",
          "name": "stdout",
          "text": [
            "Epoch 86, Average Loss: 21.7326\n",
            "Epoch 87/250, sampling 5178 examples...\n"
          ]
        },
        {
          "output_type": "stream",
          "name": "stderr",
          "text": [
            "Epoch 87: 100%|██████████| 162/162 [00:28<00:00,  5.70batch/s]\n"
          ]
        },
        {
          "output_type": "stream",
          "name": "stdout",
          "text": [
            "Epoch 87, Average Loss: 18.0695\n",
            "Epoch 88/250, sampling 5133 examples...\n"
          ]
        },
        {
          "output_type": "stream",
          "name": "stderr",
          "text": [
            "Epoch 88: 100%|██████████| 161/161 [00:28<00:00,  5.72batch/s]\n"
          ]
        },
        {
          "output_type": "stream",
          "name": "stdout",
          "text": [
            "Epoch 88, Average Loss: 9.7622\n",
            "Epoch 89/250, sampling 5580 examples...\n"
          ]
        },
        {
          "output_type": "stream",
          "name": "stderr",
          "text": [
            "Epoch 89: 100%|██████████| 175/175 [00:29<00:00,  5.90batch/s]\n"
          ]
        },
        {
          "output_type": "stream",
          "name": "stdout",
          "text": [
            "Epoch 89, Average Loss: 11.1595\n",
            "Epoch 90/250, sampling 5030 examples...\n"
          ]
        },
        {
          "output_type": "stream",
          "name": "stderr",
          "text": [
            "Epoch 90: 100%|██████████| 158/158 [00:28<00:00,  5.59batch/s]\n"
          ]
        },
        {
          "output_type": "stream",
          "name": "stdout",
          "text": [
            "Epoch 90, Average Loss: 16.1362\n",
            "Epoch 91/250, sampling 5107 examples...\n"
          ]
        },
        {
          "output_type": "stream",
          "name": "stderr",
          "text": [
            "Epoch 91: 100%|██████████| 160/160 [00:28<00:00,  5.68batch/s]\n"
          ]
        },
        {
          "output_type": "stream",
          "name": "stdout",
          "text": [
            "Epoch 91, Average Loss: 10.4098\n",
            "Epoch 92/250, sampling 5423 examples...\n"
          ]
        },
        {
          "output_type": "stream",
          "name": "stderr",
          "text": [
            "Epoch 92: 100%|██████████| 170/170 [00:29<00:00,  5.85batch/s]\n"
          ]
        },
        {
          "output_type": "stream",
          "name": "stdout",
          "text": [
            "Epoch 92, Average Loss: 59.7924\n",
            "Epoch 93/250, sampling 4834 examples...\n"
          ]
        },
        {
          "output_type": "stream",
          "name": "stderr",
          "text": [
            "Epoch 93: 100%|██████████| 152/152 [00:27<00:00,  5.54batch/s]\n"
          ]
        },
        {
          "output_type": "stream",
          "name": "stdout",
          "text": [
            "Epoch 93, Average Loss: 29.6727\n",
            "Epoch 94/250, sampling 5140 examples...\n"
          ]
        },
        {
          "output_type": "stream",
          "name": "stderr",
          "text": [
            "Epoch 94: 100%|██████████| 161/161 [00:28<00:00,  5.70batch/s]\n"
          ]
        },
        {
          "output_type": "stream",
          "name": "stdout",
          "text": [
            "Epoch 94, Average Loss: 448.3622\n",
            "Epoch 95/250, sampling 5323 examples...\n"
          ]
        },
        {
          "output_type": "stream",
          "name": "stderr",
          "text": [
            "Epoch 95: 100%|██████████| 167/167 [00:28<00:00,  5.86batch/s]\n"
          ]
        },
        {
          "output_type": "stream",
          "name": "stdout",
          "text": [
            "Epoch 95, Average Loss: 40.4161\n",
            "Epoch 96/250, sampling 5382 examples...\n"
          ]
        },
        {
          "output_type": "stream",
          "name": "stderr",
          "text": [
            "Epoch 96: 100%|██████████| 169/169 [00:28<00:00,  5.88batch/s]\n"
          ]
        },
        {
          "output_type": "stream",
          "name": "stdout",
          "text": [
            "Epoch 96, Average Loss: 36.5664\n",
            "Epoch 97/250, sampling 5068 examples...\n"
          ]
        },
        {
          "output_type": "stream",
          "name": "stderr",
          "text": [
            "Epoch 97: 100%|██████████| 159/159 [00:27<00:00,  5.70batch/s]\n"
          ]
        },
        {
          "output_type": "stream",
          "name": "stdout",
          "text": [
            "Epoch 97, Average Loss: 7.3329\n",
            "Epoch 98/250, sampling 4927 examples...\n"
          ]
        },
        {
          "output_type": "stream",
          "name": "stderr",
          "text": [
            "Epoch 98: 100%|██████████| 154/154 [00:27<00:00,  5.54batch/s]\n"
          ]
        },
        {
          "output_type": "stream",
          "name": "stdout",
          "text": [
            "Epoch 98, Average Loss: 12.4332\n",
            "Epoch 99/250, sampling 5304 examples...\n"
          ]
        },
        {
          "output_type": "stream",
          "name": "stderr",
          "text": [
            "Epoch 99: 100%|██████████| 166/166 [00:28<00:00,  5.74batch/s]\n"
          ]
        },
        {
          "output_type": "stream",
          "name": "stdout",
          "text": [
            "Epoch 99, Average Loss: 16.2035\n",
            "Epoch 100/250, sampling 5398 examples...\n"
          ]
        },
        {
          "output_type": "stream",
          "name": "stderr",
          "text": [
            "Epoch 100: 100%|██████████| 169/169 [00:28<00:00,  5.83batch/s]\n"
          ]
        },
        {
          "output_type": "stream",
          "name": "stdout",
          "text": [
            "Epoch 100, Average Loss: 10.7649\n",
            "Epoch 101/250, sampling 5186 examples...\n"
          ]
        },
        {
          "output_type": "stream",
          "name": "stderr",
          "text": [
            "Epoch 101: 100%|██████████| 163/163 [00:28<00:00,  5.72batch/s]\n"
          ]
        },
        {
          "output_type": "stream",
          "name": "stdout",
          "text": [
            "Epoch 101, Average Loss: 21.3838\n",
            "Epoch 102/250, sampling 5380 examples...\n"
          ]
        },
        {
          "output_type": "stream",
          "name": "stderr",
          "text": [
            "Epoch 102: 100%|██████████| 169/169 [00:28<00:00,  5.88batch/s]\n"
          ]
        },
        {
          "output_type": "stream",
          "name": "stdout",
          "text": [
            "Epoch 102, Average Loss: 25.6385\n",
            "Epoch 103/250, sampling 4976 examples...\n"
          ]
        },
        {
          "output_type": "stream",
          "name": "stderr",
          "text": [
            "Epoch 103: 100%|██████████| 156/156 [00:27<00:00,  5.62batch/s]\n"
          ]
        },
        {
          "output_type": "stream",
          "name": "stdout",
          "text": [
            "Epoch 103, Average Loss: 9.0869\n",
            "Epoch 104/250, sampling 5453 examples...\n"
          ]
        },
        {
          "output_type": "stream",
          "name": "stderr",
          "text": [
            "Epoch 104: 100%|██████████| 171/171 [00:29<00:00,  5.88batch/s]\n"
          ]
        },
        {
          "output_type": "stream",
          "name": "stdout",
          "text": [
            "Epoch 104, Average Loss: 9.7275\n",
            "Epoch 105/250, sampling 4987 examples...\n"
          ]
        },
        {
          "output_type": "stream",
          "name": "stderr",
          "text": [
            "Epoch 105: 100%|██████████| 156/156 [00:27<00:00,  5.62batch/s]\n"
          ]
        },
        {
          "output_type": "stream",
          "name": "stdout",
          "text": [
            "Epoch 105, Average Loss: 22.7177\n",
            "Epoch 106/250, sampling 5557 examples...\n"
          ]
        },
        {
          "output_type": "stream",
          "name": "stderr",
          "text": [
            "Epoch 106: 100%|██████████| 174/174 [00:29<00:00,  5.92batch/s]\n"
          ]
        },
        {
          "output_type": "stream",
          "name": "stdout",
          "text": [
            "Epoch 106, Average Loss: 28.4623\n",
            "Epoch 107/250, sampling 5210 examples...\n"
          ]
        },
        {
          "output_type": "stream",
          "name": "stderr",
          "text": [
            "Epoch 107: 100%|██████████| 163/163 [00:28<00:00,  5.68batch/s]\n"
          ]
        },
        {
          "output_type": "stream",
          "name": "stdout",
          "text": [
            "Epoch 107, Average Loss: 2.2356\n",
            "Epoch 108/250, sampling 5523 examples...\n"
          ]
        },
        {
          "output_type": "stream",
          "name": "stderr",
          "text": [
            "Epoch 108: 100%|██████████| 173/173 [00:29<00:00,  5.89batch/s]\n"
          ]
        },
        {
          "output_type": "stream",
          "name": "stdout",
          "text": [
            "Epoch 108, Average Loss: 38.6096\n",
            "Epoch 109/250, sampling 5360 examples...\n"
          ]
        },
        {
          "output_type": "stream",
          "name": "stderr",
          "text": [
            "Epoch 109: 100%|██████████| 168/168 [00:28<00:00,  5.81batch/s]\n"
          ]
        },
        {
          "output_type": "stream",
          "name": "stdout",
          "text": [
            "Epoch 109, Average Loss: 23.0554\n",
            "Epoch 110/250, sampling 5181 examples...\n"
          ]
        },
        {
          "output_type": "stream",
          "name": "stderr",
          "text": [
            "Epoch 110: 100%|██████████| 162/162 [00:28<00:00,  5.66batch/s]\n"
          ]
        },
        {
          "output_type": "stream",
          "name": "stdout",
          "text": [
            "Epoch 110, Average Loss: 59.8077\n",
            "Epoch 111/250, sampling 5166 examples...\n"
          ]
        },
        {
          "output_type": "stream",
          "name": "stderr",
          "text": [
            "Epoch 111: 100%|██████████| 162/162 [00:28<00:00,  5.77batch/s]\n"
          ]
        },
        {
          "output_type": "stream",
          "name": "stdout",
          "text": [
            "Epoch 111, Average Loss: 30.6600\n",
            "Epoch 112/250, sampling 5184 examples...\n"
          ]
        },
        {
          "output_type": "stream",
          "name": "stderr",
          "text": [
            "Epoch 112: 100%|██████████| 162/162 [00:28<00:00,  5.72batch/s]\n"
          ]
        },
        {
          "output_type": "stream",
          "name": "stdout",
          "text": [
            "Epoch 112, Average Loss: 14.3243\n",
            "Epoch 113/250, sampling 5554 examples...\n"
          ]
        },
        {
          "output_type": "stream",
          "name": "stderr",
          "text": [
            "Epoch 113: 100%|██████████| 174/174 [00:28<00:00,  6.05batch/s]\n"
          ]
        },
        {
          "output_type": "stream",
          "name": "stdout",
          "text": [
            "Epoch 113, Average Loss: 69.6890\n",
            "Epoch 114/250, sampling 5374 examples...\n"
          ]
        },
        {
          "output_type": "stream",
          "name": "stderr",
          "text": [
            "Epoch 114: 100%|██████████| 168/168 [00:28<00:00,  5.83batch/s]\n"
          ]
        },
        {
          "output_type": "stream",
          "name": "stdout",
          "text": [
            "Epoch 114, Average Loss: 135.2967\n",
            "Epoch 115/250, sampling 5570 examples...\n"
          ]
        },
        {
          "output_type": "stream",
          "name": "stderr",
          "text": [
            "Epoch 115: 100%|██████████| 175/175 [00:29<00:00,  5.97batch/s]\n"
          ]
        },
        {
          "output_type": "stream",
          "name": "stdout",
          "text": [
            "Epoch 115, Average Loss: 165.9477\n",
            "Epoch 116/250, sampling 5582 examples...\n"
          ]
        },
        {
          "output_type": "stream",
          "name": "stderr",
          "text": [
            "Epoch 116: 100%|██████████| 175/175 [00:29<00:00,  5.96batch/s]\n"
          ]
        },
        {
          "output_type": "stream",
          "name": "stdout",
          "text": [
            "Epoch 116, Average Loss: 30.6974\n",
            "Epoch 117/250, sampling 5550 examples...\n"
          ]
        },
        {
          "output_type": "stream",
          "name": "stderr",
          "text": [
            "Epoch 117: 100%|██████████| 174/174 [00:28<00:00,  6.05batch/s]\n"
          ]
        },
        {
          "output_type": "stream",
          "name": "stdout",
          "text": [
            "Epoch 117, Average Loss: 12.2167\n",
            "Epoch 118/250, sampling 5066 examples...\n"
          ]
        },
        {
          "output_type": "stream",
          "name": "stderr",
          "text": [
            "Epoch 118: 100%|██████████| 159/159 [00:28<00:00,  5.67batch/s]\n"
          ]
        },
        {
          "output_type": "stream",
          "name": "stdout",
          "text": [
            "Epoch 118, Average Loss: 8.1466\n",
            "Epoch 119/250, sampling 5207 examples...\n"
          ]
        },
        {
          "output_type": "stream",
          "name": "stderr",
          "text": [
            "Epoch 119: 100%|██████████| 163/163 [00:28<00:00,  5.65batch/s]\n"
          ]
        },
        {
          "output_type": "stream",
          "name": "stdout",
          "text": [
            "Epoch 119, Average Loss: 125.1540\n",
            "Epoch 120/250, sampling 4909 examples...\n"
          ]
        },
        {
          "output_type": "stream",
          "name": "stderr",
          "text": [
            "Epoch 120: 100%|██████████| 154/154 [00:28<00:00,  5.50batch/s]\n"
          ]
        },
        {
          "output_type": "stream",
          "name": "stdout",
          "text": [
            "Epoch 120, Average Loss: 14.9689\n",
            "Epoch 121/250, sampling 5458 examples...\n"
          ]
        },
        {
          "output_type": "stream",
          "name": "stderr",
          "text": [
            "Epoch 121: 100%|██████████| 171/171 [00:29<00:00,  5.83batch/s]\n"
          ]
        },
        {
          "output_type": "stream",
          "name": "stdout",
          "text": [
            "Epoch 121, Average Loss: 21.9066\n",
            "Epoch 122/250, sampling 5579 examples...\n"
          ]
        },
        {
          "output_type": "stream",
          "name": "stderr",
          "text": [
            "Epoch 122: 100%|██████████| 175/175 [00:29<00:00,  5.98batch/s]\n"
          ]
        },
        {
          "output_type": "stream",
          "name": "stdout",
          "text": [
            "Epoch 122, Average Loss: 25.3172\n",
            "Epoch 123/250, sampling 5560 examples...\n"
          ]
        },
        {
          "output_type": "stream",
          "name": "stderr",
          "text": [
            "Epoch 123: 100%|██████████| 174/174 [00:29<00:00,  5.91batch/s]\n"
          ]
        },
        {
          "output_type": "stream",
          "name": "stdout",
          "text": [
            "Epoch 123, Average Loss: 10.1525\n",
            "Epoch 124/250, sampling 5163 examples...\n"
          ]
        },
        {
          "output_type": "stream",
          "name": "stderr",
          "text": [
            "Epoch 124: 100%|██████████| 162/162 [00:28<00:00,  5.73batch/s]\n"
          ]
        },
        {
          "output_type": "stream",
          "name": "stdout",
          "text": [
            "Epoch 124, Average Loss: 9.9676\n",
            "Epoch 125/250, sampling 5488 examples...\n"
          ]
        },
        {
          "output_type": "stream",
          "name": "stderr",
          "text": [
            "Epoch 125: 100%|██████████| 172/172 [00:29<00:00,  5.89batch/s]\n"
          ]
        },
        {
          "output_type": "stream",
          "name": "stdout",
          "text": [
            "Epoch 125, Average Loss: 12.5924\n",
            "Epoch 126/250, sampling 4856 examples...\n"
          ]
        },
        {
          "output_type": "stream",
          "name": "stderr",
          "text": [
            "Epoch 126: 100%|██████████| 152/152 [00:27<00:00,  5.49batch/s]\n"
          ]
        },
        {
          "output_type": "stream",
          "name": "stdout",
          "text": [
            "Epoch 126, Average Loss: 14.3842\n",
            "Epoch 127/250, sampling 5570 examples...\n"
          ]
        },
        {
          "output_type": "stream",
          "name": "stderr",
          "text": [
            "Epoch 127: 100%|██████████| 175/175 [00:29<00:00,  5.95batch/s]\n"
          ]
        },
        {
          "output_type": "stream",
          "name": "stdout",
          "text": [
            "Epoch 127, Average Loss: 2.9160\n",
            "Epoch 128/250, sampling 5000 examples...\n"
          ]
        },
        {
          "output_type": "stream",
          "name": "stderr",
          "text": [
            "Epoch 128: 100%|██████████| 157/157 [00:28<00:00,  5.60batch/s]\n"
          ]
        },
        {
          "output_type": "stream",
          "name": "stdout",
          "text": [
            "Epoch 128, Average Loss: 45.0173\n",
            "Epoch 129/250, sampling 4956 examples...\n"
          ]
        },
        {
          "output_type": "stream",
          "name": "stderr",
          "text": [
            "Epoch 129: 100%|██████████| 155/155 [00:27<00:00,  5.59batch/s]\n"
          ]
        },
        {
          "output_type": "stream",
          "name": "stdout",
          "text": [
            "Epoch 129, Average Loss: 4.6356\n",
            "Epoch 130/250, sampling 4932 examples...\n"
          ]
        },
        {
          "output_type": "stream",
          "name": "stderr",
          "text": [
            "Epoch 130: 100%|██████████| 155/155 [00:27<00:00,  5.55batch/s]\n"
          ]
        },
        {
          "output_type": "stream",
          "name": "stdout",
          "text": [
            "Epoch 130, Average Loss: 16.2623\n",
            "Epoch 131/250, sampling 4956 examples...\n"
          ]
        },
        {
          "output_type": "stream",
          "name": "stderr",
          "text": [
            "Epoch 131: 100%|██████████| 155/155 [00:27<00:00,  5.60batch/s]\n"
          ]
        },
        {
          "output_type": "stream",
          "name": "stdout",
          "text": [
            "Epoch 131, Average Loss: 22.4413\n",
            "Epoch 132/250, sampling 5572 examples...\n"
          ]
        },
        {
          "output_type": "stream",
          "name": "stderr",
          "text": [
            "Epoch 132: 100%|██████████| 175/175 [00:29<00:00,  5.93batch/s]\n"
          ]
        },
        {
          "output_type": "stream",
          "name": "stdout",
          "text": [
            "Epoch 132, Average Loss: 20.9201\n",
            "Epoch 133/250, sampling 4995 examples...\n"
          ]
        },
        {
          "output_type": "stream",
          "name": "stderr",
          "text": [
            "Epoch 133: 100%|██████████| 157/157 [00:27<00:00,  5.64batch/s]\n"
          ]
        },
        {
          "output_type": "stream",
          "name": "stdout",
          "text": [
            "Epoch 133, Average Loss: 94.5718\n",
            "Epoch 134/250, sampling 5373 examples...\n"
          ]
        },
        {
          "output_type": "stream",
          "name": "stderr",
          "text": [
            "Epoch 134: 100%|██████████| 168/168 [00:28<00:00,  5.98batch/s]\n"
          ]
        },
        {
          "output_type": "stream",
          "name": "stdout",
          "text": [
            "Epoch 134, Average Loss: 44.1554\n",
            "Epoch 135/250, sampling 5568 examples...\n"
          ]
        },
        {
          "output_type": "stream",
          "name": "stderr",
          "text": [
            "Epoch 135: 100%|██████████| 174/174 [00:29<00:00,  5.87batch/s]\n"
          ]
        },
        {
          "output_type": "stream",
          "name": "stdout",
          "text": [
            "Epoch 135, Average Loss: 210.0389\n",
            "Epoch 136/250, sampling 5251 examples...\n"
          ]
        },
        {
          "output_type": "stream",
          "name": "stderr",
          "text": [
            "Epoch 136: 100%|██████████| 165/165 [00:28<00:00,  5.71batch/s]\n"
          ]
        },
        {
          "output_type": "stream",
          "name": "stdout",
          "text": [
            "Epoch 136, Average Loss: 30.5314\n",
            "Epoch 137/250, sampling 5365 examples...\n"
          ]
        },
        {
          "output_type": "stream",
          "name": "stderr",
          "text": [
            "Epoch 137: 100%|██████████| 168/168 [00:29<00:00,  5.75batch/s]\n"
          ]
        },
        {
          "output_type": "stream",
          "name": "stdout",
          "text": [
            "Epoch 137, Average Loss: 39.9360\n",
            "Epoch 138/250, sampling 4913 examples...\n"
          ]
        },
        {
          "output_type": "stream",
          "name": "stderr",
          "text": [
            "Epoch 138: 100%|██████████| 154/154 [00:27<00:00,  5.56batch/s]\n"
          ]
        },
        {
          "output_type": "stream",
          "name": "stdout",
          "text": [
            "Epoch 138, Average Loss: 82.2231\n",
            "Epoch 139/250, sampling 5194 examples...\n"
          ]
        },
        {
          "output_type": "stream",
          "name": "stderr",
          "text": [
            "Epoch 139: 100%|██████████| 163/163 [00:28<00:00,  5.76batch/s]\n"
          ]
        },
        {
          "output_type": "stream",
          "name": "stdout",
          "text": [
            "Epoch 139, Average Loss: 10.3633\n",
            "Epoch 140/250, sampling 5487 examples...\n"
          ]
        },
        {
          "output_type": "stream",
          "name": "stderr",
          "text": [
            "Epoch 140: 100%|██████████| 172/172 [00:29<00:00,  5.92batch/s]\n"
          ]
        },
        {
          "output_type": "stream",
          "name": "stdout",
          "text": [
            "Epoch 140, Average Loss: 3.6390\n",
            "Epoch 141/250, sampling 5452 examples...\n"
          ]
        },
        {
          "output_type": "stream",
          "name": "stderr",
          "text": [
            "Epoch 141: 100%|██████████| 171/171 [00:28<00:00,  5.92batch/s]\n"
          ]
        },
        {
          "output_type": "stream",
          "name": "stdout",
          "text": [
            "Epoch 141, Average Loss: 3.1203\n",
            "Epoch 142/250, sampling 5350 examples...\n"
          ]
        },
        {
          "output_type": "stream",
          "name": "stderr",
          "text": [
            "Epoch 142: 100%|██████████| 168/168 [00:28<00:00,  5.87batch/s]\n"
          ]
        },
        {
          "output_type": "stream",
          "name": "stdout",
          "text": [
            "Epoch 142, Average Loss: 9.6917\n",
            "Epoch 143/250, sampling 4946 examples...\n"
          ]
        },
        {
          "output_type": "stream",
          "name": "stderr",
          "text": [
            "Epoch 143: 100%|██████████| 155/155 [00:27<00:00,  5.59batch/s]\n"
          ]
        },
        {
          "output_type": "stream",
          "name": "stdout",
          "text": [
            "Epoch 143, Average Loss: 42.7465\n",
            "Epoch 144/250, sampling 5493 examples...\n"
          ]
        },
        {
          "output_type": "stream",
          "name": "stderr",
          "text": [
            "Epoch 144: 100%|██████████| 172/172 [00:29<00:00,  5.87batch/s]\n"
          ]
        },
        {
          "output_type": "stream",
          "name": "stdout",
          "text": [
            "Epoch 144, Average Loss: 31.3999\n",
            "Epoch 145/250, sampling 5122 examples...\n"
          ]
        },
        {
          "output_type": "stream",
          "name": "stderr",
          "text": [
            "Epoch 145: 100%|██████████| 161/161 [00:28<00:00,  5.66batch/s]\n"
          ]
        },
        {
          "output_type": "stream",
          "name": "stdout",
          "text": [
            "Epoch 145, Average Loss: 5.6215\n",
            "Epoch 146/250, sampling 5341 examples...\n"
          ]
        },
        {
          "output_type": "stream",
          "name": "stderr",
          "text": [
            "Epoch 146: 100%|██████████| 167/167 [00:28<00:00,  5.80batch/s]\n"
          ]
        },
        {
          "output_type": "stream",
          "name": "stdout",
          "text": [
            "Epoch 146, Average Loss: 2.0078\n",
            "Epoch 147/250, sampling 5248 examples...\n"
          ]
        },
        {
          "output_type": "stream",
          "name": "stderr",
          "text": [
            "Epoch 147: 100%|██████████| 164/164 [00:28<00:00,  5.69batch/s]\n"
          ]
        },
        {
          "output_type": "stream",
          "name": "stdout",
          "text": [
            "Epoch 147, Average Loss: 4.1942\n",
            "Epoch 148/250, sampling 4980 examples...\n"
          ]
        },
        {
          "output_type": "stream",
          "name": "stderr",
          "text": [
            "Epoch 148: 100%|██████████| 156/156 [00:28<00:00,  5.55batch/s]\n"
          ]
        },
        {
          "output_type": "stream",
          "name": "stdout",
          "text": [
            "Epoch 148, Average Loss: 13.5891\n",
            "Epoch 149/250, sampling 5145 examples...\n"
          ]
        },
        {
          "output_type": "stream",
          "name": "stderr",
          "text": [
            "Epoch 149: 100%|██████████| 161/161 [00:28<00:00,  5.66batch/s]\n"
          ]
        },
        {
          "output_type": "stream",
          "name": "stdout",
          "text": [
            "Epoch 149, Average Loss: 47.9202\n",
            "Epoch 150/250, sampling 5151 examples...\n"
          ]
        },
        {
          "output_type": "stream",
          "name": "stderr",
          "text": [
            "Epoch 150: 100%|██████████| 161/161 [00:28<00:00,  5.69batch/s]\n"
          ]
        },
        {
          "output_type": "stream",
          "name": "stdout",
          "text": [
            "Epoch 150, Average Loss: 14.3949\n",
            "Epoch 151/250, sampling 5454 examples...\n"
          ]
        },
        {
          "output_type": "stream",
          "name": "stderr",
          "text": [
            "Epoch 151: 100%|██████████| 171/171 [00:29<00:00,  5.83batch/s]\n"
          ]
        },
        {
          "output_type": "stream",
          "name": "stdout",
          "text": [
            "Epoch 151, Average Loss: 11.0646\n",
            "Epoch 152/250, sampling 5170 examples...\n"
          ]
        },
        {
          "output_type": "stream",
          "name": "stderr",
          "text": [
            "Epoch 152: 100%|██████████| 162/162 [00:28<00:00,  5.63batch/s]\n"
          ]
        },
        {
          "output_type": "stream",
          "name": "stdout",
          "text": [
            "Epoch 152, Average Loss: 4.6511\n",
            "Epoch 153/250, sampling 5009 examples...\n"
          ]
        },
        {
          "output_type": "stream",
          "name": "stderr",
          "text": [
            "Epoch 153: 100%|██████████| 157/157 [00:27<00:00,  5.71batch/s]\n"
          ]
        },
        {
          "output_type": "stream",
          "name": "stdout",
          "text": [
            "Epoch 153, Average Loss: 3.2023\n",
            "Epoch 154/250, sampling 5067 examples...\n"
          ]
        },
        {
          "output_type": "stream",
          "name": "stderr",
          "text": [
            "Epoch 154: 100%|██████████| 159/159 [00:28<00:00,  5.67batch/s]\n"
          ]
        },
        {
          "output_type": "stream",
          "name": "stdout",
          "text": [
            "Epoch 154, Average Loss: 2.8184\n",
            "Epoch 155/250, sampling 5049 examples...\n"
          ]
        },
        {
          "output_type": "stream",
          "name": "stderr",
          "text": [
            "Epoch 155: 100%|██████████| 158/158 [00:28<00:00,  5.58batch/s]\n"
          ]
        },
        {
          "output_type": "stream",
          "name": "stdout",
          "text": [
            "Epoch 155, Average Loss: 4.9684\n",
            "Epoch 156/250, sampling 5442 examples...\n"
          ]
        },
        {
          "output_type": "stream",
          "name": "stderr",
          "text": [
            "Epoch 156: 100%|██████████| 171/171 [00:29<00:00,  5.85batch/s]\n"
          ]
        },
        {
          "output_type": "stream",
          "name": "stdout",
          "text": [
            "Epoch 156, Average Loss: 145.3127\n",
            "Epoch 157/250, sampling 5539 examples...\n"
          ]
        },
        {
          "output_type": "stream",
          "name": "stderr",
          "text": [
            "Epoch 157: 100%|██████████| 174/174 [00:29<00:00,  5.91batch/s]\n"
          ]
        },
        {
          "output_type": "stream",
          "name": "stdout",
          "text": [
            "Epoch 157, Average Loss: 401.7436\n",
            "Epoch 158/250, sampling 5394 examples...\n"
          ]
        },
        {
          "output_type": "stream",
          "name": "stderr",
          "text": [
            "Epoch 158: 100%|██████████| 169/169 [00:29<00:00,  5.81batch/s]\n"
          ]
        },
        {
          "output_type": "stream",
          "name": "stdout",
          "text": [
            "Epoch 158, Average Loss: 20.0895\n",
            "Epoch 159/250, sampling 5245 examples...\n"
          ]
        },
        {
          "output_type": "stream",
          "name": "stderr",
          "text": [
            "Epoch 159: 100%|██████████| 164/164 [00:29<00:00,  5.61batch/s]\n"
          ]
        },
        {
          "output_type": "stream",
          "name": "stdout",
          "text": [
            "Epoch 159, Average Loss: 27.7282\n",
            "Epoch 160/250, sampling 5203 examples...\n"
          ]
        },
        {
          "output_type": "stream",
          "name": "stderr",
          "text": [
            "Epoch 160: 100%|██████████| 163/163 [00:28<00:00,  5.81batch/s]\n"
          ]
        },
        {
          "output_type": "stream",
          "name": "stdout",
          "text": [
            "Epoch 160, Average Loss: 4.4786\n",
            "Epoch 161/250, sampling 5440 examples...\n"
          ]
        },
        {
          "output_type": "stream",
          "name": "stderr",
          "text": [
            "Epoch 161: 100%|██████████| 170/170 [00:29<00:00,  5.81batch/s]\n"
          ]
        },
        {
          "output_type": "stream",
          "name": "stdout",
          "text": [
            "Epoch 161, Average Loss: 4.4133\n",
            "Epoch 162/250, sampling 5108 examples...\n"
          ]
        },
        {
          "output_type": "stream",
          "name": "stderr",
          "text": [
            "Epoch 162: 100%|██████████| 160/160 [00:28<00:00,  5.69batch/s]\n"
          ]
        },
        {
          "output_type": "stream",
          "name": "stdout",
          "text": [
            "Epoch 162, Average Loss: 5.4467\n",
            "Epoch 163/250, sampling 4932 examples...\n"
          ]
        },
        {
          "output_type": "stream",
          "name": "stderr",
          "text": [
            "Epoch 163: 100%|██████████| 155/155 [00:28<00:00,  5.50batch/s]\n"
          ]
        },
        {
          "output_type": "stream",
          "name": "stdout",
          "text": [
            "Epoch 163, Average Loss: 11.3992\n",
            "Epoch 164/250, sampling 5567 examples...\n"
          ]
        },
        {
          "output_type": "stream",
          "name": "stderr",
          "text": [
            "Epoch 164: 100%|██████████| 174/174 [00:29<00:00,  5.89batch/s]\n"
          ]
        },
        {
          "output_type": "stream",
          "name": "stdout",
          "text": [
            "Epoch 164, Average Loss: 3.4337\n",
            "Epoch 165/250, sampling 5482 examples...\n"
          ]
        },
        {
          "output_type": "stream",
          "name": "stderr",
          "text": [
            "Epoch 165: 100%|██████████| 172/172 [00:29<00:00,  5.89batch/s]\n"
          ]
        },
        {
          "output_type": "stream",
          "name": "stdout",
          "text": [
            "Epoch 165, Average Loss: 6.3418\n",
            "Epoch 166/250, sampling 5274 examples...\n"
          ]
        },
        {
          "output_type": "stream",
          "name": "stderr",
          "text": [
            "Epoch 166: 100%|██████████| 165/165 [00:28<00:00,  5.82batch/s]\n"
          ]
        },
        {
          "output_type": "stream",
          "name": "stdout",
          "text": [
            "Epoch 166, Average Loss: 2.9603\n",
            "Epoch 167/250, sampling 5277 examples...\n"
          ]
        },
        {
          "output_type": "stream",
          "name": "stderr",
          "text": [
            "Epoch 167: 100%|██████████| 165/165 [00:28<00:00,  5.76batch/s]\n"
          ]
        },
        {
          "output_type": "stream",
          "name": "stdout",
          "text": [
            "Epoch 167, Average Loss: 5.4805\n",
            "Epoch 168/250, sampling 5310 examples...\n"
          ]
        },
        {
          "output_type": "stream",
          "name": "stderr",
          "text": [
            "Epoch 168: 100%|██████████| 166/166 [00:28<00:00,  5.78batch/s]\n"
          ]
        },
        {
          "output_type": "stream",
          "name": "stdout",
          "text": [
            "Epoch 168, Average Loss: 9.3951\n",
            "Epoch 169/250, sampling 5318 examples...\n"
          ]
        },
        {
          "output_type": "stream",
          "name": "stderr",
          "text": [
            "Epoch 169: 100%|██████████| 167/167 [00:28<00:00,  5.82batch/s]\n"
          ]
        },
        {
          "output_type": "stream",
          "name": "stdout",
          "text": [
            "Epoch 169, Average Loss: 88.1083\n",
            "Epoch 170/250, sampling 5310 examples...\n"
          ]
        },
        {
          "output_type": "stream",
          "name": "stderr",
          "text": [
            "Epoch 170: 100%|██████████| 166/166 [00:28<00:00,  5.76batch/s]\n"
          ]
        },
        {
          "output_type": "stream",
          "name": "stdout",
          "text": [
            "Epoch 170, Average Loss: 18.9311\n",
            "Epoch 171/250, sampling 5029 examples...\n"
          ]
        },
        {
          "output_type": "stream",
          "name": "stderr",
          "text": [
            "Epoch 171: 100%|██████████| 158/158 [00:27<00:00,  5.65batch/s]\n"
          ]
        },
        {
          "output_type": "stream",
          "name": "stdout",
          "text": [
            "Epoch 171, Average Loss: 2.1485\n",
            "Epoch 172/250, sampling 5202 examples...\n"
          ]
        },
        {
          "output_type": "stream",
          "name": "stderr",
          "text": [
            "Epoch 172: 100%|██████████| 163/163 [00:28<00:00,  5.66batch/s]\n"
          ]
        },
        {
          "output_type": "stream",
          "name": "stdout",
          "text": [
            "Epoch 172, Average Loss: 87.3720\n",
            "Epoch 173/250, sampling 4999 examples...\n"
          ]
        },
        {
          "output_type": "stream",
          "name": "stderr",
          "text": [
            "Epoch 173: 100%|██████████| 157/157 [00:28<00:00,  5.57batch/s]\n"
          ]
        },
        {
          "output_type": "stream",
          "name": "stdout",
          "text": [
            "Epoch 173, Average Loss: 68.0424\n",
            "Epoch 174/250, sampling 5526 examples...\n"
          ]
        },
        {
          "output_type": "stream",
          "name": "stderr",
          "text": [
            "Epoch 174: 100%|██████████| 173/173 [00:28<00:00,  5.97batch/s]\n"
          ]
        },
        {
          "output_type": "stream",
          "name": "stdout",
          "text": [
            "Epoch 174, Average Loss: 19.6799\n",
            "Epoch 175/250, sampling 4967 examples...\n"
          ]
        },
        {
          "output_type": "stream",
          "name": "stderr",
          "text": [
            "Epoch 175: 100%|██████████| 156/156 [00:27<00:00,  5.61batch/s]\n"
          ]
        },
        {
          "output_type": "stream",
          "name": "stdout",
          "text": [
            "Epoch 175, Average Loss: 18.1863\n",
            "Epoch 176/250, sampling 5003 examples...\n"
          ]
        },
        {
          "output_type": "stream",
          "name": "stderr",
          "text": [
            "Epoch 176: 100%|██████████| 157/157 [00:27<00:00,  5.64batch/s]\n"
          ]
        },
        {
          "output_type": "stream",
          "name": "stdout",
          "text": [
            "Epoch 176, Average Loss: 16.3998\n",
            "Epoch 177/250, sampling 5521 examples...\n"
          ]
        },
        {
          "output_type": "stream",
          "name": "stderr",
          "text": [
            "Epoch 177: 100%|██████████| 173/173 [00:29<00:00,  5.88batch/s]\n"
          ]
        },
        {
          "output_type": "stream",
          "name": "stdout",
          "text": [
            "Epoch 177, Average Loss: 21.5408\n",
            "Epoch 178/250, sampling 5177 examples...\n"
          ]
        },
        {
          "output_type": "stream",
          "name": "stderr",
          "text": [
            "Epoch 178: 100%|██████████| 162/162 [00:28<00:00,  5.69batch/s]\n"
          ]
        },
        {
          "output_type": "stream",
          "name": "stdout",
          "text": [
            "Epoch 178, Average Loss: 4.9628\n",
            "Epoch 179/250, sampling 5013 examples...\n"
          ]
        },
        {
          "output_type": "stream",
          "name": "stderr",
          "text": [
            "Epoch 179: 100%|██████████| 157/157 [00:27<00:00,  5.63batch/s]\n"
          ]
        },
        {
          "output_type": "stream",
          "name": "stdout",
          "text": [
            "Epoch 179, Average Loss: 69.8796\n",
            "Epoch 180/250, sampling 5230 examples...\n"
          ]
        },
        {
          "output_type": "stream",
          "name": "stderr",
          "text": [
            "Epoch 180: 100%|██████████| 164/164 [00:28<00:00,  5.71batch/s]\n"
          ]
        },
        {
          "output_type": "stream",
          "name": "stdout",
          "text": [
            "Epoch 180, Average Loss: 21.8030\n",
            "Epoch 181/250, sampling 5536 examples...\n"
          ]
        },
        {
          "output_type": "stream",
          "name": "stderr",
          "text": [
            "Epoch 181: 100%|██████████| 173/173 [00:29<00:00,  5.86batch/s]\n"
          ]
        },
        {
          "output_type": "stream",
          "name": "stdout",
          "text": [
            "Epoch 181, Average Loss: 73.4425\n",
            "Epoch 182/250, sampling 5308 examples...\n"
          ]
        },
        {
          "output_type": "stream",
          "name": "stderr",
          "text": [
            "Epoch 182: 100%|██████████| 166/166 [00:28<00:00,  5.80batch/s]\n"
          ]
        },
        {
          "output_type": "stream",
          "name": "stdout",
          "text": [
            "Epoch 182, Average Loss: 40.0575\n",
            "Epoch 183/250, sampling 4871 examples...\n"
          ]
        },
        {
          "output_type": "stream",
          "name": "stderr",
          "text": [
            "Epoch 183: 100%|██████████| 153/153 [00:27<00:00,  5.53batch/s]\n"
          ]
        },
        {
          "output_type": "stream",
          "name": "stdout",
          "text": [
            "Epoch 183, Average Loss: 42.9363\n",
            "Epoch 184/250, sampling 5195 examples...\n"
          ]
        },
        {
          "output_type": "stream",
          "name": "stderr",
          "text": [
            "Epoch 184: 100%|██████████| 163/163 [00:28<00:00,  5.66batch/s]\n"
          ]
        },
        {
          "output_type": "stream",
          "name": "stdout",
          "text": [
            "Epoch 184, Average Loss: 28.4975\n",
            "Epoch 185/250, sampling 5469 examples...\n"
          ]
        },
        {
          "output_type": "stream",
          "name": "stderr",
          "text": [
            "Epoch 185: 100%|██████████| 171/171 [00:29<00:00,  5.83batch/s]\n"
          ]
        },
        {
          "output_type": "stream",
          "name": "stdout",
          "text": [
            "Epoch 185, Average Loss: 25.0848\n",
            "Epoch 186/250, sampling 4889 examples...\n"
          ]
        },
        {
          "output_type": "stream",
          "name": "stderr",
          "text": [
            "Epoch 186: 100%|██████████| 153/153 [00:27<00:00,  5.49batch/s]\n"
          ]
        },
        {
          "output_type": "stream",
          "name": "stdout",
          "text": [
            "Epoch 186, Average Loss: 5.1667\n",
            "Epoch 187/250, sampling 4985 examples...\n"
          ]
        },
        {
          "output_type": "stream",
          "name": "stderr",
          "text": [
            "Epoch 187: 100%|██████████| 156/156 [00:28<00:00,  5.51batch/s]\n"
          ]
        },
        {
          "output_type": "stream",
          "name": "stdout",
          "text": [
            "Epoch 187, Average Loss: 19.9825\n",
            "Epoch 188/250, sampling 4891 examples...\n"
          ]
        },
        {
          "output_type": "stream",
          "name": "stderr",
          "text": [
            "Epoch 188: 100%|██████████| 153/153 [00:28<00:00,  5.44batch/s]\n"
          ]
        },
        {
          "output_type": "stream",
          "name": "stdout",
          "text": [
            "Epoch 188, Average Loss: 4.8768\n",
            "Epoch 189/250, sampling 5073 examples...\n"
          ]
        },
        {
          "output_type": "stream",
          "name": "stderr",
          "text": [
            "Epoch 189: 100%|██████████| 159/159 [00:28<00:00,  5.59batch/s]\n"
          ]
        },
        {
          "output_type": "stream",
          "name": "stdout",
          "text": [
            "Epoch 189, Average Loss: 2.7985\n",
            "Epoch 190/250, sampling 5092 examples...\n"
          ]
        },
        {
          "output_type": "stream",
          "name": "stderr",
          "text": [
            "Epoch 190: 100%|██████████| 160/160 [00:28<00:00,  5.60batch/s]\n"
          ]
        },
        {
          "output_type": "stream",
          "name": "stdout",
          "text": [
            "Epoch 190, Average Loss: 10.9583\n",
            "Epoch 191/250, sampling 4883 examples...\n"
          ]
        },
        {
          "output_type": "stream",
          "name": "stderr",
          "text": [
            "Epoch 191: 100%|██████████| 153/153 [00:27<00:00,  5.49batch/s]\n"
          ]
        },
        {
          "output_type": "stream",
          "name": "stdout",
          "text": [
            "Epoch 191, Average Loss: 7.4830\n",
            "Epoch 192/250, sampling 4980 examples...\n"
          ]
        },
        {
          "output_type": "stream",
          "name": "stderr",
          "text": [
            "Epoch 192: 100%|██████████| 156/156 [00:28<00:00,  5.53batch/s]\n"
          ]
        },
        {
          "output_type": "stream",
          "name": "stdout",
          "text": [
            "Epoch 192, Average Loss: 15.5603\n",
            "Epoch 193/250, sampling 5259 examples...\n"
          ]
        },
        {
          "output_type": "stream",
          "name": "stderr",
          "text": [
            "Epoch 193: 100%|██████████| 165/165 [00:28<00:00,  5.70batch/s]\n"
          ]
        },
        {
          "output_type": "stream",
          "name": "stdout",
          "text": [
            "Epoch 193, Average Loss: 262.2825\n",
            "Epoch 194/250, sampling 5520 examples...\n"
          ]
        },
        {
          "output_type": "stream",
          "name": "stderr",
          "text": [
            "Epoch 194: 100%|██████████| 173/173 [00:29<00:00,  5.84batch/s]\n"
          ]
        },
        {
          "output_type": "stream",
          "name": "stdout",
          "text": [
            "Epoch 194, Average Loss: 82.2408\n",
            "Epoch 195/250, sampling 5556 examples...\n"
          ]
        },
        {
          "output_type": "stream",
          "name": "stderr",
          "text": [
            "Epoch 195: 100%|██████████| 174/174 [00:29<00:00,  5.86batch/s]\n"
          ]
        },
        {
          "output_type": "stream",
          "name": "stdout",
          "text": [
            "Epoch 195, Average Loss: 254.8500\n",
            "Epoch 196/250, sampling 5164 examples...\n"
          ]
        },
        {
          "output_type": "stream",
          "name": "stderr",
          "text": [
            "Epoch 196: 100%|██████████| 162/162 [00:28<00:00,  5.66batch/s]\n"
          ]
        },
        {
          "output_type": "stream",
          "name": "stdout",
          "text": [
            "Epoch 196, Average Loss: 51.9382\n",
            "Epoch 197/250, sampling 4861 examples...\n"
          ]
        },
        {
          "output_type": "stream",
          "name": "stderr",
          "text": [
            "Epoch 197: 100%|██████████| 152/152 [00:27<00:00,  5.46batch/s]\n"
          ]
        },
        {
          "output_type": "stream",
          "name": "stdout",
          "text": [
            "Epoch 197, Average Loss: 25.3841\n",
            "Epoch 198/250, sampling 5036 examples...\n"
          ]
        },
        {
          "output_type": "stream",
          "name": "stderr",
          "text": [
            "Epoch 198: 100%|██████████| 158/158 [00:28<00:00,  5.59batch/s]\n"
          ]
        },
        {
          "output_type": "stream",
          "name": "stdout",
          "text": [
            "Epoch 198, Average Loss: 11.2606\n",
            "Epoch 199/250, sampling 5208 examples...\n"
          ]
        },
        {
          "output_type": "stream",
          "name": "stderr",
          "text": [
            "Epoch 199: 100%|██████████| 163/163 [00:28<00:00,  5.68batch/s]\n"
          ]
        },
        {
          "output_type": "stream",
          "name": "stdout",
          "text": [
            "Epoch 199, Average Loss: 11.5681\n",
            "Epoch 200/250, sampling 5464 examples...\n"
          ]
        },
        {
          "output_type": "stream",
          "name": "stderr",
          "text": [
            "Epoch 200: 100%|██████████| 171/171 [00:29<00:00,  5.79batch/s]\n"
          ]
        },
        {
          "output_type": "stream",
          "name": "stdout",
          "text": [
            "Epoch 200, Average Loss: 4.6981\n",
            "Epoch 201/250, sampling 4965 examples...\n"
          ]
        },
        {
          "output_type": "stream",
          "name": "stderr",
          "text": [
            "Epoch 201: 100%|██████████| 156/156 [00:27<00:00,  5.57batch/s]\n"
          ]
        },
        {
          "output_type": "stream",
          "name": "stdout",
          "text": [
            "Epoch 201, Average Loss: 4.0631\n",
            "Epoch 202/250, sampling 5540 examples...\n"
          ]
        },
        {
          "output_type": "stream",
          "name": "stderr",
          "text": [
            "Epoch 202: 100%|██████████| 174/174 [00:29<00:00,  5.92batch/s]\n"
          ]
        },
        {
          "output_type": "stream",
          "name": "stdout",
          "text": [
            "Epoch 202, Average Loss: 32.6634\n",
            "Epoch 203/250, sampling 4864 examples...\n"
          ]
        },
        {
          "output_type": "stream",
          "name": "stderr",
          "text": [
            "Epoch 203: 100%|██████████| 152/152 [00:27<00:00,  5.49batch/s]\n"
          ]
        },
        {
          "output_type": "stream",
          "name": "stdout",
          "text": [
            "Epoch 203, Average Loss: 49.3790\n",
            "Epoch 204/250, sampling 5310 examples...\n"
          ]
        },
        {
          "output_type": "stream",
          "name": "stderr",
          "text": [
            "Epoch 204: 100%|██████████| 166/166 [00:29<00:00,  5.68batch/s]\n"
          ]
        },
        {
          "output_type": "stream",
          "name": "stdout",
          "text": [
            "Epoch 204, Average Loss: 10.4443\n",
            "Epoch 205/250, sampling 5234 examples...\n"
          ]
        },
        {
          "output_type": "stream",
          "name": "stderr",
          "text": [
            "Epoch 205: 100%|██████████| 164/164 [00:28<00:00,  5.75batch/s]\n"
          ]
        },
        {
          "output_type": "stream",
          "name": "stdout",
          "text": [
            "Epoch 205, Average Loss: 2.4624\n",
            "Epoch 206/250, sampling 5089 examples...\n"
          ]
        },
        {
          "output_type": "stream",
          "name": "stderr",
          "text": [
            "Epoch 206: 100%|██████████| 160/160 [00:28<00:00,  5.64batch/s]\n"
          ]
        },
        {
          "output_type": "stream",
          "name": "stdout",
          "text": [
            "Epoch 206, Average Loss: 5.0237\n",
            "Epoch 207/250, sampling 5052 examples...\n"
          ]
        },
        {
          "output_type": "stream",
          "name": "stderr",
          "text": [
            "Epoch 207: 100%|██████████| 158/158 [00:27<00:00,  5.70batch/s]\n"
          ]
        },
        {
          "output_type": "stream",
          "name": "stdout",
          "text": [
            "Epoch 207, Average Loss: 6.7680\n",
            "Epoch 208/250, sampling 5479 examples...\n"
          ]
        },
        {
          "output_type": "stream",
          "name": "stderr",
          "text": [
            "Epoch 208: 100%|██████████| 172/172 [00:29<00:00,  5.83batch/s]\n"
          ]
        },
        {
          "output_type": "stream",
          "name": "stdout",
          "text": [
            "Epoch 208, Average Loss: 19.2608\n",
            "Epoch 209/250, sampling 5145 examples...\n"
          ]
        },
        {
          "output_type": "stream",
          "name": "stderr",
          "text": [
            "Epoch 209: 100%|██████████| 161/161 [00:28<00:00,  5.65batch/s]\n"
          ]
        },
        {
          "output_type": "stream",
          "name": "stdout",
          "text": [
            "Epoch 209, Average Loss: 2.1762\n",
            "Epoch 210/250, sampling 5394 examples...\n"
          ]
        },
        {
          "output_type": "stream",
          "name": "stderr",
          "text": [
            "Epoch 210: 100%|██████████| 169/169 [00:28<00:00,  5.84batch/s]\n"
          ]
        },
        {
          "output_type": "stream",
          "name": "stdout",
          "text": [
            "Epoch 210, Average Loss: 14.0950\n",
            "Epoch 211/250, sampling 5157 examples...\n"
          ]
        },
        {
          "output_type": "stream",
          "name": "stderr",
          "text": [
            "Epoch 211: 100%|██████████| 162/162 [00:28<00:00,  5.65batch/s]\n"
          ]
        },
        {
          "output_type": "stream",
          "name": "stdout",
          "text": [
            "Epoch 211, Average Loss: 14.4327\n",
            "Epoch 212/250, sampling 4916 examples...\n"
          ]
        },
        {
          "output_type": "stream",
          "name": "stderr",
          "text": [
            "Epoch 212: 100%|██████████| 154/154 [00:27<00:00,  5.60batch/s]\n"
          ]
        },
        {
          "output_type": "stream",
          "name": "stdout",
          "text": [
            "Epoch 212, Average Loss: 32.7139\n",
            "Epoch 213/250, sampling 5189 examples...\n"
          ]
        },
        {
          "output_type": "stream",
          "name": "stderr",
          "text": [
            "Epoch 213: 100%|██████████| 163/163 [00:28<00:00,  5.67batch/s]\n"
          ]
        },
        {
          "output_type": "stream",
          "name": "stdout",
          "text": [
            "Epoch 213, Average Loss: 86.4230\n",
            "Epoch 214/250, sampling 5450 examples...\n"
          ]
        },
        {
          "output_type": "stream",
          "name": "stderr",
          "text": [
            "Epoch 214: 100%|██████████| 171/171 [00:29<00:00,  5.79batch/s]\n"
          ]
        },
        {
          "output_type": "stream",
          "name": "stdout",
          "text": [
            "Epoch 214, Average Loss: 101.0915\n",
            "Epoch 215/250, sampling 5002 examples...\n"
          ]
        },
        {
          "output_type": "stream",
          "name": "stderr",
          "text": [
            "Epoch 215: 100%|██████████| 157/157 [00:28<00:00,  5.56batch/s]\n"
          ]
        },
        {
          "output_type": "stream",
          "name": "stdout",
          "text": [
            "Epoch 215, Average Loss: 19.3938\n",
            "Epoch 216/250, sampling 4901 examples...\n"
          ]
        },
        {
          "output_type": "stream",
          "name": "stderr",
          "text": [
            "Epoch 216: 100%|██████████| 154/154 [00:26<00:00,  5.73batch/s]\n"
          ]
        },
        {
          "output_type": "stream",
          "name": "stdout",
          "text": [
            "Epoch 216, Average Loss: 57.7495\n",
            "Epoch 217/250, sampling 5282 examples...\n"
          ]
        },
        {
          "output_type": "stream",
          "name": "stderr",
          "text": [
            "Epoch 217: 100%|██████████| 166/166 [00:28<00:00,  5.78batch/s]\n"
          ]
        },
        {
          "output_type": "stream",
          "name": "stdout",
          "text": [
            "Epoch 217, Average Loss: 15.0383\n",
            "Epoch 218/250, sampling 4935 examples...\n"
          ]
        },
        {
          "output_type": "stream",
          "name": "stderr",
          "text": [
            "Epoch 218: 100%|██████████| 155/155 [00:27<00:00,  5.58batch/s]\n"
          ]
        },
        {
          "output_type": "stream",
          "name": "stdout",
          "text": [
            "Epoch 218, Average Loss: 14.3015\n",
            "Epoch 219/250, sampling 5063 examples...\n"
          ]
        },
        {
          "output_type": "stream",
          "name": "stderr",
          "text": [
            "Epoch 219: 100%|██████████| 159/159 [00:28<00:00,  5.67batch/s]\n"
          ]
        },
        {
          "output_type": "stream",
          "name": "stdout",
          "text": [
            "Epoch 219, Average Loss: 17.7031\n",
            "Epoch 220/250, sampling 5295 examples...\n"
          ]
        },
        {
          "output_type": "stream",
          "name": "stderr",
          "text": [
            "Epoch 220: 100%|██████████| 166/166 [00:28<00:00,  5.73batch/s]\n"
          ]
        },
        {
          "output_type": "stream",
          "name": "stdout",
          "text": [
            "Epoch 220, Average Loss: 9.0673\n",
            "Epoch 221/250, sampling 5573 examples...\n"
          ]
        },
        {
          "output_type": "stream",
          "name": "stderr",
          "text": [
            "Epoch 221: 100%|██████████| 175/175 [00:29<00:00,  5.91batch/s]\n"
          ]
        },
        {
          "output_type": "stream",
          "name": "stdout",
          "text": [
            "Epoch 221, Average Loss: 6.7013\n",
            "Epoch 222/250, sampling 5076 examples...\n"
          ]
        },
        {
          "output_type": "stream",
          "name": "stderr",
          "text": [
            "Epoch 222: 100%|██████████| 159/159 [00:28<00:00,  5.61batch/s]\n"
          ]
        },
        {
          "output_type": "stream",
          "name": "stdout",
          "text": [
            "Epoch 222, Average Loss: 18.8821\n",
            "Epoch 223/250, sampling 5288 examples...\n"
          ]
        },
        {
          "output_type": "stream",
          "name": "stderr",
          "text": [
            "Epoch 223: 100%|██████████| 166/166 [00:28<00:00,  5.76batch/s]\n"
          ]
        },
        {
          "output_type": "stream",
          "name": "stdout",
          "text": [
            "Epoch 223, Average Loss: 59.2390\n",
            "Epoch 224/250, sampling 4841 examples...\n"
          ]
        },
        {
          "output_type": "stream",
          "name": "stderr",
          "text": [
            "Epoch 224: 100%|██████████| 152/152 [00:27<00:00,  5.54batch/s]\n"
          ]
        },
        {
          "output_type": "stream",
          "name": "stdout",
          "text": [
            "Epoch 224, Average Loss: 42.3368\n",
            "Epoch 225/250, sampling 4835 examples...\n"
          ]
        },
        {
          "output_type": "stream",
          "name": "stderr",
          "text": [
            "Epoch 225: 100%|██████████| 152/152 [00:27<00:00,  5.53batch/s]\n"
          ]
        },
        {
          "output_type": "stream",
          "name": "stdout",
          "text": [
            "Epoch 225, Average Loss: 3.9401\n",
            "Epoch 226/250, sampling 4889 examples...\n"
          ]
        },
        {
          "output_type": "stream",
          "name": "stderr",
          "text": [
            "Epoch 226: 100%|██████████| 153/153 [00:27<00:00,  5.54batch/s]\n"
          ]
        },
        {
          "output_type": "stream",
          "name": "stdout",
          "text": [
            "Epoch 226, Average Loss: 11.7847\n",
            "Epoch 227/250, sampling 4885 examples...\n"
          ]
        },
        {
          "output_type": "stream",
          "name": "stderr",
          "text": [
            "Epoch 227: 100%|██████████| 153/153 [00:27<00:00,  5.56batch/s]\n"
          ]
        },
        {
          "output_type": "stream",
          "name": "stdout",
          "text": [
            "Epoch 227, Average Loss: 5.6456\n",
            "Epoch 228/250, sampling 5587 examples...\n"
          ]
        },
        {
          "output_type": "stream",
          "name": "stderr",
          "text": [
            "Epoch 228: 100%|██████████| 175/175 [00:29<00:00,  5.92batch/s]\n"
          ]
        },
        {
          "output_type": "stream",
          "name": "stdout",
          "text": [
            "Epoch 228, Average Loss: 16.4580\n",
            "Epoch 229/250, sampling 5077 examples...\n"
          ]
        },
        {
          "output_type": "stream",
          "name": "stderr",
          "text": [
            "Epoch 229: 100%|██████████| 159/159 [00:28<00:00,  5.63batch/s]\n"
          ]
        },
        {
          "output_type": "stream",
          "name": "stdout",
          "text": [
            "Epoch 229, Average Loss: 12.4624\n",
            "Epoch 230/250, sampling 5138 examples...\n"
          ]
        },
        {
          "output_type": "stream",
          "name": "stderr",
          "text": [
            "Epoch 230: 100%|██████████| 161/161 [00:28<00:00,  5.74batch/s]\n"
          ]
        },
        {
          "output_type": "stream",
          "name": "stdout",
          "text": [
            "Epoch 230, Average Loss: 10.1185\n",
            "Epoch 231/250, sampling 5530 examples...\n"
          ]
        },
        {
          "output_type": "stream",
          "name": "stderr",
          "text": [
            "Epoch 231: 100%|██████████| 173/173 [00:29<00:00,  5.94batch/s]\n"
          ]
        },
        {
          "output_type": "stream",
          "name": "stdout",
          "text": [
            "Epoch 231, Average Loss: 61.4114\n",
            "Epoch 232/250, sampling 5240 examples...\n"
          ]
        },
        {
          "output_type": "stream",
          "name": "stderr",
          "text": [
            "Epoch 232: 100%|██████████| 164/164 [00:28<00:00,  5.74batch/s]\n"
          ]
        },
        {
          "output_type": "stream",
          "name": "stdout",
          "text": [
            "Epoch 232, Average Loss: 26.5567\n",
            "Epoch 233/250, sampling 5508 examples...\n"
          ]
        },
        {
          "output_type": "stream",
          "name": "stderr",
          "text": [
            "Epoch 233: 100%|██████████| 173/173 [00:29<00:00,  5.92batch/s]\n"
          ]
        },
        {
          "output_type": "stream",
          "name": "stdout",
          "text": [
            "Epoch 233, Average Loss: 64.0994\n",
            "Epoch 234/250, sampling 5054 examples...\n"
          ]
        },
        {
          "output_type": "stream",
          "name": "stderr",
          "text": [
            "Epoch 234: 100%|██████████| 158/158 [00:28<00:00,  5.63batch/s]\n"
          ]
        },
        {
          "output_type": "stream",
          "name": "stdout",
          "text": [
            "Epoch 234, Average Loss: 61.6866\n",
            "Epoch 235/250, sampling 4894 examples...\n"
          ]
        },
        {
          "output_type": "stream",
          "name": "stderr",
          "text": [
            "Epoch 235: 100%|██████████| 153/153 [00:27<00:00,  5.50batch/s]\n"
          ]
        },
        {
          "output_type": "stream",
          "name": "stdout",
          "text": [
            "Epoch 235, Average Loss: 40.3336\n",
            "Epoch 236/250, sampling 5229 examples...\n"
          ]
        },
        {
          "output_type": "stream",
          "name": "stderr",
          "text": [
            "Epoch 236: 100%|██████████| 164/164 [00:28<00:00,  5.75batch/s]\n"
          ]
        },
        {
          "output_type": "stream",
          "name": "stdout",
          "text": [
            "Epoch 236, Average Loss: 16.9859\n",
            "Epoch 237/250, sampling 5425 examples...\n"
          ]
        },
        {
          "output_type": "stream",
          "name": "stderr",
          "text": [
            "Epoch 237: 100%|██████████| 170/170 [00:29<00:00,  5.84batch/s]\n"
          ]
        },
        {
          "output_type": "stream",
          "name": "stdout",
          "text": [
            "Epoch 237, Average Loss: 16.6495\n",
            "Epoch 238/250, sampling 5490 examples...\n"
          ]
        },
        {
          "output_type": "stream",
          "name": "stderr",
          "text": [
            "Epoch 238: 100%|██████████| 172/172 [00:29<00:00,  5.88batch/s]\n"
          ]
        },
        {
          "output_type": "stream",
          "name": "stdout",
          "text": [
            "Epoch 238, Average Loss: 3.8300\n",
            "Epoch 239/250, sampling 5538 examples...\n"
          ]
        },
        {
          "output_type": "stream",
          "name": "stderr",
          "text": [
            "Epoch 239: 100%|██████████| 174/174 [00:29<00:00,  5.90batch/s]\n"
          ]
        },
        {
          "output_type": "stream",
          "name": "stdout",
          "text": [
            "Epoch 239, Average Loss: 10.4689\n",
            "Epoch 240/250, sampling 5236 examples...\n"
          ]
        },
        {
          "output_type": "stream",
          "name": "stderr",
          "text": [
            "Epoch 240: 100%|██████████| 164/164 [00:28<00:00,  5.72batch/s]\n"
          ]
        },
        {
          "output_type": "stream",
          "name": "stdout",
          "text": [
            "Epoch 240, Average Loss: 5.4497\n",
            "Epoch 241/250, sampling 5190 examples...\n"
          ]
        },
        {
          "output_type": "stream",
          "name": "stderr",
          "text": [
            "Epoch 241: 100%|██████████| 163/163 [00:28<00:00,  5.79batch/s]\n"
          ]
        },
        {
          "output_type": "stream",
          "name": "stdout",
          "text": [
            "Epoch 241, Average Loss: 15.3188\n",
            "Epoch 242/250, sampling 5191 examples...\n"
          ]
        },
        {
          "output_type": "stream",
          "name": "stderr",
          "text": [
            "Epoch 242: 100%|██████████| 163/163 [00:28<00:00,  5.69batch/s]\n"
          ]
        },
        {
          "output_type": "stream",
          "name": "stdout",
          "text": [
            "Epoch 242, Average Loss: 5.4271\n",
            "Epoch 243/250, sampling 5262 examples...\n"
          ]
        },
        {
          "output_type": "stream",
          "name": "stderr",
          "text": [
            "Epoch 243: 100%|██████████| 165/165 [00:28<00:00,  5.78batch/s]\n"
          ]
        },
        {
          "output_type": "stream",
          "name": "stdout",
          "text": [
            "Epoch 243, Average Loss: 9.7139\n",
            "Epoch 244/250, sampling 4976 examples...\n"
          ]
        },
        {
          "output_type": "stream",
          "name": "stderr",
          "text": [
            "Epoch 244: 100%|██████████| 156/156 [00:27<00:00,  5.67batch/s]\n"
          ]
        },
        {
          "output_type": "stream",
          "name": "stdout",
          "text": [
            "Epoch 244, Average Loss: 20.2612\n",
            "Epoch 245/250, sampling 5080 examples...\n"
          ]
        },
        {
          "output_type": "stream",
          "name": "stderr",
          "text": [
            "Epoch 245: 100%|██████████| 159/159 [00:28<00:00,  5.66batch/s]\n"
          ]
        },
        {
          "output_type": "stream",
          "name": "stdout",
          "text": [
            "Epoch 245, Average Loss: 13.1836\n",
            "Epoch 246/250, sampling 5481 examples...\n"
          ]
        },
        {
          "output_type": "stream",
          "name": "stderr",
          "text": [
            "Epoch 246: 100%|██████████| 172/172 [00:29<00:00,  5.86batch/s]\n"
          ]
        },
        {
          "output_type": "stream",
          "name": "stdout",
          "text": [
            "Epoch 246, Average Loss: 118.8372\n",
            "Epoch 247/250, sampling 5140 examples...\n"
          ]
        },
        {
          "output_type": "stream",
          "name": "stderr",
          "text": [
            "Epoch 247: 100%|██████████| 161/161 [00:28<00:00,  5.75batch/s]\n"
          ]
        },
        {
          "output_type": "stream",
          "name": "stdout",
          "text": [
            "Epoch 247, Average Loss: 468.7886\n",
            "Epoch 248/250, sampling 5066 examples...\n"
          ]
        },
        {
          "output_type": "stream",
          "name": "stderr",
          "text": [
            "Epoch 248: 100%|██████████| 159/159 [00:27<00:00,  5.72batch/s]\n"
          ]
        },
        {
          "output_type": "stream",
          "name": "stdout",
          "text": [
            "Epoch 248, Average Loss: 108.2933\n",
            "Epoch 249/250, sampling 5340 examples...\n"
          ]
        },
        {
          "output_type": "stream",
          "name": "stderr",
          "text": [
            "Epoch 249: 100%|██████████| 167/167 [00:28<00:00,  5.81batch/s]\n"
          ]
        },
        {
          "output_type": "stream",
          "name": "stdout",
          "text": [
            "Epoch 249, Average Loss: 24.2423\n",
            "Epoch 250/250, sampling 5153 examples...\n"
          ]
        },
        {
          "output_type": "stream",
          "name": "stderr",
          "text": [
            "Epoch 250: 100%|██████████| 162/162 [00:28<00:00,  5.75batch/s]\n"
          ]
        },
        {
          "output_type": "stream",
          "name": "stdout",
          "text": [
            "Epoch 250, Average Loss: 16.7106\n"
          ]
        },
        {
          "output_type": "display_data",
          "data": {
            "text/plain": [
              "<Figure size 800x500 with 1 Axes>"
            ],
            "image/png": "[encoded data removed]"
          },
          "metadata": {}
        }
      ],
      "source": [
        "import tensorflow as tf\n",
        "from tqdm import tqdm\n",
        "import matplotlib.pyplot as plt\n",
        "import numpy as np\n",
        "import random\n",
        "\n",
        "# Model and optimizer\n",
        "model_tf = RelationExtractionHead(hidden_size=hidden_size, num_relations=num_relations)\n",
        "loss_fn = tf.keras.losses.SparseCategoricalCrossentropy(from_logits=True)\n",
        "optimizer = tf.keras.optimizers.Adam(learning_rate=learning_rate)\n",
        "\n",
        "loss_history = []\n",
        "\n",
        "for epoch in range(num_epochs):\n",
        "    samples_this_epoch = random.randint(sample_range_min, sample_range_max)\n",
        "    total_batches = int(np.ceil(samples_this_epoch / batch_size))\n",
        "\n",
        "    epoch_dataset = (\n",
        "        train_dataset.unbatch()\n",
        "        .shuffle(buffer_size=10000, reshuffle_each_iteration=True)\n",
        "        .take(samples_this_epoch)\n",
        "        .batch(batch_size)\n",
        "    )\n",
        "\n",
        "    print(f\"Epoch {epoch+1}/{num_epochs}, sampling {samples_this_epoch} examples...\")\n",
        "    epoch_loss = []\n",
        "\n",
        "    for batch, (h_i_batch, h_j_batch, labels_batch, keys_batch) in enumerate(tqdm(epoch_dataset, total=total_batches, desc=f\"Epoch {epoch+1}\", unit=\"batch\")):\n",
        "        if len(h_i_batch.shape) == 3:\n",
        "            h_i_batch = tf.reduce_mean(h_i_batch, axis=1)\n",
        "            h_j_batch = tf.reduce_mean(h_j_batch, axis=1)\n",
        "\n",
        "        with tf.GradientTape() as tape:\n",
        "            logits = model_tf((h_i_batch, h_j_batch), training=True)\n",
        "            loss = loss_fn(labels_batch, logits)\n",
        "\n",
        "        grads = tape.gradient(loss, model_tf.trainable_variables)\n",
        "        optimizer.apply_gradients(zip(grads, model_tf.trainable_variables))\n",
        "        epoch_loss.append(loss.numpy())\n",
        "\n",
        "    avg_loss = np.mean(epoch_loss)\n",
        "    loss_history.append(avg_loss)\n",
        "    print(f\"Epoch {epoch+1}, Average Loss: {avg_loss:.4f}\")\n",
        "\n",
        "# Plot training loss\n",
        "plt.figure(figsize=(8, 5))\n",
        "plt.plot(range(1, num_epochs + 1), loss_history, marker='o', linestyle='-')\n",
        "plt.title(\"Training Loss Over Epochs\")\n",
        "plt.xlabel(\"Epoch\")\n",
        "plt.ylabel(\"Average Loss\")\n",
        "plt.grid(True)\n",
        "plt.show()"
      ]
    },
    {
      "cell_type": "markdown",
      "metadata": {
        "id": "AWZRaVTJFwc9"
      },
      "source": [
        "## Evaluation\n",
        "Run model evaluation on the test dataset, computing predictions, probabilities, and performance metrics."
      ]
    },
    {
      "cell_type": "code",
      "execution_count": null,
      "metadata": {
        "id": "59G7qkI6FIcb"
      },
      "outputs": [],
      "source": [
        "from sklearn.metrics import classification_report, precision_recall_fscore_support\n",
        "import numpy as np\n",
        "from tqdm import tqdm\n",
        "import tensorflow as tf\n",
        "\n",
        "class RelationModelTesterTF:\n",
        "    def __init__(self, model, dataset, batch_size=32, num_samples=None):\n",
        "        self.model = model\n",
        "        self.dataset = dataset\n",
        "        self.batch_size = batch_size\n",
        "        # estimate num_samples if not provided\n",
        "        self.num_samples = num_samples or sum(1 for _ in dataset)\n",
        "        self.total_batches = int(np.ceil(self.num_samples / batch_size))\n",
        "\n",
        "    def evaluate(self):\n",
        "        all_preds, all_labels = [], []\n",
        "        all_probs, all_keys = [], []\n",
        "        all_h_i, all_h_j = [], []\n",
        "\n",
        "        bar = tqdm(self.dataset, desc=\"Evaluating\", total=self.total_batches, unit=\"batch\")\n",
        "        for h_i, h_j, labels, keys in bar:\n",
        "            # pool sequences if 3D\n",
        "            if len(h_i.shape) == 3:\n",
        "                h_i = tf.reduce_mean(h_i, axis=1)\n",
        "                h_j = tf.reduce_mean(h_j, axis=1)\n",
        "\n",
        "            logits = self.model((h_i, h_j), training=False)\n",
        "            probs  = tf.nn.softmax(logits, axis=-1)\n",
        "            preds  = tf.argmax(probs, axis=-1)\n",
        "\n",
        "            all_preds.extend(preds.numpy().tolist())\n",
        "            all_labels.extend(labels.numpy().tolist())\n",
        "            all_probs.extend(probs.numpy().tolist())\n",
        "            all_keys.extend([k.numpy() for k in keys])\n",
        "            all_h_i.extend(h_i.numpy().tolist())\n",
        "            all_h_j.extend(h_j.numpy().tolist())\n",
        "\n",
        "        # Overall accuracy\n",
        "        accuracy = np.mean(np.array(all_preds) == np.array(all_labels))\n",
        "\n",
        "        # Weighted precision, recall, F1 with zero_division guard\n",
        "        precision, recall, f1, _ = precision_recall_fscore_support(\n",
        "            all_labels, all_preds,\n",
        "            average=\"weighted\",\n",
        "            zero_division=0\n",
        "        )\n",
        "\n",
        "        # Full classification report (string)\n",
        "        report_str = classification_report(\n",
        "            all_labels, all_preds,\n",
        "            zero_division=0\n",
        "        )\n",
        "\n",
        "        return {\n",
        "            \"predictions\": all_preds,\n",
        "            \"ground_truth\": all_labels,\n",
        "            \"accuracy\": accuracy,\n",
        "            \"precision\": precision,\n",
        "            \"recall\": recall,\n",
        "            \"f1\": f1,\n",
        "            \"classification_report\": report_str,\n",
        "            \"probabilities\": all_probs,\n",
        "            \"keys\": all_keys,\n",
        "            \"h_i\": all_h_i,\n",
        "            \"h_j\": all_h_j,\n",
        "        }\n",
        "\n"
      ]
    },
    {
      "cell_type": "code",
      "execution_count": null,
      "metadata": {
        "id": "muiGnGJnFMJs",
        "colab": {
          "base_uri": "https://localhost:8080/"
        },
        "outputId": "39803afe-15d4-49c1-ce57-1ed31b6edbe7"
      },
      "outputs": [
        {
          "output_type": "stream",
          "name": "stderr",
          "text": [
            "Evaluating: 100%|██████████| 4484/4484 [04:28<00:00, 16.69batch/s]\n"
          ]
        },
        {
          "output_type": "stream",
          "name": "stdout",
          "text": [
            "Test Accuracy          : 99.55%\n",
            "Weighted Precision     : 0.9955\n",
            "Weighted Recall        : 0.9955\n",
            "Weighted F1-score      : 0.9955\n",
            "Classification Report  :\n",
            "              precision    recall  f1-score   support\n",
            "\n",
            "           0       1.00      0.99      1.00     72037\n",
            "           1       0.99      1.00      1.00     71439\n",
            "\n",
            "    accuracy                           1.00    143476\n",
            "   macro avg       1.00      1.00      1.00    143476\n",
            "weighted avg       1.00      1.00      1.00    143476\n",
            "\n",
            "Sample-wise Predictions:\n",
            "Sample 0\n",
            "  True Label      : 1\n",
            "  Predicted Label : 1\n",
            "  Probabilities   : [0. 1. 0. 0. 0.]\n",
            "  h_i (first 5)   : [-0.4089  0.6391 -0.5235  0.1602  2.6866]\n",
            "  h_j (first 5)   : [-0.2625  0.0259 -0.0436 -0.4732  0.153 ]\n",
            "Sample 1\n",
            "  True Label      : 1\n",
            "  Predicted Label : 1\n",
            "  Probabilities   : [0. 1. 0. 0. 0.]\n",
            "  h_i (first 5)   : [ 0.1426  0.3798 -0.0402  0.5913  1.2908]\n",
            "  h_j (first 5)   : [-0.1201  0.1056 -0.3505  0.5686  1.3624]\n",
            "Sample 2\n",
            "  True Label      : 1\n",
            "  Predicted Label : 1\n",
            "  Probabilities   : [0. 1. 0. 0. 0.]\n",
            "  h_i (first 5)   : [ 0.7172  0.0234  0.0244 -0.3981 -0.1104]\n",
            "  h_j (first 5)   : [-2.105e-01 -1.200e-03  4.507e-01  1.219e-01  1.226e+00]\n",
            "Sample 3\n",
            "  True Label      : 1\n",
            "  Predicted Label : 1\n",
            "  Probabilities   : [0. 1. 0. 0. 0.]\n",
            "  h_i (first 5)   : [-0.0964 -0.1766  0.2169  0.1309  1.7947]\n",
            "  h_j (first 5)   : [-0.2625  0.0259 -0.0436 -0.4732  0.153 ]\n",
            "Sample 4\n",
            "  True Label      : 0\n",
            "  Predicted Label : 0\n",
            "  Probabilities   : [1. 0. 0. 0. 0.]\n",
            "  h_i (first 5)   : [ 0.0109 -0.2285 -0.1915 -0.226   0.7446]\n",
            "  h_j (first 5)   : [-0.4769 -0.4515 -0.0579  0.1274  1.7673]\n",
            "Sample 5\n",
            "  True Label      : 1\n",
            "  Predicted Label : 1\n",
            "  Probabilities   : [0. 1. 0. 0. 0.]\n",
            "  h_i (first 5)   : [ 1.4902 -0.7598 -0.3115 -1.464  -1.6991]\n",
            "  h_j (first 5)   : [-0.2625  0.0259 -0.0436 -0.4732  0.153 ]\n",
            "Sample 6\n",
            "  True Label      : 0\n",
            "  Predicted Label : 0\n",
            "  Probabilities   : [1. 0. 0. 0. 0.]\n",
            "  h_i (first 5)   : [ 0.0109 -0.2285 -0.1915 -0.226   0.7446]\n",
            "  h_j (first 5)   : [ 0.4628 -0.4089  0.0606  0.1065  0.3506]\n",
            "Sample 7\n",
            "  True Label      : 1\n",
            "  Predicted Label : 1\n",
            "  Probabilities   : [0. 1. 0. 0. 0.]\n",
            "  h_i (first 5)   : [ 0.117   0.0134 -0.9024  0.0088  1.8923]\n",
            "  h_j (first 5)   : [-0.3273  0.2369 -0.0239  0.0324  1.4772]\n",
            "Sample 8\n",
            "  True Label      : 1\n",
            "  Predicted Label : 1\n",
            "  Probabilities   : [0. 1. 0. 0. 0.]\n",
            "  h_i (first 5)   : [-0.7585 -0.2338  0.4243  0.5964  1.6129]\n",
            "  h_j (first 5)   : [ 0.3377 -0.1002 -0.0349  0.3655  1.0791]\n",
            "Sample 9\n",
            "  True Label      : 0\n",
            "  Predicted Label : 0\n",
            "  Probabilities   : [1. 0. 0. 0. 0.]\n",
            "  h_i (first 5)   : [ 0.0109 -0.2285 -0.1915 -0.226   0.7446]\n",
            "  h_j (first 5)   : [ 0.2417  0.1047 -0.1558  0.3766  1.1122]\n"
          ]
        }
      ],
      "source": [
        "# Run evaluation\n",
        "tester = RelationModelTesterTF(\n",
        "    model_tf,\n",
        "    test_dataset,\n",
        "    batch_size=32,\n",
        "    num_samples=len(test_dataset_hf)\n",
        ")\n",
        "results = tester.evaluate()\n",
        "\n",
        "# Print overall metrics\n",
        "print(f\"Test Accuracy          : {results['accuracy']:.2%}\")\n",
        "print(f\"Weighted Precision     : {results['precision']:.4f}\")\n",
        "print(f\"Weighted Recall        : {results['recall']:.4f}\")\n",
        "print(f\"Weighted F1-score      : {results['f1']:.4f}\")\n",
        "print(f\"Classification Report  :\")\n",
        "print(results[\"classification_report\"])\n",
        "\n",
        "# Detailed sample-wise breakdown\n",
        "print(\"Sample-wise Predictions:\")\n",
        "for i in range(min(10, len(results[\"predictions\"]))):\n",
        "    print(f\"Sample {i}\")\n",
        "    print(\"  True Label      :\", results[\"ground_truth\"][i])\n",
        "    print(\"  Predicted Label :\", results[\"predictions\"][i])\n",
        "    print(\"  Probabilities   :\", np.round(results[\"probabilities\"][i], 4))\n",
        "    print(\"  h_i (first 5)   :\", np.round(results[\"h_i\"][i][:5], 4))\n",
        "    print(\"  h_j (first 5)   :\", np.round(results[\"h_j\"][i][:5], 4))\n"
      ]
    },
    {
      "cell_type": "code",
      "source": [
        "import os\n",
        "import json\n",
        "# Save model artifacts\n",
        "SAVE_DIR = os.path.join(drive_mount_path, 'MyDrive/layoutlmv3_relation_model_tf')\n",
        "os.makedirs(SAVE_DIR, exist_ok=True)\n",
        "\n",
        "\n",
        "# Save weights-only checkpoint (HDF5 format)\n",
        "weights_path = os.path.join(SAVE_DIR, 'relation_head_weights.weights.h5')\n",
        "model_tf.save_weights(weights_path)\n",
        "print(f\"✔ Weights-only HDF5 checkpoint written to: {weights_path}\")\n",
        "tf.saved_model.save(model_tf, os.path.join(SAVE_DIR, 'saved_model'))\n",
        "\n",
        "# Save the data to json file\n",
        "with open(os.path.join(SAVE_DIR, 'relation_config.json'), 'w') as f:\n",
        "    json.dump({\n",
        "        'hidden_size': hidden_size,\n",
        "        'num_relations': num_relations\n",
        "    }, f)\n",
        "print(f\"✔ Saved model artifacts to {SAVE_DIR}\")"
      ],
      "metadata": {
        "colab": {
          "base_uri": "https://localhost:8080/"
        },
        "id": "5KZuXAIxu01b",
        "outputId": "4d31778b-6da8-4a30-eebc-f88a09a1dd69"
      },
      "execution_count": null,
      "outputs": [
        {
          "output_type": "stream",
          "name": "stdout",
          "text": [
            "✔ Weights-only HDF5 checkpoint written to: /content/drive/MyDrive/layoutlmv3_relation_model_tf/relation_head_weights.weights.h5\n",
            "✔ Saved model artifacts to /content/drive/MyDrive/layoutlmv3_relation_model_tf\n"
          ]
        }
      ]
    }
  ],
  "metadata": {
    "accelerator": "GPU",
    "colab": {
      "gpuType": "A100",
      "provenance": [],
      "machine_shape": "hm",
      "include_colab_link": true
    },
    "kernelspec": {
      "display_name": "Python 3",
      "name": "python3"
    },
    "language_info": {
      "name": "python"
    },
    "widgets": {
      "application/vnd.jupyter.widget-state+json": {
        "262e7bf124d44a108877347c02805d6f": {
          "model_module": "@jupyter-widgets/controls",
          "model_name": "HBoxModel",
          "model_module_version": "1.5.0",
          "state": {
            "_dom_classes": [],
            "_model_module": "@jupyter-widgets/controls",
            "_model_module_version": "1.5.0",
            "_model_name": "HBoxModel",
            "_view_count": null,
            "_view_module": "@jupyter-widgets/controls",
            "_view_module_version": "1.5.0",
            "_view_name": "HBoxView",
            "box_style": "",
            "children": [
              "IPY_MODEL_ec2013615e504584a4ce1e46dade2c16",
              "IPY_MODEL_fdf42fe5018f4cedaf37e64c55864548",
              "IPY_MODEL_3c93db5b6ba34178a69bfb56689ac6e1"
            ],
            "layout": "IPY_MODEL_43f6b37714904f1db64688237eb55116"
          }
        },
        "ec2013615e504584a4ce1e46dade2c16": {
          "model_module": "@jupyter-widgets/controls",
          "model_name": "HTMLModel",
          "model_module_version": "1.5.0",
          "state": {
            "_dom_classes": [],
            "_model_module": "@jupyter-widgets/controls",
            "_model_module_version": "1.5.0",
            "_model_name": "HTMLModel",
            "_view_count": null,
            "_view_module": "@jupyter-widgets/controls",
            "_view_module_version": "1.5.0",
            "_view_name": "HTMLView",
            "description": "",
            "description_tooltip": null,
            "layout": "IPY_MODEL_97d3d6fa48714288b7a1ff43babd9c99",
            "placeholder": "​",
            "style": "IPY_MODEL_8b025cb139a94eb198272e48ff31e2b5",
            "value": "Loading dataset from disk: 100%"
          }
        },
        "fdf42fe5018f4cedaf37e64c55864548": {
          "model_module": "@jupyter-widgets/controls",
          "model_name": "FloatProgressModel",
          "model_module_version": "1.5.0",
          "state": {
            "_dom_classes": [],
            "_model_module": "@jupyter-widgets/controls",
            "_model_module_version": "1.5.0",
            "_model_name": "FloatProgressModel",
            "_view_count": null,
            "_view_module": "@jupyter-widgets/controls",
            "_view_module_version": "1.5.0",
            "_view_name": "ProgressView",
            "bar_style": "success",
            "description": "",
            "description_tooltip": null,
            "layout": "IPY_MODEL_ddf5079063704ad8b8044a3a2846cf8c",
            "max": 35,
            "min": 0,
            "orientation": "horizontal",
            "style": "IPY_MODEL_7348906d47ea470caefd0081e182d35e",
            "value": 35
          }
        },
        "3c93db5b6ba34178a69bfb56689ac6e1": {
          "model_module": "@jupyter-widgets/controls",
          "model_name": "HTMLModel",
          "model_module_version": "1.5.0",
          "state": {
            "_dom_classes": [],
            "_model_module": "@jupyter-widgets/controls",
            "_model_module_version": "1.5.0",
            "_model_name": "HTMLModel",
            "_view_count": null,
            "_view_module": "@jupyter-widgets/controls",
            "_view_module_version": "1.5.0",
            "_view_name": "HTMLView",
            "description": "",
            "description_tooltip": null,
            "layout": "IPY_MODEL_9440067e12d44d57994c7280b1a5a2a4",
            "placeholder": "​",
            "style": "IPY_MODEL_d6b8fd82ba4a473597643ef401977ab9",
            "value": " 35/35 [00:00&lt;00:00, 78.67it/s]"
          }
        },
        "43f6b37714904f1db64688237eb55116": {
          "model_module": "@jupyter-widgets/base",
          "model_name": "LayoutModel",
          "model_module_version": "1.2.0",
          "state": {
            "_model_module": "@jupyter-widgets/base",
            "_model_module_version": "1.2.0",
            "_model_name": "LayoutModel",
            "_view_count": null,
            "_view_module": "@jupyter-widgets/base",
            "_view_module_version": "1.2.0",
            "_view_name": "LayoutView",
            "align_content": null,
            "align_items": null,
            "align_self": null,
            "border": null,
            "bottom": null,
            "display": null,
            "flex": null,
            "flex_flow": null,
            "grid_area": null,
            "grid_auto_columns": null,
            "grid_auto_flow": null,
            "grid_auto_rows": null,
            "grid_column": null,
            "grid_gap": null,
            "grid_row": null,
            "grid_template_areas": null,
            "grid_template_columns": null,
            "grid_template_rows": null,
            "height": null,
            "justify_content": null,
            "justify_items": null,
            "left": null,
            "margin": null,
            "max_height": null,
            "max_width": null,
            "min_height": null,
            "min_width": null,
            "object_fit": null,
            "object_position": null,
            "order": null,
            "overflow": null,
            "overflow_x": null,
            "overflow_y": null,
            "padding": null,
            "right": null,
            "top": null,
            "visibility": null,
            "width": null
          }
        },
        "97d3d6fa48714288b7a1ff43babd9c99": {
          "model_module": "@jupyter-widgets/base",
          "model_name": "LayoutModel",
          "model_module_version": "1.2.0",
          "state": {
            "_model_module": "@jupyter-widgets/base",
            "_model_module_version": "1.2.0",
            "_model_name": "LayoutModel",
            "_view_count": null,
            "_view_module": "@jupyter-widgets/base",
            "_view_module_version": "1.2.0",
            "_view_name": "LayoutView",
            "align_content": null,
            "align_items": null,
            "align_self": null,
            "border": null,
            "bottom": null,
            "display": null,
            "flex": null,
            "flex_flow": null,
            "grid_area": null,
            "grid_auto_columns": null,
            "grid_auto_flow": null,
            "grid_auto_rows": null,
            "grid_column": null,
            "grid_gap": null,
            "grid_row": null,
            "grid_template_areas": null,
            "grid_template_columns": null,
            "grid_template_rows": null,
            "height": null,
            "justify_content": null,
            "justify_items": null,
            "left": null,
            "margin": null,
            "max_height": null,
            "max_width": null,
            "min_height": null,
            "min_width": null,
            "object_fit": null,
            "object_position": null,
            "order": null,
            "overflow": null,
            "overflow_x": null,
            "overflow_y": null,
            "padding": null,
            "right": null,
            "top": null,
            "visibility": null,
            "width": null
          }
        },
        "8b025cb139a94eb198272e48ff31e2b5": {
          "model_module": "@jupyter-widgets/controls",
          "model_name": "DescriptionStyleModel",
          "model_module_version": "1.5.0",
          "state": {
            "_model_module": "@jupyter-widgets/controls",
            "_model_module_version": "1.5.0",
            "_model_name": "DescriptionStyleModel",
            "_view_count": null,
            "_view_module": "@jupyter-widgets/base",
            "_view_module_version": "1.2.0",
            "_view_name": "StyleView",
            "description_width": ""
          }
        },
        "ddf5079063704ad8b8044a3a2846cf8c": {
          "model_module": "@jupyter-widgets/base",
          "model_name": "LayoutModel",
          "model_module_version": "1.2.0",
          "state": {
            "_model_module": "@jupyter-widgets/base",
            "_model_module_version": "1.2.0",
            "_model_name": "LayoutModel",
            "_view_count": null,
            "_view_module": "@jupyter-widgets/base",
            "_view_module_version": "1.2.0",
            "_view_name": "LayoutView",
            "align_content": null,
            "align_items": null,
            "align_self": null,
            "border": null,
            "bottom": null,
            "display": null,
            "flex": null,
            "flex_flow": null,
            "grid_area": null,
            "grid_auto_columns": null,
            "grid_auto_flow": null,
            "grid_auto_rows": null,
            "grid_column": null,
            "grid_gap": null,
            "grid_row": null,
            "grid_template_areas": null,
            "grid_template_columns": null,
            "grid_template_rows": null,
            "height": null,
            "justify_content": null,
            "justify_items": null,
            "left": null,
            "margin": null,
            "max_height": null,
            "max_width": null,
            "min_height": null,
            "min_width": null,
            "object_fit": null,
            "object_position": null,
            "order": null,
            "overflow": null,
            "overflow_x": null,
            "overflow_y": null,
            "padding": null,
            "right": null,
            "top": null,
            "visibility": null,
            "width": null
          }
        },
        "7348906d47ea470caefd0081e182d35e": {
          "model_module": "@jupyter-widgets/controls",
          "model_name": "ProgressStyleModel",
          "model_module_version": "1.5.0",
          "state": {
            "_model_module": "@jupyter-widgets/controls",
            "_model_module_version": "1.5.0",
            "_model_name": "ProgressStyleModel",
            "_view_count": null,
            "_view_module": "@jupyter-widgets/base",
            "_view_module_version": "1.2.0",
            "_view_name": "StyleView",
            "bar_color": null,
            "description_width": ""
          }
        },
        "9440067e12d44d57994c7280b1a5a2a4": {
          "model_module": "@jupyter-widgets/base",
          "model_name": "LayoutModel",
          "model_module_version": "1.2.0",
          "state": {
            "_model_module": "@jupyter-widgets/base",
            "_model_module_version": "1.2.0",
            "_model_name": "LayoutModel",
            "_view_count": null,
            "_view_module": "@jupyter-widgets/base",
            "_view_module_version": "1.2.0",
            "_view_name": "LayoutView",
            "align_content": null,
            "align_items": null,
            "align_self": null,
            "border": null,
            "bottom": null,
            "display": null,
            "flex": null,
            "flex_flow": null,
            "grid_area": null,
            "grid_auto_columns": null,
            "grid_auto_flow": null,
            "grid_auto_rows": null,
            "grid_column": null,
            "grid_gap": null,
            "grid_row": null,
            "grid_template_areas": null,
            "grid_template_columns": null,
            "grid_template_rows": null,
            "height": null,
            "justify_content": null,
            "justify_items": null,
            "left": null,
            "margin": null,
            "max_height": null,
            "max_width": null,
            "min_height": null,
            "min_width": null,
            "object_fit": null,
            "object_position": null,
            "order": null,
            "overflow": null,
            "overflow_x": null,
            "overflow_y": null,
            "padding": null,
            "right": null,
            "top": null,
            "visibility": null,
            "width": null
          }
        },
        "d6b8fd82ba4a473597643ef401977ab9": {
          "model_module": "@jupyter-widgets/controls",
          "model_name": "DescriptionStyleModel",
          "model_module_version": "1.5.0",
          "state": {
            "_model_module": "@jupyter-widgets/controls",
            "_model_module_version": "1.5.0",
            "_model_name": "DescriptionStyleModel",
            "_view_count": null,
            "_view_module": "@jupyter-widgets/base",
            "_view_module_version": "1.2.0",
            "_view_name": "StyleView",
            "description_width": ""
          }
        }
      }
    }
  },
  "nbformat": 4,
  "nbformat_minor": 0
}
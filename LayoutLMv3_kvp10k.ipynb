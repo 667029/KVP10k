{
  "nbformat": 4,
  "nbformat_minor": 0,
  "metadata": {
    "colab": {
      "provenance": [],
      "toc_visible": true,
      "include_colab_link": true
    },
    "kernelspec": {
      "name": "python3",
      "display_name": "Python 3"
    },
    "language_info": {
      "name": "python"
    },
    "widgets": {
      "application/vnd.jupyter.widget-state+json": {
        "477e1401fbe04dc0a79363060d15cd29": {
          "model_module": "@jupyter-widgets/controls",
          "model_name": "HBoxModel",
          "model_module_version": "1.5.0",
          "state": {
            "_dom_classes": [],
            "_model_module": "@jupyter-widgets/controls",
            "_model_module_version": "1.5.0",
            "_model_name": "HBoxModel",
            "_view_count": null,
            "_view_module": "@jupyter-widgets/controls",
            "_view_module_version": "1.5.0",
            "_view_name": "HBoxView",
            "box_style": "",
            "children": [
              "IPY_MODEL_fd79119671fd4c0e9f230d94a5a6161f",
              "IPY_MODEL_96d38e35357e46918904e0642bfe513f",
              "IPY_MODEL_80c75fe4009445acad7229ca7add27d1"
            ],
            "layout": "IPY_MODEL_a286a4d0fde544cca7c8511fd9d18542"
          }
        },
        "fd79119671fd4c0e9f230d94a5a6161f": {
          "model_module": "@jupyter-widgets/controls",
          "model_name": "HTMLModel",
          "model_module_version": "1.5.0",
          "state": {
            "_dom_classes": [],
            "_model_module": "@jupyter-widgets/controls",
            "_model_module_version": "1.5.0",
            "_model_name": "HTMLModel",
            "_view_count": null,
            "_view_module": "@jupyter-widgets/controls",
            "_view_module_version": "1.5.0",
            "_view_name": "HTMLView",
            "description": "",
            "description_tooltip": null,
            "layout": "IPY_MODEL_2c88917f8cef49adb58575d225ebfd8f",
            "placeholder": "​",
            "style": "IPY_MODEL_232e6f959e174770b0bfeeeb5897f1f4",
            "value": "config.json: 100%"
          }
        },
        "96d38e35357e46918904e0642bfe513f": {
          "model_module": "@jupyter-widgets/controls",
          "model_name": "FloatProgressModel",
          "model_module_version": "1.5.0",
          "state": {
            "_dom_classes": [],
            "_model_module": "@jupyter-widgets/controls",
            "_model_module_version": "1.5.0",
            "_model_name": "FloatProgressModel",
            "_view_count": null,
            "_view_module": "@jupyter-widgets/controls",
            "_view_module_version": "1.5.0",
            "_view_name": "ProgressView",
            "bar_style": "success",
            "description": "",
            "description_tooltip": null,
            "layout": "IPY_MODEL_2cb03f0ed3d9405d879252aef13acdf9",
            "max": 856,
            "min": 0,
            "orientation": "horizontal",
            "style": "IPY_MODEL_d6cef509f342433f9a0d9ffea9a9c75c",
            "value": 856
          }
        },
        "80c75fe4009445acad7229ca7add27d1": {
          "model_module": "@jupyter-widgets/controls",
          "model_name": "HTMLModel",
          "model_module_version": "1.5.0",
          "state": {
            "_dom_classes": [],
            "_model_module": "@jupyter-widgets/controls",
            "_model_module_version": "1.5.0",
            "_model_name": "HTMLModel",
            "_view_count": null,
            "_view_module": "@jupyter-widgets/controls",
            "_view_module_version": "1.5.0",
            "_view_name": "HTMLView",
            "description": "",
            "description_tooltip": null,
            "layout": "IPY_MODEL_f67cdf6971854c25964d43a81e8aece4",
            "placeholder": "​",
            "style": "IPY_MODEL_d74db5ddbb544518928a4b51584962ae",
            "value": " 856/856 [00:00&lt;00:00, 35.2kB/s]"
          }
        },
        "a286a4d0fde544cca7c8511fd9d18542": {
          "model_module": "@jupyter-widgets/base",
          "model_name": "LayoutModel",
          "model_module_version": "1.2.0",
          "state": {
            "_model_module": "@jupyter-widgets/base",
            "_model_module_version": "1.2.0",
            "_model_name": "LayoutModel",
            "_view_count": null,
            "_view_module": "@jupyter-widgets/base",
            "_view_module_version": "1.2.0",
            "_view_name": "LayoutView",
            "align_content": null,
            "align_items": null,
            "align_self": null,
            "border": null,
            "bottom": null,
            "display": null,
            "flex": null,
            "flex_flow": null,
            "grid_area": null,
            "grid_auto_columns": null,
            "grid_auto_flow": null,
            "grid_auto_rows": null,
            "grid_column": null,
            "grid_gap": null,
            "grid_row": null,
            "grid_template_areas": null,
            "grid_template_columns": null,
            "grid_template_rows": null,
            "height": null,
            "justify_content": null,
            "justify_items": null,
            "left": null,
            "margin": null,
            "max_height": null,
            "max_width": null,
            "min_height": null,
            "min_width": null,
            "object_fit": null,
            "object_position": null,
            "order": null,
            "overflow": null,
            "overflow_x": null,
            "overflow_y": null,
            "padding": null,
            "right": null,
            "top": null,
            "visibility": null,
            "width": null
          }
        },
        "2c88917f8cef49adb58575d225ebfd8f": {
          "model_module": "@jupyter-widgets/base",
          "model_name": "LayoutModel",
          "model_module_version": "1.2.0",
          "state": {
            "_model_module": "@jupyter-widgets/base",
            "_model_module_version": "1.2.0",
            "_model_name": "LayoutModel",
            "_view_count": null,
            "_view_module": "@jupyter-widgets/base",
            "_view_module_version": "1.2.0",
            "_view_name": "LayoutView",
            "align_content": null,
            "align_items": null,
            "align_self": null,
            "border": null,
            "bottom": null,
            "display": null,
            "flex": null,
            "flex_flow": null,
            "grid_area": null,
            "grid_auto_columns": null,
            "grid_auto_flow": null,
            "grid_auto_rows": null,
            "grid_column": null,
            "grid_gap": null,
            "grid_row": null,
            "grid_template_areas": null,
            "grid_template_columns": null,
            "grid_template_rows": null,
            "height": null,
            "justify_content": null,
            "justify_items": null,
            "left": null,
            "margin": null,
            "max_height": null,
            "max_width": null,
            "min_height": null,
            "min_width": null,
            "object_fit": null,
            "object_position": null,
            "order": null,
            "overflow": null,
            "overflow_x": null,
            "overflow_y": null,
            "padding": null,
            "right": null,
            "top": null,
            "visibility": null,
            "width": null
          }
        },
        "232e6f959e174770b0bfeeeb5897f1f4": {
          "model_module": "@jupyter-widgets/controls",
          "model_name": "DescriptionStyleModel",
          "model_module_version": "1.5.0",
          "state": {
            "_model_module": "@jupyter-widgets/controls",
            "_model_module_version": "1.5.0",
            "_model_name": "DescriptionStyleModel",
            "_view_count": null,
            "_view_module": "@jupyter-widgets/base",
            "_view_module_version": "1.2.0",
            "_view_name": "StyleView",
            "description_width": ""
          }
        },
        "2cb03f0ed3d9405d879252aef13acdf9": {
          "model_module": "@jupyter-widgets/base",
          "model_name": "LayoutModel",
          "model_module_version": "1.2.0",
          "state": {
            "_model_module": "@jupyter-widgets/base",
            "_model_module_version": "1.2.0",
            "_model_name": "LayoutModel",
            "_view_count": null,
            "_view_module": "@jupyter-widgets/base",
            "_view_module_version": "1.2.0",
            "_view_name": "LayoutView",
            "align_content": null,
            "align_items": null,
            "align_self": null,
            "border": null,
            "bottom": null,
            "display": null,
            "flex": null,
            "flex_flow": null,
            "grid_area": null,
            "grid_auto_columns": null,
            "grid_auto_flow": null,
            "grid_auto_rows": null,
            "grid_column": null,
            "grid_gap": null,
            "grid_row": null,
            "grid_template_areas": null,
            "grid_template_columns": null,
            "grid_template_rows": null,
            "height": null,
            "justify_content": null,
            "justify_items": null,
            "left": null,
            "margin": null,
            "max_height": null,
            "max_width": null,
            "min_height": null,
            "min_width": null,
            "object_fit": null,
            "object_position": null,
            "order": null,
            "overflow": null,
            "overflow_x": null,
            "overflow_y": null,
            "padding": null,
            "right": null,
            "top": null,
            "visibility": null,
            "width": null
          }
        },
        "d6cef509f342433f9a0d9ffea9a9c75c": {
          "model_module": "@jupyter-widgets/controls",
          "model_name": "ProgressStyleModel",
          "model_module_version": "1.5.0",
          "state": {
            "_model_module": "@jupyter-widgets/controls",
            "_model_module_version": "1.5.0",
            "_model_name": "ProgressStyleModel",
            "_view_count": null,
            "_view_module": "@jupyter-widgets/base",
            "_view_module_version": "1.2.0",
            "_view_name": "StyleView",
            "bar_color": null,
            "description_width": ""
          }
        },
        "f67cdf6971854c25964d43a81e8aece4": {
          "model_module": "@jupyter-widgets/base",
          "model_name": "LayoutModel",
          "model_module_version": "1.2.0",
          "state": {
            "_model_module": "@jupyter-widgets/base",
            "_model_module_version": "1.2.0",
            "_model_name": "LayoutModel",
            "_view_count": null,
            "_view_module": "@jupyter-widgets/base",
            "_view_module_version": "1.2.0",
            "_view_name": "LayoutView",
            "align_content": null,
            "align_items": null,
            "align_self": null,
            "border": null,
            "bottom": null,
            "display": null,
            "flex": null,
            "flex_flow": null,
            "grid_area": null,
            "grid_auto_columns": null,
            "grid_auto_flow": null,
            "grid_auto_rows": null,
            "grid_column": null,
            "grid_gap": null,
            "grid_row": null,
            "grid_template_areas": null,
            "grid_template_columns": null,
            "grid_template_rows": null,
            "height": null,
            "justify_content": null,
            "justify_items": null,
            "left": null,
            "margin": null,
            "max_height": null,
            "max_width": null,
            "min_height": null,
            "min_width": null,
            "object_fit": null,
            "object_position": null,
            "order": null,
            "overflow": null,
            "overflow_x": null,
            "overflow_y": null,
            "padding": null,
            "right": null,
            "top": null,
            "visibility": null,
            "width": null
          }
        },
        "d74db5ddbb544518928a4b51584962ae": {
          "model_module": "@jupyter-widgets/controls",
          "model_name": "DescriptionStyleModel",
          "model_module_version": "1.5.0",
          "state": {
            "_model_module": "@jupyter-widgets/controls",
            "_model_module_version": "1.5.0",
            "_model_name": "DescriptionStyleModel",
            "_view_count": null,
            "_view_module": "@jupyter-widgets/base",
            "_view_module_version": "1.2.0",
            "_view_name": "StyleView",
            "description_width": ""
          }
        },
        "276ce64ff77746b7ae6119b3c3febb80": {
          "model_module": "@jupyter-widgets/controls",
          "model_name": "HBoxModel",
          "model_module_version": "1.5.0",
          "state": {
            "_dom_classes": [],
            "_model_module": "@jupyter-widgets/controls",
            "_model_module_version": "1.5.0",
            "_model_name": "HBoxModel",
            "_view_count": null,
            "_view_module": "@jupyter-widgets/controls",
            "_view_module_version": "1.5.0",
            "_view_name": "HBoxView",
            "box_style": "",
            "children": [
              "IPY_MODEL_891e73843eb94920b35211a7234ca39b",
              "IPY_MODEL_8e7e1a8329f34ab4a6712e62fa978f9b",
              "IPY_MODEL_cd3c9390660c425382154aaaa850835d"
            ],
            "layout": "IPY_MODEL_c221be69496046acb09fac39b22f0b6c"
          }
        },
        "891e73843eb94920b35211a7234ca39b": {
          "model_module": "@jupyter-widgets/controls",
          "model_name": "HTMLModel",
          "model_module_version": "1.5.0",
          "state": {
            "_dom_classes": [],
            "_model_module": "@jupyter-widgets/controls",
            "_model_module_version": "1.5.0",
            "_model_name": "HTMLModel",
            "_view_count": null,
            "_view_module": "@jupyter-widgets/controls",
            "_view_module_version": "1.5.0",
            "_view_name": "HTMLView",
            "description": "",
            "description_tooltip": null,
            "layout": "IPY_MODEL_79b629f3dda748fda433e1318e4b185b",
            "placeholder": "​",
            "style": "IPY_MODEL_0f5d9896afc14eabb892d6093c3fc912",
            "value": "model.safetensors: 100%"
          }
        },
        "8e7e1a8329f34ab4a6712e62fa978f9b": {
          "model_module": "@jupyter-widgets/controls",
          "model_name": "FloatProgressModel",
          "model_module_version": "1.5.0",
          "state": {
            "_dom_classes": [],
            "_model_module": "@jupyter-widgets/controls",
            "_model_module_version": "1.5.0",
            "_model_name": "FloatProgressModel",
            "_view_count": null,
            "_view_module": "@jupyter-widgets/controls",
            "_view_module_version": "1.5.0",
            "_view_name": "ProgressView",
            "bar_style": "success",
            "description": "",
            "description_tooltip": null,
            "layout": "IPY_MODEL_01b3248fcd4c4e0eae218581bb1ce8a3",
            "max": 501338056,
            "min": 0,
            "orientation": "horizontal",
            "style": "IPY_MODEL_6249c37eee0e4ab8b0b330cfa5222b10",
            "value": 501338056
          }
        },
        "cd3c9390660c425382154aaaa850835d": {
          "model_module": "@jupyter-widgets/controls",
          "model_name": "HTMLModel",
          "model_module_version": "1.5.0",
          "state": {
            "_dom_classes": [],
            "_model_module": "@jupyter-widgets/controls",
            "_model_module_version": "1.5.0",
            "_model_name": "HTMLModel",
            "_view_count": null,
            "_view_module": "@jupyter-widgets/controls",
            "_view_module_version": "1.5.0",
            "_view_name": "HTMLView",
            "description": "",
            "description_tooltip": null,
            "layout": "IPY_MODEL_7d9cc1935d03472b96616011805d2b1a",
            "placeholder": "​",
            "style": "IPY_MODEL_7724ec4507c04832848ef681a6ae3abf",
            "value": " 501M/501M [00:04&lt;00:00, 137MB/s]"
          }
        },
        "c221be69496046acb09fac39b22f0b6c": {
          "model_module": "@jupyter-widgets/base",
          "model_name": "LayoutModel",
          "model_module_version": "1.2.0",
          "state": {
            "_model_module": "@jupyter-widgets/base",
            "_model_module_version": "1.2.0",
            "_model_name": "LayoutModel",
            "_view_count": null,
            "_view_module": "@jupyter-widgets/base",
            "_view_module_version": "1.2.0",
            "_view_name": "LayoutView",
            "align_content": null,
            "align_items": null,
            "align_self": null,
            "border": null,
            "bottom": null,
            "display": null,
            "flex": null,
            "flex_flow": null,
            "grid_area": null,
            "grid_auto_columns": null,
            "grid_auto_flow": null,
            "grid_auto_rows": null,
            "grid_column": null,
            "grid_gap": null,
            "grid_row": null,
            "grid_template_areas": null,
            "grid_template_columns": null,
            "grid_template_rows": null,
            "height": null,
            "justify_content": null,
            "justify_items": null,
            "left": null,
            "margin": null,
            "max_height": null,
            "max_width": null,
            "min_height": null,
            "min_width": null,
            "object_fit": null,
            "object_position": null,
            "order": null,
            "overflow": null,
            "overflow_x": null,
            "overflow_y": null,
            "padding": null,
            "right": null,
            "top": null,
            "visibility": null,
            "width": null
          }
        },
        "79b629f3dda748fda433e1318e4b185b": {
          "model_module": "@jupyter-widgets/base",
          "model_name": "LayoutModel",
          "model_module_version": "1.2.0",
          "state": {
            "_model_module": "@jupyter-widgets/base",
            "_model_module_version": "1.2.0",
            "_model_name": "LayoutModel",
            "_view_count": null,
            "_view_module": "@jupyter-widgets/base",
            "_view_module_version": "1.2.0",
            "_view_name": "LayoutView",
            "align_content": null,
            "align_items": null,
            "align_self": null,
            "border": null,
            "bottom": null,
            "display": null,
            "flex": null,
            "flex_flow": null,
            "grid_area": null,
            "grid_auto_columns": null,
            "grid_auto_flow": null,
            "grid_auto_rows": null,
            "grid_column": null,
            "grid_gap": null,
            "grid_row": null,
            "grid_template_areas": null,
            "grid_template_columns": null,
            "grid_template_rows": null,
            "height": null,
            "justify_content": null,
            "justify_items": null,
            "left": null,
            "margin": null,
            "max_height": null,
            "max_width": null,
            "min_height": null,
            "min_width": null,
            "object_fit": null,
            "object_position": null,
            "order": null,
            "overflow": null,
            "overflow_x": null,
            "overflow_y": null,
            "padding": null,
            "right": null,
            "top": null,
            "visibility": null,
            "width": null
          }
        },
        "0f5d9896afc14eabb892d6093c3fc912": {
          "model_module": "@jupyter-widgets/controls",
          "model_name": "DescriptionStyleModel",
          "model_module_version": "1.5.0",
          "state": {
            "_model_module": "@jupyter-widgets/controls",
            "_model_module_version": "1.5.0",
            "_model_name": "DescriptionStyleModel",
            "_view_count": null,
            "_view_module": "@jupyter-widgets/base",
            "_view_module_version": "1.2.0",
            "_view_name": "StyleView",
            "description_width": ""
          }
        },
        "01b3248fcd4c4e0eae218581bb1ce8a3": {
          "model_module": "@jupyter-widgets/base",
          "model_name": "LayoutModel",
          "model_module_version": "1.2.0",
          "state": {
            "_model_module": "@jupyter-widgets/base",
            "_model_module_version": "1.2.0",
            "_model_name": "LayoutModel",
            "_view_count": null,
            "_view_module": "@jupyter-widgets/base",
            "_view_module_version": "1.2.0",
            "_view_name": "LayoutView",
            "align_content": null,
            "align_items": null,
            "align_self": null,
            "border": null,
            "bottom": null,
            "display": null,
            "flex": null,
            "flex_flow": null,
            "grid_area": null,
            "grid_auto_columns": null,
            "grid_auto_flow": null,
            "grid_auto_rows": null,
            "grid_column": null,
            "grid_gap": null,
            "grid_row": null,
            "grid_template_areas": null,
            "grid_template_columns": null,
            "grid_template_rows": null,
            "height": null,
            "justify_content": null,
            "justify_items": null,
            "left": null,
            "margin": null,
            "max_height": null,
            "max_width": null,
            "min_height": null,
            "min_width": null,
            "object_fit": null,
            "object_position": null,
            "order": null,
            "overflow": null,
            "overflow_x": null,
            "overflow_y": null,
            "padding": null,
            "right": null,
            "top": null,
            "visibility": null,
            "width": null
          }
        },
        "6249c37eee0e4ab8b0b330cfa5222b10": {
          "model_module": "@jupyter-widgets/controls",
          "model_name": "ProgressStyleModel",
          "model_module_version": "1.5.0",
          "state": {
            "_model_module": "@jupyter-widgets/controls",
            "_model_module_version": "1.5.0",
            "_model_name": "ProgressStyleModel",
            "_view_count": null,
            "_view_module": "@jupyter-widgets/base",
            "_view_module_version": "1.2.0",
            "_view_name": "StyleView",
            "bar_color": null,
            "description_width": ""
          }
        },
        "7d9cc1935d03472b96616011805d2b1a": {
          "model_module": "@jupyter-widgets/base",
          "model_name": "LayoutModel",
          "model_module_version": "1.2.0",
          "state": {
            "_model_module": "@jupyter-widgets/base",
            "_model_module_version": "1.2.0",
            "_model_name": "LayoutModel",
            "_view_count": null,
            "_view_module": "@jupyter-widgets/base",
            "_view_module_version": "1.2.0",
            "_view_name": "LayoutView",
            "align_content": null,
            "align_items": null,
            "align_self": null,
            "border": null,
            "bottom": null,
            "display": null,
            "flex": null,
            "flex_flow": null,
            "grid_area": null,
            "grid_auto_columns": null,
            "grid_auto_flow": null,
            "grid_auto_rows": null,
            "grid_column": null,
            "grid_gap": null,
            "grid_row": null,
            "grid_template_areas": null,
            "grid_template_columns": null,
            "grid_template_rows": null,
            "height": null,
            "justify_content": null,
            "justify_items": null,
            "left": null,
            "margin": null,
            "max_height": null,
            "max_width": null,
            "min_height": null,
            "min_width": null,
            "object_fit": null,
            "object_position": null,
            "order": null,
            "overflow": null,
            "overflow_x": null,
            "overflow_y": null,
            "padding": null,
            "right": null,
            "top": null,
            "visibility": null,
            "width": null
          }
        },
        "7724ec4507c04832848ef681a6ae3abf": {
          "model_module": "@jupyter-widgets/controls",
          "model_name": "DescriptionStyleModel",
          "model_module_version": "1.5.0",
          "state": {
            "_model_module": "@jupyter-widgets/controls",
            "_model_module_version": "1.5.0",
            "_model_name": "DescriptionStyleModel",
            "_view_count": null,
            "_view_module": "@jupyter-widgets/base",
            "_view_module_version": "1.2.0",
            "_view_name": "StyleView",
            "description_width": ""
          }
        }
      }
    }
  },
  "cells": [
    {
      "cell_type": "markdown",
      "metadata": {
        "id": "view-in-github",
        "colab_type": "text"
      },
      "source": [
        "<a href=\"https://colab.research.google.com/github/667029/KVP10k/blob/main/LayoutLMv3_kvp10k.ipynb\" target=\"_parent\"><img src=\"https://colab.research.google.com/assets/colab-badge.svg\" alt=\"Open In Colab\"/></a>"
      ]
    },
    {
      "cell_type": "markdown",
      "source": [
        "Sitering for å bruke Modellen\n",
        "\n",
        "```\n",
        "@inproceedings{huang2022layoutlmv3,\n",
        "  author={Yupan Huang and Tengchao Lv and Lei Cui and Yutong Lu and Furu Wei},\n",
        "  title={LayoutLMv3: Pre-training for Document AI with Unified Text and Image Masking},\n",
        "  booktitle={Proceedings of the 30th ACM International Conference on Multimedia},\n",
        "  year={2022}\n",
        "}\n",
        "```"
      ],
      "metadata": {
        "id": "_ri7o_DyrGgh"
      }
    },
    {
      "cell_type": "code",
      "source": [
        "import os              #navigere mapper og filer, hente filbaner\n",
        "from PIL import Image  #åpne, vise og manipulere bilder\n",
        "import json            #lese/skrive til JSON-filer\n",
        "\n",
        "\n",
        "#Installer nødvendige biblioteker\n",
        "!pip install -q Pillow\n",
        "!pip install -q transformers datasets torch torchvision"
      ],
      "metadata": {
        "id": "pCNtevUl6Lc4"
      },
      "execution_count": 32,
      "outputs": []
    },
    {
      "cell_type": "code",
      "execution_count": 33,
      "metadata": {
        "id": "53oEUaCEnV5V",
        "colab": {
          "base_uri": "https://localhost:8080/"
        },
        "outputId": "d69a113f-1fb0-4963-b29b-2c3d42d7899e"
      },
      "outputs": [
        {
          "output_type": "stream",
          "name": "stdout",
          "text": [
            "Drive already mounted at /content/drive; to attempt to forcibly remount, call drive.mount(\"/content/drive\", force_remount=True).\n"
          ]
        }
      ],
      "source": [
        "from google.colab import drive\n",
        "drive.mount('/content/drive')"
      ]
    },
    {
      "cell_type": "code",
      "source": [
        "base_path = \"/content/drive/MyDrive/DAT255/KVP10k-dataset/train\"\n",
        "print(os.listdir(base_path))"
      ],
      "metadata": {
        "id": "sG03nbg7VELk",
        "colab": {
          "base_uri": "https://localhost:8080/"
        },
        "outputId": "59f4226d-5e24-438b-b245-3b93ce91a2b7"
      },
      "execution_count": 34,
      "outputs": [
        {
          "output_type": "stream",
          "name": "stdout",
          "text": [
            "['ocrs', 'gts', 'images', 'items']\n"
          ]
        }
      ]
    },
    {
      "cell_type": "markdown",
      "source": [
        "# LayoutLMv3 - Hva skal jeg bruke?"
      ],
      "metadata": {
        "id": "5FA-ID2DJ6TN"
      }
    },
    {
      "cell_type": "markdown",
      "source": [
        "- Steg 1. Må utføre Entity Extraction (EE).\n",
        "\n",
        "- Steg 2. Utføre Relation Exctraction (RE). Formaliser RE som et matrise-problem, hvor man for alle par av entiteter **predikerer** om en relasjon finnes.\n",
        "  - Relasjoner kan representeres som en N x N matrise over entitets-paret (i, j).\n",
        "\n",
        "- Bruk en enkelt treningspipeline.\n",
        "\n",
        "- Bruke **LayoutLMv3Processor** for å kombinere bilde, tekst, og bboxes, for å lage den input modellen krever.\n",
        "\n",
        "- Bruke **LayoutLMv3ForTokenClassification** som modell for per-token tagging (EE).\n",
        "  - Denne brukes for Entity tagging.\n",
        "  - UTVID MED --> Ekstra kode for \"*span grouping*\" og \"*entity embedding*\".\n",
        "\n",
        "_____\n",
        "\n",
        "Steg 1:\n",
        "  - Tagge tokens med (O, B-KEY, B-VALUE, I-KEY, I-VALUE), og derretter koble KEY --> VALUE.\n",
        "\n",
        "Label-mappinger:\n",
        "\n",
        "\n",
        "```\n",
        "label2id = {\n",
        "    \"O\": 0,\n",
        "    \"B-KEY\": 1,\n",
        "    \"I-KEY\": 2,\n",
        "    \"B-VALUE\": 3,\n",
        "    \"I-VALUE\": 4,\n",
        "}\n",
        "```\n",
        "\n",
        "\n",
        "\n",
        "Steg 2:\n",
        "LayoutLMv3Model er grunnlag for RE.\n",
        "For å bruke denne modellen som egentlig er PyTorch Native, må vi bruke installere *transformers* og bruke PyTorch-backend.\n",
        "UTVID med --> Egen relasjonsklassifisering mellom *key* og *value* spans\n",
        "  - Kobling mellom key og value:\n",
        "    1. Hente predikerte spans fra EE\n",
        "    2. Lage relasjonsprediksjonsmodell RE\n",
        "\n",
        "*Hentet fra:* https://arxiv.org/html/2404.10848v1\n"
      ],
      "metadata": {
        "id": "f5Y1LTywKg4s"
      }
    },
    {
      "cell_type": "markdown",
      "source": [
        "# Oppsummert\n",
        "\n",
        "- Bruke LayoutLMv3Processor for å kombinere bilde, tokens, og bounding boxes (bboxes).\n",
        "\n",
        "- Bruke LayoutLMv3ForTokenClassification til å tagge tokens som B-KEY, B-VALYE, O, etc.\n",
        "\n",
        "\n",
        "1. Må utvide LayoutLMv3Model til å hente embeddings.\n",
        "2. Implementere RE ved å sammenligne KVPs.\n",
        "3. Evaluer RE med F1/Precision/Recall per relasjon."
      ],
      "metadata": {
        "id": "Si04z3FqTSTn"
      }
    },
    {
      "cell_type": "markdown",
      "source": [
        "#PyTorch (+ Hugging Face)\n",
        "LayoutLMv3 er en del av *transformers*-biblioteket til Hugging Face.\n",
        "Dette betyr at enten så må hele pipelinen utvikles i PyTorch, eller utvikle bare EE i PyTorch og få KEY-VALUE-Spans, så brukes TensorFlow for resten.\n",
        "\n",
        "- Siden jeg er generelt usikker på begge bibliotekene så får vi se hva som blir valgt etterhvert...\n"
      ],
      "metadata": {
        "id": "Ygiu9tTWekZE"
      }
    },
    {
      "cell_type": "markdown",
      "source": [
        "# Dataset - forståelse\n",
        "\n",
        "**Innhold i train/-mappen i KVP10k:**\n",
        "_____\n",
        "  - *images*/ --> .png bilder av hvert dokument. Visuell input for modellen.\n",
        "    - Det modellen \"ser\".\n",
        "_____\n",
        "\n",
        "  - *ocrs*/ --> JSON-filer med **words** og **bboxes** for hvert dokument. Gir tekst og posisjoner fra OCR, og brukes sammen med images.\n",
        "    - Det modellen \"leser\" (tokens og posisjonene deres).\n",
        "\n",
        "_____\n",
        "\n",
        "  - *gts*/ --> JSON-filer med KVPs og tilhørende bboxes. Inneholder hvilke keys og values som hører sammen.\n",
        "    - Det som lærer modellen hvilke tokens som er nøkler, verdier, og hvilket som er koblet sammen.\n",
        "_____\n",
        "\n",
        "  - *items*/ --> JSON-filer med annotasjoner og layout-objs (rektangler, linker, etiketter)\n",
        "    - tilleggsinformasjon\n",
        "_____"
      ],
      "metadata": {
        "id": "GHspumq8r7Xt"
      }
    },
    {
      "cell_type": "markdown",
      "source": [
        "# STEG 1 - Entity Exctraction"
      ],
      "metadata": {
        "id": "BclQA7plg6nF"
      }
    },
    {
      "cell_type": "markdown",
      "source": [
        "Preprosesser et datapunkt.\n",
        "Lese inn:\n",
        "  - OCR-data (tekst + bbox)\n",
        "  - Ground Truth (gts, key/value + bbox)\n",
        "  - Dokumentbilde (.png)\n",
        "\n",
        "\n",
        "**Det brukes BIO-tagger, og dette er hva det står for:**\n",
        " - B --> Begin: første token i en entitet.\n",
        " - I --> Inside: inne i en entitet.\n",
        " - O --> Outside: tokenen er ikke en del av noen entitet\n",
        "\n",
        "f.eks.\n",
        "  - Tokens:  [\"Name\", \"of\", \"buyer\", \":\", \"Ole\", \"Martin\", \"Lystadmoen\"]\n",
        "  - Labels:  [\"B-KEY\", \"I-KEY\", \"I-KEY\", \"O\", \"B-VALUE\", \"I-VALUE\", \"I-VALUE\"]"
      ],
      "metadata": {
        "id": "o3zE07qbqnDl"
      }
    },
    {
      "cell_type": "code",
      "source": [
        "from transformers import LayoutLMv3Processor\n",
        "import torch\n",
        "\n",
        "processor = LayoutLMv3Processor.from_pretrained(\"microsoft/layoutlmv3-base\", apply_ocr=False) # <-- Viktig fordi vi allerede har utført OCR på bildet og har tekst og bboxes"
      ],
      "metadata": {
        "id": "XoaEcIXlhBwY"
      },
      "execution_count": 35,
      "outputs": []
    },
    {
      "cell_type": "code",
      "source": [
        "# Mapping fra tekstlige BIO-labels til tall som modellen bruker\n",
        "label_map = {\n",
        "    \"O\": 0,\n",
        "    \"B-KEY\": 1,\n",
        "    \"I-KEY\": 2,\n",
        "    \"B-VALUE\": 3,\n",
        "    \"I-VALUE\": 4,\n",
        "}\n",
        "\n",
        "# Funksjon for å skalere bounding boxes til 0-1000 (som LayoutLMv3 krever)\n",
        "def normalize_bbox(bbox, width, height):\n",
        "  return [\n",
        "      int(1000 * (bbox[0] /width)),\n",
        "      int(1000 * (bbox[1] / height)),\n",
        "      int(1000 * (bbox[2] / width)),\n",
        "      int(1000 * (bbox[3] / height))\n",
        "  ]\n",
        "\n",
        "\n",
        "def assign_label_for_box(box, boxes, label_type):\n",
        "  \"\"\"Returnerer liste med (index, label) for tokens osm overlapper box\"\"\"\n",
        "  overlaps = []\n",
        "  for i, token_box in enumerate(boxes):\n",
        "    if box_overlap(box, token_box) > 0:\n",
        "      overlaps.append(i)\n",
        "\n",
        "  overlaps = sorted(overlaps)\n",
        "\n",
        "  labeled = []\n",
        "  for j, idx in enumerate(overlaps):\n",
        "    tag = f\"B-{label_type}\" if j == 0 else f\"I-{label_type}\"\n",
        "    labeled.append((idx, tag))\n",
        "\n",
        "  return labeled\n",
        "\n",
        "\n",
        " #Sjekker om OCR-boksen overlapper med GTS(key/value)-boksen.\n",
        "#Ved overlapp hører de til hverandre.\n",
        "def box_overlap(box1, box2):\n",
        "  x0 = max(box1[0], box2[0])\n",
        "  y0 = max(box1[1], box2[1])\n",
        "  x1 = min(box1[2], box2[2])\n",
        "  y1 = min(box1[3], box2[3])\n",
        "  return max(0, x1 - x0) * max(0, y1 - y0)\n",
        "\n",
        "\n",
        "# Funksjon for å generere BIO-labels fra gts (ground truth).\n",
        "# Lager en BIO-label for hvert token basert på om det overlapper med en key- eller value-boks fra GTS.\n",
        "# Matcher hvert token fra OCR (word + bbox) mot key/value-bbokser fra gts:\n",
        "# --> Token overlapper en nøkkelboks: B-KEY eller I-KEY\n",
        "# --> Token overlapper en verdiboks: B-VALUE eller I-VALUE\n",
        "# --> Ellers: O\n",
        "def iob_from_kvps(words, boxes, kvps):\n",
        "  labels = [\"O\"] * len(words)\n",
        "\n",
        "  #Gå igjennom alle key-value-pairs\n",
        "  for kvp in kvps:\n",
        "    if \"key\" in kvp and \"bbox\" in kvp[\"key\"]:\n",
        "      key_bbox = kvp[\"key\"][\"bbox\"]\n",
        "      for idx, tag in assign_label_for_box(key_bbox, boxes, \"KEY\"):\n",
        "        labels[idx] = tag\n",
        "\n",
        "    if \"value\" in kvp and \"bbox\" in kvp[\"value\"]:\n",
        "      value_box = kvp[\"value\"][\"bbox\"]\n",
        "      for idx, tag in assign_label_for_box(value_box, boxes, \"VALUE\"):\n",
        "        labels[idx] = tag\n",
        "\n",
        "  return labels"
      ],
      "metadata": {
        "id": "uJl6cAPtMnQS"
      },
      "execution_count": 41,
      "outputs": []
    },
    {
      "cell_type": "code",
      "source": [
        "def load_example(doc_id, base_path):\n",
        "  image_path = os.path.join(base_path, \"images\", f\"{doc_id}.png\")\n",
        "  ocr_path = os.path.join(base_path, \"ocrs\", f\"{doc_id}.json\")\n",
        "  gt_path = os.path.join(base_path, \"gts\", f\"{doc_id}.json\")\n",
        "\n",
        "  image = Image.open(image_path).convert(\"RGB\")\n",
        "\n",
        "  with open(ocr_path, \"r\", encoding=\"utf-8\") as f:\n",
        "    ocr_data = json.load(f)\n",
        "\n",
        "  with open(gt_path, \"r\", encoding=\"utf-8\") as f:\n",
        "    gt_data = json.load(f)\n",
        "\n",
        "  page = ocr_data[\"pages\"][0]\n",
        "  width, height = page[\"width\"], page[\"height\"]\n",
        "\n",
        "  words = [w[\"text\"] for w in page[\"words\"]]\n",
        "  raw_boxes = [w[\"bbox\"] for w in page[\"words\"]]\n",
        "  boxes = [normalize_bbox(b, width, height) for b in raw_boxes]\n",
        "\n",
        "  kvps = gt_data[\"kvps_list\"]\n",
        "  string_labels = iob_from_kvps(words, raw_boxes, kvps)\n",
        "  labels = [label_map[l] for l in string_labels]\n",
        "\n",
        "  #Fyller på med padding, og truncation klipper av hvis sekvensen har for mange tokens, returnerer som PyTorch-tensor\n",
        "  encoding = processor(image, words, boxes=boxes, word_labels=labels, padding=\"max_length\", truncation=True, return_tensors=\"pt\")\n",
        "\n",
        "  return encoding, words, boxes, string_labels"
      ],
      "metadata": {
        "id": "oW6bF5fQrR6x"
      },
      "execution_count": 42,
      "outputs": []
    },
    {
      "cell_type": "code",
      "source": [
        "doc_id = \"aaf8db8517856054da0210f56f97e0acb910ca9a96be8d295050b3c9990ff8ed\" #Eksempel dok. fra KVP10k\n",
        "encoding, words, boxes, tags = load_example(doc_id, base_path)\n",
        "\n",
        "print(encoding.keys())\n",
        "\n",
        "#for w, t in zip(words, tags):\n",
        " # print(f\"{w}: {t}\")"
      ],
      "metadata": {
        "colab": {
          "base_uri": "https://localhost:8080/"
        },
        "id": "H_BQwlWGveFh",
        "outputId": "7478ddbf-2482-4f9e-8418-d6d9cac198d8"
      },
      "execution_count": 45,
      "outputs": [
        {
          "output_type": "stream",
          "name": "stdout",
          "text": [
            "dict_keys(['input_ids', 'attention_mask', 'bbox', 'labels', 'pixel_values'])\n"
          ]
        }
      ]
    },
    {
      "cell_type": "markdown",
      "source": [
        "Grunnen til at det er så mye \"O\"-tagger er fordi det typisk i slike dokument-annotasjonsdatasett så er andelen tokens som er relevant (KEY/VAL) ofte kun 5-15% av ALLE tokens."
      ],
      "metadata": {
        "id": "gVQnDjFeg3-n"
      }
    },
    {
      "cell_type": "markdown",
      "source": [
        "# Hva er gjort så langt?\n",
        "\n",
        "- Lest inn images, ocrs, gts\n",
        "- Laget BIO-tagger\n",
        "- Verifisert at tokens for korrekte tagger\n",
        "- En fungerende load_example()\n",
        "\n",
        "\n",
        "# Neste blir å lage et Dataset-objekt for trening"
      ],
      "metadata": {
        "id": "SN6P9-NnksB6"
      }
    },
    {
      "cell_type": "code",
      "source": [
        "def get_doc_ids(base_path):\n",
        "  return [filename.replace(\".json\", \"\") for filename in os.listdir(os.path.join(base_path, \"ocrs\"))]"
      ],
      "metadata": {
        "id": "uJBmaskUlOV_"
      },
      "execution_count": 44,
      "outputs": []
    },
    {
      "cell_type": "code",
      "source": [
        "from torch.utils.data import Dataset\n",
        "\n",
        "class KVP10kDataset(Dataset):\n",
        "  def __init__(self, base_path, doc_ids):\n",
        "    self.base_path = base_path\n",
        "    self.doc_ids = doc_ids\n",
        "    self.valid_doc_ids = []\n",
        "\n",
        "    for doc_id in self.doc_ids:\n",
        "      try:\n",
        "        load_example(doc_id, base_path)\n",
        "        self.valid_doc_ids.append(doc_id)\n",
        "      except Exception as e:\n",
        "        print(f\"Feil i {doc_id}: {e}\")\n",
        "\n",
        "  def __len__(self):\n",
        "    return len(self.doc_ids)\n",
        "\n",
        "  def __getitem__(self, idx):\n",
        "    doc_id = self.valid_doc_ids[idx]\n",
        "    encoding, _, _ , _ = load_example(doc_id, self.base_path)\n",
        "\n",
        "    return {\n",
        "          \"input_ids\": encoding[\"input_ids\"].squeeze(0),\n",
        "          \"attention_mask\": encoding[\"attention_mask\"].squeeze(0),\n",
        "          \"bbox\": encoding[\"bbox\"].squeeze(0),\n",
        "          \"labels\": encoding[\"labels\"].squeeze(0),\n",
        "          \"pixel_values\": encoding[\"pixel_values\"].squeeze(0)\n",
        "\n",
        "    }\n"
      ],
      "metadata": {
        "id": "ceMqZQLntazp"
      },
      "execution_count": 53,
      "outputs": []
    },
    {
      "cell_type": "code",
      "source": [
        "doc_ids = get_doc_ids(base_path)[:200] #Hentur kun 200 docs for nå\n",
        "dataset = KVP10kDataset(base_path, doc_ids)\n",
        "\n",
        "print(\"Antall gyldig dokumenter:\", len(dataset))\n",
        "\n",
        "sample = dataset[0]\n",
        "print(sample.keys())\n",
        "\n",
        "#Bruk denne nå preprosesserings koden er bevist å være helt korrekt og produserer data slik det ønskes\n",
        "#torch.save(dataset, \"/content/drive/MyDrive/kvp10k_tensor_dataset.pt\")"
      ],
      "metadata": {
        "colab": {
          "base_uri": "https://localhost:8080/"
        },
        "id": "E2dz2DCOwocK",
        "outputId": "3ed8ac5b-b3ed-490e-bc11-fb86cde730ea"
      },
      "execution_count": 55,
      "outputs": [
        {
          "output_type": "stream",
          "name": "stdout",
          "text": [
            "Antall gyldig dokumenter: 200\n",
            "dict_keys(['input_ids', 'attention_mask', 'bbox', 'labels', 'pixel_values'])\n"
          ]
        }
      ]
    },
    {
      "cell_type": "markdown",
      "source": [
        "# Dataloader\n",
        "**Når man jobber i Colab:**\n",
        " - CPU    --> num_workers = 2-4\n",
        " - T4 GPU --> num_workers = 2 + pin_memory = True\n",
        " - A100   --> num_workers = 4-8\n",
        "____\n",
        "*num_workers:*\n",
        "- Antall parallelle prosesser som laster data i bakgrunn.\n",
        "- Hvor mange CPU-kjerner som brukes.\n",
        "\n",
        "*pin_memory:*\n",
        "- Data lastes i pinned RAM --> raskere overføring til GPU.\n",
        "- Når man bruker GPU.\n",
        "\n",
        "*persistent_workers:*\n",
        "- Holder dataarbeidere i live mellom epoker --> reduserer oppstartskostnader.\n",
        "- kombineres med *num_workers* > 0"
      ],
      "metadata": {
        "id": "O2jLwhyn32L5"
      }
    },
    {
      "cell_type": "code",
      "source": [
        "def collate_fn(batch):\n",
        "  batch = [b for b in batch if b is not None]\n",
        "  if len(batch) == 0:\n",
        "    return None\n",
        "\n",
        "  return {\n",
        "      key: torch.stack([b[key] for b in batch]) for key in batch[0]\n",
        "  }"
      ],
      "metadata": {
        "id": "kkhxvrcf6f8u"
      },
      "execution_count": 57,
      "outputs": []
    },
    {
      "cell_type": "code",
      "source": [
        "from torch.utils.data import DataLoader\n",
        "\n",
        "dataloader = DataLoader (\n",
        "    dataset,\n",
        "    batch_size = 4,\n",
        "    shuffle = True,\n",
        "    collate_fn = collate_fn, # Brukes kun her for sikkerhet slik at om modellen ikke skal feile under trening\n",
        "    num_workers = 2,\n",
        "    pin_memory = True,\n",
        "    persistent_workers = True\n",
        ")"
      ],
      "metadata": {
        "id": "nmoWgrsN36W4"
      },
      "execution_count": 58,
      "outputs": []
    },
    {
      "cell_type": "markdown",
      "source": [
        "# Klargjør modellen"
      ],
      "metadata": {
        "id": "yB4gA1jE8lRz"
      }
    },
    {
      "cell_type": "code",
      "source": [
        "from transformers import LayoutLMv3ForTokenClassification\n",
        "\n",
        "id2label = {\n",
        "    0: \"O\",\n",
        "    1: \"B-KEY\",\n",
        "    2: \"I-KEY\",\n",
        "    3: \"B-VALUE\",\n",
        "    4: \"I-VALUE\",\n",
        "}\n",
        "\n",
        "label2id = {\n",
        "    \"O\": 0,\n",
        "    \"B-KEY\": 1,\n",
        "    \"I-KEY\": 2,\n",
        "    \"B-VALUE\": 3,\n",
        "    \"I-VALUE\": 4,\n",
        "}\n",
        "\n",
        "model = LayoutLMv3ForTokenClassification.from_pretrained(\n",
        "    \"microsoft/layoutlmv3-base\",\n",
        "    num_labels = len(id2label),\n",
        "    id2label = id2label,\n",
        "    label2id = label2id,\n",
        ")"
      ],
      "metadata": {
        "colab": {
          "base_uri": "https://localhost:8080/",
          "height": 137,
          "referenced_widgets": [
            "477e1401fbe04dc0a79363060d15cd29",
            "fd79119671fd4c0e9f230d94a5a6161f",
            "96d38e35357e46918904e0642bfe513f",
            "80c75fe4009445acad7229ca7add27d1",
            "a286a4d0fde544cca7c8511fd9d18542",
            "2c88917f8cef49adb58575d225ebfd8f",
            "232e6f959e174770b0bfeeeb5897f1f4",
            "2cb03f0ed3d9405d879252aef13acdf9",
            "d6cef509f342433f9a0d9ffea9a9c75c",
            "f67cdf6971854c25964d43a81e8aece4",
            "d74db5ddbb544518928a4b51584962ae",
            "276ce64ff77746b7ae6119b3c3febb80",
            "891e73843eb94920b35211a7234ca39b",
            "8e7e1a8329f34ab4a6712e62fa978f9b",
            "cd3c9390660c425382154aaaa850835d",
            "c221be69496046acb09fac39b22f0b6c",
            "79b629f3dda748fda433e1318e4b185b",
            "0f5d9896afc14eabb892d6093c3fc912",
            "01b3248fcd4c4e0eae218581bb1ce8a3",
            "6249c37eee0e4ab8b0b330cfa5222b10",
            "7d9cc1935d03472b96616011805d2b1a",
            "7724ec4507c04832848ef681a6ae3abf"
          ]
        },
        "id": "lOnn9ZJu8of9",
        "outputId": "8dd2a437-06aa-4c10-a6a0-d390498bf717"
      },
      "execution_count": 59,
      "outputs": [
        {
          "output_type": "display_data",
          "data": {
            "text/plain": [
              "config.json:   0%|          | 0.00/856 [00:00<?, ?B/s]"
            ],
            "application/vnd.jupyter.widget-view+json": {
              "version_major": 2,
              "version_minor": 0,
              "model_id": "477e1401fbe04dc0a79363060d15cd29"
            }
          },
          "metadata": {}
        },
        {
          "output_type": "display_data",
          "data": {
            "text/plain": [
              "model.safetensors:   0%|          | 0.00/501M [00:00<?, ?B/s]"
            ],
            "application/vnd.jupyter.widget-view+json": {
              "version_major": 2,
              "version_minor": 0,
              "model_id": "276ce64ff77746b7ae6119b3c3febb80"
            }
          },
          "metadata": {}
        },
        {
          "output_type": "stream",
          "name": "stderr",
          "text": [
            "Some weights of LayoutLMv3ForTokenClassification were not initialized from the model checkpoint at microsoft/layoutlmv3-base and are newly initialized: ['classifier.bias', 'classifier.weight']\n",
            "You should probably TRAIN this model on a down-stream task to be able to use it for predictions and inference.\n"
          ]
        }
      ]
    },
    {
      "cell_type": "code",
      "source": [
        "batch = next(iter(dataloader))\n",
        "\n",
        "for k, v in batch.items():\n",
        "  print(f\"{k}: {v.shape}\")"
      ],
      "metadata": {
        "colab": {
          "base_uri": "https://localhost:8080/"
        },
        "id": "OzTp9L0X9d_u",
        "outputId": "255b5cc4-8e31-4b1d-c393-263676164d55"
      },
      "execution_count": 60,
      "outputs": [
        {
          "output_type": "stream",
          "name": "stdout",
          "text": [
            "input_ids: torch.Size([4, 512])\n",
            "attention_mask: torch.Size([4, 512])\n",
            "bbox: torch.Size([4, 512, 4])\n",
            "labels: torch.Size([4, 512])\n",
            "pixel_values: torch.Size([4, 3, 224, 224])\n"
          ]
        }
      ]
    },
    {
      "cell_type": "markdown",
      "source": [
        "Bruke GPU"
      ],
      "metadata": {
        "id": "ZE82t1ea-CXK"
      }
    },
    {
      "cell_type": "code",
      "source": [
        "device = torch.device(\"cuda\") if torch.cuda.is_available() else torch.device(\"cpu\")\n",
        "model.to(device)\n",
        "\n",
        "batch = {k: v.to(device) for k, v in batch.items()}"
      ],
      "metadata": {
        "id": "bk3zelSe9oX3"
      },
      "execution_count": 61,
      "outputs": []
    },
    {
      "cell_type": "code",
      "source": [
        "outputs = model(**batch)\n",
        "loss = outputs.loss\n",
        "logits = outputs.logits\n",
        "\n",
        "print(f\"Loss: {loss}\")\n",
        "print(f\"Logits: {logits.shape}\")"
      ],
      "metadata": {
        "colab": {
          "base_uri": "https://localhost:8080/"
        },
        "id": "eyBXYOwX-DqT",
        "outputId": "c19a7b39-85fb-4346-d9c5-c85d15ecaf32"
      },
      "execution_count": 62,
      "outputs": [
        {
          "output_type": "stream",
          "name": "stderr",
          "text": [
            "/usr/local/lib/python3.11/dist-packages/transformers/modeling_utils.py:1589: FutureWarning: The `device` argument is deprecated and will be removed in v5 of Transformers.\n",
            "  warnings.warn(\n"
          ]
        },
        {
          "output_type": "stream",
          "name": "stdout",
          "text": [
            "Loss: 1.5632420778274536\n",
            "Logits: torch.Size([4, 512, 5])\n"
          ]
        }
      ]
    },
    {
      "cell_type": "markdown",
      "source": [
        "Logits[4, 512, 5] forteller oss:\n",
        "- 4 --> Batch size\n",
        "- 512 --> maks sekvenslengde (tokens per dok.)\n",
        "- 5 --> antall labels fra BIO (O, B-VALUE, B-KEY, B-KEY, I-KEY)"
      ],
      "metadata": {
        "id": "T6fv4lWC-4Du"
      }
    },
    {
      "cell_type": "code",
      "source": [],
      "metadata": {
        "id": "PL55vVRi-PB3"
      },
      "execution_count": null,
      "outputs": []
    }
  ]
}
{
  "nbformat": 4,
  "nbformat_minor": 0,
  "metadata": {
    "colab": {
      "provenance": [],
      "authorship_tag": "ABX9TyO8CDpXrn+Xrw77Gewwk3E0",
      "include_colab_link": true
    },
    "kernelspec": {
      "name": "python3",
      "display_name": "Python 3"
    },
    "language_info": {
      "name": "python"
    }
  },
  "cells": [
    {
      "cell_type": "markdown",
      "metadata": {
        "id": "view-in-github",
        "colab_type": "text"
      },
      "source": [
        "<a href=\"https://colab.research.google.com/github/667029/KVP10k/blob/main/test.ipynb\" target=\"_parent\"><img src=\"https://colab.research.google.com/assets/colab-badge.svg\" alt=\"Open In Colab\"/></a>"
      ]
    },
    {
      "cell_type": "code",
      "source": [
        "from google.colab import drive\n",
        "drive.mount('/content/drive')"
      ],
      "metadata": {
        "colab": {
          "base_uri": "https://localhost:8080/"
        },
        "id": "LBwRb0ATldru",
        "outputId": "35286479-619b-45d9-8b78-9367dcc5df6c"
      },
      "execution_count": null,
      "outputs": [
        {
          "output_type": "stream",
          "name": "stdout",
          "text": [
            "Mounted at /content/drive\n"
          ]
        }
      ]
    },
    {
      "cell_type": "code",
      "source": [
        "!ls '/content/drive/MyDrive/KVP10k-dataset/train/gts' | head -n 5\n",
        "!ls '/content/drive/MyDrive/KVP10k-dataset/train/ocrs' | head -n 5\n",
        "!ls '/content/drive/MyDrive/KVP10k-dataset/train/items' | head -n 5\n",
        "!ls '/content/drive/MyDrive/KVP10k-dataset/train/images' | head -n 5\n",
        "!ls '/content/drive/MyDrive/KVP10k-dataset/train/images' | head -n 5"
      ],
      "metadata": {
        "id": "pRw6H6ba4tAI",
        "outputId": "8e0d7254-a158-410d-a9b4-cc4a78bf2319",
        "colab": {
          "base_uri": "https://localhost:8080/"
        }
      },
      "execution_count": 8,
      "outputs": [
        {
          "output_type": "stream",
          "name": "stdout",
          "text": [
            "00040fbaaab7ff89154294df0b25d0f4371999a9a90509ef172261dad6df8d41.json\n",
            "000ed89a36d9d1f0f8946c46b4ebaf2d4bf1b9040bb85beea5fbfd29a2842d29.json\n",
            "000f2ad361cbeebafb1880eb8f2096281775fbcdc94bba516146b612f0ef88ac.json\n",
            "0011924be22d7ec5f0438df6cffc160f7c7e4e7709cc358ed81184b13cc3ed42.json\n",
            "0024c931421fe0f9dee2310f5c357188babbd45382efd5c514bef8b5453a884f.json\n",
            "00040fbaaab7ff89154294df0b25d0f4371999a9a90509ef172261dad6df8d41.json\n",
            "000ed89a36d9d1f0f8946c46b4ebaf2d4bf1b9040bb85beea5fbfd29a2842d29.json\n",
            "000f2ad361cbeebafb1880eb8f2096281775fbcdc94bba516146b612f0ef88ac.json\n",
            "0011924be22d7ec5f0438df6cffc160f7c7e4e7709cc358ed81184b13cc3ed42.json\n",
            "0024c931421fe0f9dee2310f5c357188babbd45382efd5c514bef8b5453a884f.json\n",
            "00040fbaaab7ff89154294df0b25d0f4371999a9a90509ef172261dad6df8d41.json\n",
            "000ed89a36d9d1f0f8946c46b4ebaf2d4bf1b9040bb85beea5fbfd29a2842d29.json\n",
            "000f2ad361cbeebafb1880eb8f2096281775fbcdc94bba516146b612f0ef88ac.json\n",
            "0011924be22d7ec5f0438df6cffc160f7c7e4e7709cc358ed81184b13cc3ed42.json\n",
            "0024c931421fe0f9dee2310f5c357188babbd45382efd5c514bef8b5453a884f.json\n",
            "00040fbaaab7ff89154294df0b25d0f4371999a9a90509ef172261dad6df8d41 (1).png\n",
            "00040fbaaab7ff89154294df0b25d0f4371999a9a90509ef172261dad6df8d41.png\n",
            "000ed89a36d9d1f0f8946c46b4ebaf2d4bf1b9040bb85beea5fbfd29a2842d29.png\n",
            "000f2ad361cbeebafb1880eb8f2096281775fbcdc94bba516146b612f0ef88ac.png\n",
            "0011924be22d7ec5f0438df6cffc160f7c7e4e7709cc358ed81184b13cc3ed42.png\n"
          ]
        }
      ]
    },
    {
      "cell_type": "code",
      "source": [
        "data_path = '/content/drive/MyDrive/KVP10k-dataset/train/gts'"
      ],
      "metadata": {
        "id": "ZvZgFIWn4yNt"
      },
      "execution_count": 10,
      "outputs": []
    }
  ]
}
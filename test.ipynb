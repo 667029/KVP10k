{
  "nbformat": 4,
  "nbformat_minor": 0,
  "metadata": {
    "colab": {
      "provenance": [],
      "authorship_tag": "ABX9TyO8CDpXrn+Xrw77Gewwk3E0",
      "include_colab_link": true
    },
    "kernelspec": {
      "name": "python3",
      "display_name": "Python 3"
    },
    "language_info": {
      "name": "python"
    }
  },
  "cells": [
    {
      "cell_type": "markdown",
      "metadata": {
        "id": "view-in-github",
        "colab_type": "text"
      },
      "source": [
        "<a href=\"https://colab.research.google.com/github/667029/KVP10k/blob/main/test.ipynb\" target=\"_parent\"><img src=\"https://colab.research.google.com/assets/colab-badge.svg\" alt=\"Open In Colab\"/></a>"
      ]
    },
    {
      "cell_type": "code",
      "source": [
        "from google.colab import drive\n",
        "drive.mount('/content/drive')"
      ],
      "metadata": {
        "id": "LBwRb0ATldru"
      },
      "execution_count": null,
      "outputs": []
    },
    {
      "cell_type": "code",
      "source": [
        "!ls '/content/drive/MyDrive/KVP10k-dataset/train/gts' | head -n 5\n",
        "!ls '/content/drive/MyDrive/KVP10k-dataset/train/ocrs' | head -n 5\n",
        "!ls '/content/drive/MyDrive/KVP10k-dataset/train/items' | head -n 5\n",
        "!ls '/content/drive/MyDrive/KVP10k-dataset/train/images' | head -n 5\n",
        "!ls '/content/drive/MyDrive/KVP10k-dataset/train/images' | head -n 5"
      ],
      "metadata": {
        "id": "pRw6H6ba4tAI"
      },
      "execution_count": null,
      "outputs": []
    },
    {
      "cell_type": "code",
      "source": [
        "data_path = '/content/drive/MyDrive/KVP10k-dataset/train/gts'"
      ],
      "metadata": {
        "id": "ZvZgFIWn4yNt"
      },
      "execution_count": 10,
      "outputs": []
    }
  ]
}